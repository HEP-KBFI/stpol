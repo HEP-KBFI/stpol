{
 "metadata": {
  "name": ""
 },
 "nbformat": 3,
 "nbformat_minor": 0,
 "worksheets": [
  {
   "cells": [
    {
     "cell_type": "code",
     "collapsed": false,
     "input": [
      "from plots.histogramming.flat import analysis_tree\n",
      "from plots.common.cuts import Cuts, Weight, Weights"
     ],
     "language": "python",
     "metadata": {},
     "outputs": [
      {
       "output_type": "stream",
       "stream": "stdout",
       "text": [
        "Loading dependency libraries...\n",
        "Done loading dependency libraries..."
       ]
      },
      {
       "output_type": "stream",
       "stream": "stdout",
       "text": [
        "\n"
       ]
      }
     ],
     "prompt_number": 1
    },
    {
     "cell_type": "code",
     "collapsed": false,
     "input": [
      "baseline =  Cuts.mt_mu()*Cuts.lepton(\"mu\")*Cuts.hlt(\"mu\")\n",
      "cuts = [\n",
      "    (\"2j0t\", baseline*Cuts.n_jets(2)*Cuts.n_tags(0)),\n",
      "    (\"2j1t\", baseline*Cuts.n_jets(2)*Cuts.n_tags(1)),\n",
      "]\n",
      "\n",
      "topw = Weight(\"ttbar_weight\")\n",
      "weights = [\n",
      "    (\"top_pt_down\", Weights.no_weight),\n",
      "    (\"top_pt_nominal\", topw),\n",
      "    (\"top_pt_up\", topw*topw),\n",
      "]\n",
      "\n",
      "variables = [\n",
      "    (\"top_mass\", \"top_mass\", [10, 100, 300]),\n",
      "    (\"cos_theta\", \"cos_theta\", [20, -1, 1])\n",
      "]"
     ],
     "language": "python",
     "metadata": {},
     "outputs": [],
     "prompt_number": 12
    },
    {
     "cell_type": "code",
     "collapsed": false,
     "input": [
      "inf = [\n",
      "    \"data/Aug4_0eb863_full/mu/mc/iso/nominal/Jul15/TTJets_FullLept.root\",\n",
      "    \"data/Aug4_0eb863_full/mu/mc/iso/nominal/Jul15/TTJets_SemiLept.root\"\n",
      "]\n",
      "outf = \"test.root\"\n",
      "t, out = analysis_tree(cuts, weights, variables, inf, outf)\n",
      "for it in t:\n",
      "    it.recurseDown()\n",
      "out.tfile.Close()"
     ],
     "language": "python",
     "metadata": {},
     "outputs": [
      {
       "output_type": "stream",
       "stream": "stderr",
       "text": [
        "INFO:plots.histogramming.flat:Done constructing sample nodes: 2\n"
       ]
      },
      {
       "output_type": "stream",
       "stream": "stderr",
       "text": [
        "INFO:tree:Processing sample <Sample(TTJets_FullLept, data/Aug4_0eb863_full/mu/mc/iso/nominal/Jul15/TTJets_FullLept.root)>\n"
       ]
      },
      {
       "output_type": "stream",
       "stream": "stderr",
       "text": [
        "INFO:tree:Processed cut .2j0t => -1 -> 237640\n"
       ]
      },
      {
       "output_type": "stream",
       "stream": "stderr",
       "text": [
        "INFO:HistNode:data/Aug4_0eb863_full/mu/mc/iso/nominal/Jul15/TTJets_FullLept.root->2j0t->top_pt_down->cos_theta, 237640.0, 237640, 0.59\n"
       ]
      },
      {
       "output_type": "stream",
       "stream": "stderr",
       "text": [
        "INFO:HistNode:data/Aug4_0eb863_full/mu/mc/iso/nominal/Jul15/TTJets_FullLept.root->2j0t->top_pt_nominal->top_mass, 237640.0, 237640, 0.52\n"
       ]
      },
      {
       "output_type": "stream",
       "stream": "stderr",
       "text": [
        "INFO:HistNode:data/Aug4_0eb863_full/mu/mc/iso/nominal/Jul15/TTJets_FullLept.root->2j0t->top_pt_nominal->cos_theta, 237640.0, 237640, 0.59\n"
       ]
      },
      {
       "output_type": "stream",
       "stream": "stderr",
       "text": [
        "INFO:HistNode:data/Aug4_0eb863_full/mu/mc/iso/nominal/Jul15/TTJets_FullLept.root->2j0t->top_pt_down->top_mass, 237640.0, 237640, 0.52\n"
       ]
      },
      {
       "output_type": "stream",
       "stream": "stderr",
       "text": [
        "INFO:HistNode:data/Aug4_0eb863_full/mu/mc/iso/nominal/Jul15/TTJets_FullLept.root->2j0t->top_pt_up->top_mass, 237640.0, 237640, 0.53\n"
       ]
      },
      {
       "output_type": "stream",
       "stream": "stderr",
       "text": [
        "INFO:HistNode:data/Aug4_0eb863_full/mu/mc/iso/nominal/Jul15/TTJets_FullLept.root->2j0t->top_pt_up->cos_theta, 237640.0, 237640, 0.59\n"
       ]
      },
      {
       "output_type": "stream",
       "stream": "stderr",
       "text": [
        "INFO:tree:Processed cut .2j1t => -1 -> 233256\n"
       ]
      },
      {
       "output_type": "stream",
       "stream": "stderr",
       "text": [
        "INFO:HistNode:data/Aug4_0eb863_full/mu/mc/iso/nominal/Jul15/TTJets_FullLept.root->2j1t->top_pt_nominal->top_mass, 233256.0, 233256, 0.53\n"
       ]
      },
      {
       "output_type": "stream",
       "stream": "stderr",
       "text": [
        "INFO:HistNode:data/Aug4_0eb863_full/mu/mc/iso/nominal/Jul15/TTJets_FullLept.root->2j1t->top_pt_up->top_mass, 233256.0, 233256, 0.53\n"
       ]
      },
      {
       "output_type": "stream",
       "stream": "stderr",
       "text": [
        "INFO:HistNode:data/Aug4_0eb863_full/mu/mc/iso/nominal/Jul15/TTJets_FullLept.root->2j1t->top_pt_up->cos_theta, 233256.0, 233256, 0.58\n"
       ]
      },
      {
       "output_type": "stream",
       "stream": "stderr",
       "text": [
        "INFO:HistNode:data/Aug4_0eb863_full/mu/mc/iso/nominal/Jul15/TTJets_FullLept.root->2j1t->top_pt_down->top_mass, 233256.0, 233256, 0.53\n"
       ]
      },
      {
       "output_type": "stream",
       "stream": "stderr",
       "text": [
        "INFO:HistNode:data/Aug4_0eb863_full/mu/mc/iso/nominal/Jul15/TTJets_FullLept.root->2j1t->top_pt_nominal->cos_theta, 233256.0, 233256, 0.57\n"
       ]
      },
      {
       "output_type": "stream",
       "stream": "stderr",
       "text": [
        "INFO:HistNode:data/Aug4_0eb863_full/mu/mc/iso/nominal/Jul15/TTJets_FullLept.root->2j1t->top_pt_down->cos_theta, 233256.0, 233256, 0.58\n"
       ]
      },
      {
       "output_type": "stream",
       "stream": "stderr",
       "text": [
        "INFO:tree:Processing sample <Sample(TTJets_SemiLept, data/Aug4_0eb863_full/mu/mc/iso/nominal/Jul15/TTJets_SemiLept.root)>\n"
       ]
      },
      {
       "output_type": "stream",
       "stream": "stderr",
       "text": [
        "INFO:tree:Processed cut .2j0t => -1 -> 362356\n"
       ]
      },
      {
       "output_type": "stream",
       "stream": "stderr",
       "text": [
        "INFO:HistNode:data/Aug4_0eb863_full/mu/mc/iso/nominal/Jul15/TTJets_SemiLept.root->2j0t->top_pt_down->cos_theta, 362356.0, 362356, 1.81\n"
       ]
      },
      {
       "output_type": "stream",
       "stream": "stderr",
       "text": [
        "INFO:HistNode:data/Aug4_0eb863_full/mu/mc/iso/nominal/Jul15/TTJets_SemiLept.root->2j0t->top_pt_nominal->top_mass, 362356.0, 362356, 1.58\n"
       ]
      },
      {
       "output_type": "stream",
       "stream": "stderr",
       "text": [
        "INFO:HistNode:data/Aug4_0eb863_full/mu/mc/iso/nominal/Jul15/TTJets_SemiLept.root->2j0t->top_pt_nominal->cos_theta, 362356.0, 362356, 1.85\n"
       ]
      },
      {
       "output_type": "stream",
       "stream": "stderr",
       "text": [
        "INFO:HistNode:data/Aug4_0eb863_full/mu/mc/iso/nominal/Jul15/TTJets_SemiLept.root->2j0t->top_pt_down->top_mass, 362356.0, 362356, 1.52\n"
       ]
      },
      {
       "output_type": "stream",
       "stream": "stderr",
       "text": [
        "INFO:HistNode:data/Aug4_0eb863_full/mu/mc/iso/nominal/Jul15/TTJets_SemiLept.root->2j0t->top_pt_up->top_mass, 362356.0, 362356, 1.65\n"
       ]
      },
      {
       "output_type": "stream",
       "stream": "stderr",
       "text": [
        "INFO:HistNode:data/Aug4_0eb863_full/mu/mc/iso/nominal/Jul15/TTJets_SemiLept.root->2j0t->top_pt_up->cos_theta, 362356.0, 362356, 1.90\n"
       ]
      },
      {
       "output_type": "stream",
       "stream": "stderr",
       "text": [
        "INFO:tree:Processed cut .2j1t => -1 -> 248317\n"
       ]
      },
      {
       "output_type": "stream",
       "stream": "stderr",
       "text": [
        "INFO:HistNode:data/Aug4_0eb863_full/mu/mc/iso/nominal/Jul15/TTJets_SemiLept.root->2j1t->top_pt_nominal->top_mass, 248317.0, 248317, 1.15\n"
       ]
      },
      {
       "output_type": "stream",
       "stream": "stderr",
       "text": [
        "INFO:HistNode:data/Aug4_0eb863_full/mu/mc/iso/nominal/Jul15/TTJets_SemiLept.root->2j1t->top_pt_up->top_mass, 248317.0, 248317, 1.19\n"
       ]
      },
      {
       "output_type": "stream",
       "stream": "stderr",
       "text": [
        "INFO:HistNode:data/Aug4_0eb863_full/mu/mc/iso/nominal/Jul15/TTJets_SemiLept.root->2j1t->top_pt_up->cos_theta, 248317.0, 248317, 1.30\n"
       ]
      },
      {
       "output_type": "stream",
       "stream": "stderr",
       "text": [
        "INFO:HistNode:data/Aug4_0eb863_full/mu/mc/iso/nominal/Jul15/TTJets_SemiLept.root->2j1t->top_pt_down->top_mass, 248317.0, 248317, 1.11\n"
       ]
      },
      {
       "output_type": "stream",
       "stream": "stderr",
       "text": [
        "INFO:HistNode:data/Aug4_0eb863_full/mu/mc/iso/nominal/Jul15/TTJets_SemiLept.root->2j1t->top_pt_nominal->cos_theta, 248317.0, 248317, 1.27\n"
       ]
      },
      {
       "output_type": "stream",
       "stream": "stderr",
       "text": [
        "INFO:HistNode:data/Aug4_0eb863_full/mu/mc/iso/nominal/Jul15/TTJets_SemiLept.root->2j1t->top_pt_down->cos_theta, 248317.0, 248317, 1.24\n"
       ]
      }
     ],
     "prompt_number": 25
    },
    {
     "cell_type": "code",
     "collapsed": false,
     "input": [
      "from plots.load_histos import load_histos\n",
      "pd = load_histos([outf])\n",
      "hists = pd[\".*/(TTJets.*)\\.root/2j1t/(.*)/cos_theta/.*\"]\n",
      "hd = dict()\n",
      "for (sn, weight), h in hists:\n",
      "    h.SetTitle(weight.replace(\"_\", \" \"))\n",
      "    h.Scale(1.0/h.Integral())\n",
      "    hd[weight] = h"
     ],
     "language": "python",
     "metadata": {},
     "outputs": [
      {
       "output_type": "stream",
       "stream": "stdout",
       "text": [
        "data/Aug4_0eb863_full/mu/mc/iso/nominal/Jul15/TTJets_FullLept.root/2j0t/top_pt_up/cos_theta/cos_theta Hist('cos_theta')\n",
        "data/Aug4_0eb863_full/mu/mc/iso/nominal/Jul15/TTJets_FullLept.root/2j0t/top_pt_up/top_mass/top_mass Hist('top_mass')\n",
        "data/Aug4_0eb863_full/mu/mc/iso/nominal/Jul15/TTJets_FullLept.root/2j0t/top_pt_down/cos_theta/cos_theta Hist('cos_theta')\n",
        "data/Aug4_0eb863_full/mu/mc/iso/nominal/Jul15/TTJets_FullLept.root/2j0t/top_pt_down/top_mass/top_mass Hist('top_mass')\n",
        "data/Aug4_0eb863_full/mu/mc/iso/nominal/Jul15/TTJets_FullLept.root/2j0t/top_pt_nominal/cos_theta/cos_theta Hist('cos_theta')\n",
        "data/Aug4_0eb863_full/mu/mc/iso/nominal/Jul15/TTJets_FullLept.root/2j0t/top_pt_nominal/top_mass/top_mass Hist('top_mass')\n",
        "data/Aug4_0eb863_full/mu/mc/iso/nominal/Jul15/TTJets_FullLept.root/2j1t/top_pt_up/cos_theta/cos_theta Hist('cos_theta')\n",
        "data/Aug4_0eb863_full/mu/mc/iso/nominal/Jul15/TTJets_FullLept.root/2j1t/top_pt_up/top_mass/top_mass Hist('top_mass')\n",
        "data/Aug4_0eb863_full/mu/mc/iso/nominal/Jul15/TTJets_FullLept.root/2j1t/top_pt_down/cos_theta/cos_theta Hist('cos_theta')\n",
        "data/Aug4_0eb863_full/mu/mc/iso/nominal/Jul15/TTJets_FullLept.root/2j1t/top_pt_down/top_mass/top_mass Hist('top_mass')\n",
        "data/Aug4_0eb863_full/mu/mc/iso/nominal/Jul15/TTJets_FullLept.root/2j1t/top_pt_nominal/cos_theta/cos_theta Hist('cos_theta')\n",
        "data/Aug4_0eb863_full/mu/mc/iso/nominal/Jul15/TTJets_FullLept.root/2j1t/top_pt_nominal/top_mass/top_mass Hist('top_mass')\n",
        "data/Aug4_0eb863_full/mu/mc/iso/nominal/Jul15/TTJets_SemiLept.root/2j0t/top_pt_up/cos_theta/cos_theta Hist('cos_theta')\n",
        "data/Aug4_0eb863_full/mu/mc/iso/nominal/Jul15/TTJets_SemiLept.root/2j0t/top_pt_up/top_mass/top_mass Hist('top_mass')\n",
        "data/Aug4_0eb863_full/mu/mc/iso/nominal/Jul15/TTJets_SemiLept.root/2j0t/top_pt_down/cos_theta/cos_theta Hist('cos_theta')\n",
        "data/Aug4_0eb863_full/mu/mc/iso/nominal/Jul15/TTJets_SemiLept.root/2j0t/top_pt_down/top_mass/top_mass Hist('top_mass')\n",
        "data/Aug4_0eb863_full/mu/mc/iso/nominal/Jul15/TTJets_SemiLept.root/2j0t/top_pt_nominal/cos_theta/cos_theta Hist('cos_theta')\n",
        "data/Aug4_0eb863_full/mu/mc/iso/nominal/Jul15/TTJets_SemiLept.root/2j0t/top_pt_nominal/top_mass/top_mass Hist('top_mass')\n",
        "data/Aug4_0eb863_full/mu/mc/iso/nominal/Jul15/TTJets_SemiLept.root/2j1t/top_pt_up/cos_theta/cos_theta Hist('cos_theta')\n",
        "data/Aug4_0eb863_full/mu/mc/iso/nominal/Jul15/TTJets_SemiLept.root/2j1t/top_pt_up/top_mass/top_mass Hist('top_mass')\n",
        "data/Aug4_0eb863_full/mu/mc/iso/nominal/Jul15/TTJets_SemiLept.root/2j1t/top_pt_down/cos_theta/cos_theta Hist('cos_theta')\n",
        "data/Aug4_0eb863_full/mu/mc/iso/nominal/Jul15/TTJets_SemiLept.root/2j1t/top_pt_down/top_mass/top_mass Hist('top_mass')\n",
        "data/Aug4_0eb863_full/mu/mc/iso/nominal/Jul15/TTJets_SemiLept.root/2j1t/top_pt_nominal/cos_theta/cos_theta Hist('cos_theta')\n",
        "data/Aug4_0eb863_full/mu/mc/iso/nominal/Jul15/TTJets_SemiLept.root/2j1t/top_pt_nominal/top_mass/top_mass Hist('top_mass')\n"
       ]
      }
     ],
     "prompt_number": 27
    },
    {
     "cell_type": "code",
     "collapsed": false,
     "input": [
      "%matplotlib inline\n",
      "%pylab inline\n",
      "from plots.common.mpl_hists import draw_hists"
     ],
     "language": "python",
     "metadata": {},
     "outputs": [
      {
       "output_type": "stream",
       "stream": "stdout",
       "text": [
        "Populating the interactive namespace from numpy and matplotlib\n"
       ]
      },
      {
       "output_type": "stream",
       "stream": "stderr",
       "text": [
        "WARNING: pylab import has clobbered these variables: ['inf']\n",
        "`%pylab --no-import-all` prevents importing * from pylab and numpy\n"
       ]
      }
     ],
     "prompt_number": 15
    },
    {
     "cell_type": "code",
     "collapsed": false,
     "input": [
      "hnom = hd[\"top_pt_nominal\"]/hd[\"top_pt_nominal\"]\n",
      "hup = hd[\"top_pt_up\"]/hd[\"top_pt_nominal\"]\n",
      "hdown = hd[\"top_pt_down\"]/hd[\"top_pt_nominal\"]\n",
      "\n",
      "ax = draw_hists([hup, hnom, hdown])"
     ],
     "language": "python",
     "metadata": {},
     "outputs": [
      {
       "metadata": {},
       "output_type": "display_data",
       "png": "[encoded data removed]",
       "text": [
        "<matplotlib.figure.Figure at 0x10d046b10>"
       ]
      }
     ],
     "prompt_number": 38
    },
    {
     "cell_type": "code",
     "collapsed": false,
     "input": [
      "ax = draw_hists(hd)"
     ],
     "language": "python",
     "metadata": {},
     "outputs": [
      {
       "metadata": {},
       "output_type": "display_data",
       "png": "[encoded data removed]",
       "text": [
        "<matplotlib.figure.Figure at 0x10f1f2190>"
       ]
      }
     ],
     "prompt_number": 40
    },
    {
     "cell_type": "code",
     "collapsed": false,
     "input": [
      "hred = map(lambda x: (x[0][0][1], x[0][1]+x[1][1]), zip(hists[:3],hists[3:]))\n",
      "hd = {k:v for k,v in hred}"
     ],
     "language": "python",
     "metadata": {},
     "outputs": [],
     "prompt_number": 37
    },
    {
     "cell_type": "code",
     "collapsed": false,
     "input": [
      "hd"
     ],
     "language": "python",
     "metadata": {},
     "outputs": [
      {
       "metadata": {},
       "output_type": "pyout",
       "prompt_number": 39,
       "text": [
        "{'top_pt_down': Hist('3a07b235f375416597be936c86723682'),\n",
        " 'top_pt_nominal': Hist('0e26c08b4b5b4971b91d6d6af99b342d'),\n",
        " 'top_pt_up': Hist('c6e53127d83e4677af9d79473b61402b')}"
       ]
      }
     ],
     "prompt_number": 39
    },
    {
     "cell_type": "code",
     "collapsed": false,
     "input": [],
     "language": "python",
     "metadata": {},
     "outputs": []
    }
   ],
   "metadata": {}
  }
 ]
}