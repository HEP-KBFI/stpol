{
 "metadata": {
  "name": ""
 },
 "nbformat": 3,
 "nbformat_minor": 0,
 "worksheets": [
  {
   "cells": [
    {
     "cell_type": "code",
     "collapsed": false,
     "input": [
      "from plots.histogramming.flat import analysis_tree\n",
      "from plots.common.cuts import Cuts, Weight, Weights"
     ],
     "language": "python",
     "metadata": {},
     "outputs": []
    },
    {
     "cell_type": "code",
     "collapsed": false,
     "input": [
      "baseline =  Cuts.mt_mu()*Cuts.lepton(\"mu\")*Cuts.hlt(\"mu\")\n",
      "cuts = [\n",
      "    (\"2j0t\", baseline*Cuts.n_jets(2)*Cuts.n_tags(0)),\n",
      "    (\"2j1t\", baseline*Cuts.n_jets(2)*Cuts.n_tags(1)),\n",
      "]\n",
      "\n",
      "topw = Weight(\"ttbar_weight\")\n",
      "weights = [\n",
      "    (\"top_pt_down\", Weights.no_weight),\n",
      "    (\"top_pt_nominal\", topw),\n",
      "    (\"top_pt_up\", topw*topw),\n",
      "]\n",
      "\n",
      "variables = [\n",
      "    (\"top_mass\", \"top_mass\", [10, 100, 300]),\n",
      "    (\"cos_theta\", \"cos_theta\", [20, -1, 1])\n",
      "]"
     ],
     "language": "python",
     "metadata": {},
     "outputs": []
    },
    {
     "cell_type": "code",
     "collapsed": false,
     "input": [
      "inf = [\n",
      "    \"data/Aug4_0eb863_full/mu/mc/iso/nominal/Jul15/TTJets_FullLept.root\",\n",
      "    \"data/Aug4_0eb863_full/mu/mc/iso/nominal/Jul15/TTJets_SemiLept.root\"\n",
      "]\n",
      "outf = \"test.root\"\n",
      "t, out = analysis_tree(cuts, weights, variables, inf, outf)\n",
      "for it in t:\n",
      "    it.recurseDown()\n",
      "out.tfile.Close()"
     ],
     "language": "python",
     "metadata": {},
     "outputs": []
    },
    {
     "cell_type": "code",
     "collapsed": false,
     "input": [
      "from plots.load_histos import load_histos\n",
      "pd = load_histos([outf])\n",
      "hists = pd[\".*/(TTJets.*)\\.root/2j1t/(.*)/cos_theta/.*\"]\n",
      "hd = dict()\n",
      "for (sn, weight), h in hists:\n",
      "    h.SetTitle(weight.replace(\"_\", \" \"))\n",
      "    h.Scale(1.0/h.Integral())\n",
      "    hd[weight] = h"
     ],
     "language": "python",
     "metadata": {},
     "outputs": []
    },
    {
     "cell_type": "code",
     "collapsed": false,
     "input": [
      "%matplotlib inline\n",
      "%pylab inline\n",
      "from plots.common.mpl_hists import draw_hists"
     ],
     "language": "python",
     "metadata": {},
     "outputs": []
    },
    {
     "cell_type": "code",
     "collapsed": false,
     "input": [
      "hnom = hd[\"top_pt_nominal\"]/hd[\"top_pt_nominal\"]\n",
      "hup = hd[\"top_pt_up\"]/hd[\"top_pt_nominal\"]\n",
      "hdown = hd[\"top_pt_down\"]/hd[\"top_pt_nominal\"]\n",
      "\n",
      "ax = draw_hists([hup, hnom, hdown])\n",
      "ax.axhline(1.0, linewidth=2, color='black')\n",
      "ax.set_xlabel(r\"$\\cos \\theta$\", fontsize=16)\n",
      "ax.set_ylabel(r\"variated / nominal\", fontsize=16)"
     ],
     "language": "python",
     "metadata": {},
     "outputs": []
    },
    {
     "cell_type": "code",
     "collapsed": false,
     "input": [
      "ax = draw_hists(hd)"
     ],
     "language": "python",
     "metadata": {},
     "outputs": []
    },
    {
     "cell_type": "code",
     "collapsed": false,
     "input": [
      "hred = map(lambda x: (x[0][0][1], x[0][1]+x[1][1]), zip(hists[:3],hists[3:]))\n",
      "hd = {k:v for k,v in hred}"
     ],
     "language": "python",
     "metadata": {},
     "outputs": []
    },
    {
     "cell_type": "code",
     "collapsed": false,
     "input": [
      "hd"
     ],
     "language": "python",
     "metadata": {},
     "outputs": []
    },
    {
     "cell_type": "code",
     "collapsed": false,
     "input": [],
     "language": "python",
     "metadata": {},
     "outputs": []
    }
   ],
   "metadata": {}
  }
 ]
}