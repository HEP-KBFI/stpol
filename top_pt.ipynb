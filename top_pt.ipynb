{
 "metadata": {
  "name": ""
 },
 "nbformat": 3,
 "nbformat_minor": 0,
 "worksheets": [
  {
   "cells": [
    {
     "cell_type": "code",
     "collapsed": false,
     "input": [
      "from plots.histogramming.flat import analysis_tree\n",
      "from plots.histogramming.tree import HistNode\n",
      "HistNode.logger.setLevel(\"WARNING\")\n",
      "from plots.common.cuts import Cuts, Weight, Weights"
     ],
     "language": "python",
     "metadata": {},
     "outputs": []
    },
    {
     "cell_type": "code",
     "collapsed": false,
     "input": [
      "baseline =  Cuts.mt_mu()*Cuts.lepton(\"mu\")*Cuts.hlt(\"mu\")\n",
      "cuts = [\n",
      "    (\"2j0t\", baseline*Cuts.n_jets(2)*Cuts.n_tags(0)),\n",
      "    (\"2j1t\", baseline*Cuts.n_jets(2)*Cuts.n_tags(1)),\n",
      "    (\"3j1t\", baseline*Cuts.n_jets(3)*Cuts.n_tags(1)),\n",
      "    (\"3j2t\", baseline*Cuts.n_jets(3)*Cuts.n_tags(2)),\n",
      "]\n",
      "\n",
      "topw = Weight(\"ttbar_weight\")\n",
      "weights = [\n",
      " (w.name, w) for w in list(Weights.top_pt)\n",
      "]\n",
      "weights.append((\"unweighted\", Weights.no_weight))\n",
      "\n",
      "variables = [\n",
      "    (\"top_mass\", \"top_mass\", [60, 100, 300]),\n",
      "    (\"top_pt\", \"top_pt\", [60, 0, 300]),\n",
      "    (\"cos_theta\", \"cos_theta\", [60, -1, 1])\n",
      "]"
     ],
     "language": "python",
     "metadata": {},
     "outputs": []
    },
    {
     "cell_type": "code",
     "collapsed": false,
     "input": [
      "inf = [\n",
      "    \"/hdfs/local/stpol/step3/Aug4_0eb863_full_with_Jul29_MVA/mu/mc/iso/nominal/Jul15/TTJets_FullLept.root\",\n",
      "    \"/hdfs/local/stpol/step3/Aug4_0eb863_full_with_Jul29_MVA/mu/mc/iso/nominal/Jul15/TTJets_SemiLept.root\",\n",
      "    \"/hdfs/local/stpol/step3/Aug4_0eb863_full_with_Jul29_MVA/mu/data/iso/Aug1/SingleMu_miss.root\",\n",
      "    \"/hdfs/local/stpol/step3/Aug4_0eb863_full_with_Jul29_MVA/mu/data/iso/Jul15/SingleMu1.root\",\n",
      "    \"/hdfs/local/stpol/step3/Aug4_0eb863_full_with_Jul29_MVA/mu/data/iso/Jul15/SingleMu2.root\",\n",
      "    \"/hdfs/local/stpol/step3/Aug4_0eb863_full_with_Jul29_MVA/mu/data/iso/Jul15/SingleMu3.root\",\n",
      "]\n",
      "t, out = analysis_tree(cuts, weights, variables, inf)\n",
      "for it in t:\n",
      "    it.recurseDown()\n",
      "out.close()"
     ],
     "language": "python",
     "metadata": {},
     "outputs": []
    },
    {
     "cell_type": "code",
     "collapsed": false,
     "input": [
      "print len(out)"
     ],
     "language": "python",
     "metadata": {},
     "outputs": []
    },
    {
     "cell_type": "code",
     "collapsed": false,
     "input": [
      "def get_hists(samp, cut, var):\n",
      "    hists = out[\".*/(%s.*)\\.root/%s/(.*)/%s$\" % (samp, cut, var)]\n",
      "    hd = dict()\n",
      "    for (sn, weight), h in hists:\n",
      "        h.SetTitle(weight.replace(\"_\", \" \"))\n",
      "        #h.Scale(1.0/h.Integral())\n",
      "        if not weight in hd.keys():\n",
      "            hd[weight] = h.Clone()\n",
      "        else:\n",
      "            hd[weight] += h\n",
      "    return hd"
     ],
     "language": "python",
     "metadata": {},
     "outputs": []
    },
    {
     "cell_type": "code",
     "collapsed": false,
     "input": [
      "%matplotlib inline\n",
      "%pylab inline\n",
      "from plots.common.mpl_hists import ratio_subplots, axes_style, hist_err, draw_hists"
     ],
     "language": "python",
     "metadata": {},
     "outputs": []
    },
    {
     "cell_type": "code",
     "collapsed": false,
     "input": [
      "import numpy as np\n",
      "\n",
      "def err(*args):\n",
      "    return np.sqrt(reduce(lambda x,y: np.power(x,2) + np.power(y, 2),\n",
      "        [np.array(list(x)) for x in args]\n",
      "    ))\n",
      "\n",
      "cut = \"2j1t\"\n",
      "var = \"cos_theta\"\n",
      "import plots\n",
      "from plots.vars import varnames_mpl as varnames\n",
      "varname = varnames[var]\n",
      "\n",
      "\n",
      "hmc = get_hists(\"TTJets.*\", cut, var)\n",
      "hdata = get_hists(\"SingleMu.*\", cut, var)\n",
      "for k, v in hmc.items() + hdata.items():\n",
      "    v.Scale(1.0/v.Integral())\n",
      "    v.Rebin(6)\n",
      "    \n",
      "fig = plt.figure(\n",
      "    figsize=(10,10)\n",
      ")\n",
      "ax1, ax2 = ratio_subplots()\n",
      "ax1.set_title(\"Effect of top $p_T$ reweighting in %s\" % cut, fontsize=16)\n",
      "ax1.set_ylabel(\"normalized events\", fontsize=16)\n",
      "map(axes_style, [ax1, ax2])\n",
      "\n",
      "err_up = hmc[\"top_pt_nominal\"] - hmc[\"top_pt_up\"]\n",
      "err_down = hmc[\"top_pt_nominal\"] - hmc[\"top_pt_down\"]\n",
      "\n",
      "hist_err(ax1, hdata[\"unweighted\"], fmt='o', color='black', label='data')\n",
      "hist_err(ax1, hmc[\"top_pt_nominal\"], yerr=(np.abs(err_down), np.abs(err_up)), label=r'%s reweighted' % varname, linewidth=2)\n",
      "hist_err(ax1, hmc[\"unweighted\"], label='unweighted', linewidth=2)\n",
      "\n",
      "leg = ax1.legend(fontsize=16)\n",
      "\n",
      "hr1 = hmc[\"top_pt_nominal\"] / hdata[\"unweighted\"] \n",
      "ratio_err_up = err_up / hdata[\"unweighted\"]\n",
      "ratio_err_down = err_down / hdata[\"unweighted\"]\n",
      "err_down = err(ratio_err_down, hr1.errors())\n",
      "err_up = err(ratio_err_up, hr1.errors())\n",
      "\n",
      "hist_err(ax2, hr1, yerr=(err_down, err_up), color='blue', linewidth=2)\n",
      "\n",
      "hr2 = hmc[\"unweighted\"] / hdata[\"unweighted\"]\n",
      "hist_err(ax2, hr2, color='green', linewidth=2)\n",
      "ax2.axhline(1, color='black')\n",
      "ax2.set_xlabel(varname, fontsize=16)\n",
      "ax2.set_ylabel(\"MC/data\", fontsize=16)\n",
      "plt.tight_layout()\n"
     ],
     "language": "python",
     "metadata": {},
     "outputs": []
    },
    {
     "cell_type": "code",
     "collapsed": false,
     "input": [],
     "language": "python",
     "metadata": {},
     "outputs": []
    }
   ],
   "metadata": {}
  }
 ]
}