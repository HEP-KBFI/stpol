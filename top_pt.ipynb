{
 "metadata": {
  "name": ""
 },
 "nbformat": 3,
 "nbformat_minor": 0,
 "worksheets": [
  {
   "cells": [
    {
     "cell_type": "code",
     "collapsed": false,
     "input": [
      "from plots.histogramming.flat import analysis_tree\n",
      "from plots.histogramming.tree import HistNode\n",
      "HistNode.logger.setLevel(\"WARNING\")\n",
      "from plots.common.cuts import Cuts, Weight, Weights"
     ],
     "language": "python",
     "metadata": {},
     "outputs": [
      {
       "output_type": "stream",
       "stream": "stdout",
       "text": [
        "Loading dependency libraries...\n",
        "Done loading dependency libraries..."
       ]
      },
      {
       "output_type": "stream",
       "stream": "stdout",
       "text": [
        "\n"
       ]
      }
     ],
     "prompt_number": 7
    },
    {
     "cell_type": "code",
     "collapsed": false,
     "input": [
      "baseline =  Cuts.mt_mu()*Cuts.lepton(\"mu\")*Cuts.hlt(\"mu\")\n",
      "cuts = [\n",
      "    (\"2j0t\", baseline*Cuts.n_jets(2)*Cuts.n_tags(0)),\n",
      "    (\"2j1t\", baseline*Cuts.n_jets(2)*Cuts.n_tags(1)),\n",
      "    (\"3j1t\", baseline*Cuts.n_jets(3)*Cuts.n_tags(1)),\n",
      "    (\"3j2t\", baseline*Cuts.n_jets(3)*Cuts.n_tags(2)),\n",
      "]\n",
      "\n",
      "topw = Weight(\"ttbar_weight\")\n",
      "weights = [\n",
      " (w.name, w) for w in list(Weights.top_pt)\n",
      "]\n",
      "weights.append((\"unweighted\", Weights.no_weight))\n",
      "\n",
      "variables = [\n",
      "    (\"top_mass\", \"top_mass\", [60, 100, 300]),\n",
      "    (\"top_pt\", \"top_pt\", [60, 0, 300]),\n",
      "    (\"cos_theta\", \"cos_theta\", [60, -1, 1])\n",
      "]"
     ],
     "language": "python",
     "metadata": {},
     "outputs": [],
     "prompt_number": 8
    },
    {
     "cell_type": "code",
     "collapsed": false,
     "input": [
      "inf = [\n",
      "    \"/hdfs/local/stpol/step3/Aug4_0eb863_full_with_Jul29_MVA/mu/mc/iso/nominal/Jul15/TTJets_FullLept.root\",\n",
      "    \"/hdfs/local/stpol/step3/Aug4_0eb863_full_with_Jul29_MVA/mu/mc/iso/nominal/Jul15/TTJets_SemiLept.root\",\n",
      "    \"/hdfs/local/stpol/step3/Aug4_0eb863_full_with_Jul29_MVA/mu/data/iso/Aug1/SingleMu_miss.root\",\n",
      "    \"/hdfs/local/stpol/step3/Aug4_0eb863_full_with_Jul29_MVA/mu/data/iso/Jul15/SingleMu1.root\",\n",
      "    \"/hdfs/local/stpol/step3/Aug4_0eb863_full_with_Jul29_MVA/mu/data/iso/Jul15/SingleMu2.root\",\n",
      "    \"/hdfs/local/stpol/step3/Aug4_0eb863_full_with_Jul29_MVA/mu/data/iso/Jul15/SingleMu3.root\",\n",
      "]\n",
      "t, out = analysis_tree(cuts, weights, variables, inf)\n",
      "for it in t:\n",
      "    it.recurseDown()\n",
      "out.close()"
     ],
     "language": "python",
     "metadata": {},
     "outputs": [
      {
       "output_type": "stream",
       "stream": "stderr",
       "text": [
        "INFO:plots.histogramming.flat:Done constructing sample nodes: 6\n"
       ]
      },
      {
       "output_type": "stream",
       "stream": "stderr",
       "text": [
        "INFO:tree:Processing sample <Sample(TTJets_FullLept, /hdfs/local/stpol/step3/Aug4_0eb863_full_with_Jul29_MVA/mu/mc/iso/nominal/Jul15/TTJets_FullLept.root)>\n"
       ]
      },
      {
       "output_type": "stream",
       "stream": "stderr",
       "text": [
        "INFO:tree:Processed cut .2j0t => -1 -> 237640\n"
       ]
      },
      {
       "output_type": "stream",
       "stream": "stderr",
       "text": [
        "INFO:tree:Processed cut .3j1t => -1 -> 145205\n"
       ]
      },
      {
       "output_type": "stream",
       "stream": "stderr",
       "text": [
        "INFO:tree:Processed cut .3j2t => -1 -> 41746\n"
       ]
      },
      {
       "output_type": "stream",
       "stream": "stderr",
       "text": [
        "INFO:tree:Processed cut .2j1t => -1 -> 233256\n"
       ]
      },
      {
       "output_type": "stream",
       "stream": "stderr",
       "text": [
        "INFO:tree:Processing sample <Sample(TTJets_SemiLept, /hdfs/local/stpol/step3/Aug4_0eb863_full_with_Jul29_MVA/mu/mc/iso/nominal/Jul15/TTJets_SemiLept.root)>\n"
       ]
      },
      {
       "output_type": "stream",
       "stream": "stderr",
       "text": [
        "INFO:tree:Processed cut .2j0t => -1 -> 362356\n"
       ]
      },
      {
       "output_type": "stream",
       "stream": "stderr",
       "text": [
        "INFO:tree:Processed cut .3j1t => -1 -> 399535\n"
       ]
      },
      {
       "output_type": "stream",
       "stream": "stderr",
       "text": [
        "INFO:tree:Processed cut .3j2t => -1 -> 95344\n"
       ]
      },
      {
       "output_type": "stream",
       "stream": "stderr",
       "text": [
        "INFO:tree:Processed cut .2j1t => -1 -> 248317\n"
       ]
      },
      {
       "output_type": "stream",
       "stream": "stderr",
       "text": [
        "INFO:tree:Processing sample <Sample(SingleMu_miss, /hdfs/local/stpol/step3/Aug4_0eb863_full_with_Jul29_MVA/mu/data/iso/Aug1/SingleMu_miss.root)>\n"
       ]
      },
      {
       "output_type": "stream",
       "stream": "stderr",
       "text": [
        "INFO:tree:Processed cut .2j0t => -1 -> 69477\n"
       ]
      },
      {
       "output_type": "stream",
       "stream": "stderr",
       "text": [
        "INFO:tree:Processed cut .3j1t => -1 -> 3132\n"
       ]
      },
      {
       "output_type": "stream",
       "stream": "stderr",
       "text": [
        "INFO:tree:Processed cut .3j2t => -1 -> 595\n"
       ]
      },
      {
       "output_type": "stream",
       "stream": "stderr",
       "text": [
        "INFO:tree:Processed cut .2j1t => -1 -> 4145\n"
       ]
      },
      {
       "output_type": "stream",
       "stream": "stderr",
       "text": [
        "INFO:tree:Processing sample <Sample(SingleMu1, /hdfs/local/stpol/step3/Aug4_0eb863_full_with_Jul29_MVA/mu/data/iso/Jul15/SingleMu1.root)>\n"
       ]
      },
      {
       "output_type": "stream",
       "stream": "stderr",
       "text": [
        "INFO:tree:Processed cut .2j0t => -1 -> 429859\n"
       ]
      },
      {
       "output_type": "stream",
       "stream": "stderr",
       "text": [
        "INFO:tree:Processed cut .3j1t => -1 -> 20005\n"
       ]
      },
      {
       "output_type": "stream",
       "stream": "stderr",
       "text": [
        "INFO:tree:Processed cut .3j2t => -1 -> 3819\n"
       ]
      },
      {
       "output_type": "stream",
       "stream": "stderr",
       "text": [
        "INFO:tree:Processed cut .2j1t => -1 -> 26121\n"
       ]
      },
      {
       "output_type": "stream",
       "stream": "stderr",
       "text": [
        "INFO:tree:Processing sample <Sample(SingleMu2, /hdfs/local/stpol/step3/Aug4_0eb863_full_with_Jul29_MVA/mu/data/iso/Jul15/SingleMu2.root)>\n"
       ]
      },
      {
       "output_type": "stream",
       "stream": "stderr",
       "text": [
        "INFO:tree:Processed cut .2j0t => -1 -> 414213\n"
       ]
      },
      {
       "output_type": "stream",
       "stream": "stderr",
       "text": [
        "INFO:tree:Processed cut .3j1t => -1 -> 18910\n"
       ]
      },
      {
       "output_type": "stream",
       "stream": "stderr",
       "text": [
        "INFO:tree:Processed cut .3j2t => -1 -> 3523\n"
       ]
      },
      {
       "output_type": "stream",
       "stream": "stderr",
       "text": [
        "INFO:tree:Processed cut .2j1t => -1 -> 24302\n"
       ]
      },
      {
       "output_type": "stream",
       "stream": "stderr",
       "text": [
        "INFO:tree:Processing sample <Sample(SingleMu3, /hdfs/local/stpol/step3/Aug4_0eb863_full_with_Jul29_MVA/mu/data/iso/Jul15/SingleMu3.root)>\n"
       ]
      },
      {
       "output_type": "stream",
       "stream": "stderr",
       "text": [
        "INFO:tree:Processed cut .2j0t => -1 -> 331069\n"
       ]
      },
      {
       "output_type": "stream",
       "stream": "stderr",
       "text": [
        "INFO:tree:Processed cut .3j1t => -1 -> 15525\n"
       ]
      },
      {
       "output_type": "stream",
       "stream": "stderr",
       "text": [
        "INFO:tree:Processed cut .3j2t => -1 -> 2951\n"
       ]
      },
      {
       "output_type": "stream",
       "stream": "stderr",
       "text": [
        "INFO:tree:Processed cut .2j1t => -1 -> 20103\n"
       ]
      }
     ],
     "prompt_number": 95
    },
    {
     "cell_type": "code",
     "collapsed": false,
     "input": [
      "print len(out)"
     ],
     "language": "python",
     "metadata": {},
     "outputs": [
      {
       "output_type": "stream",
       "stream": "stdout",
       "text": [
        "288\n"
       ]
      }
     ],
     "prompt_number": 96
    },
    {
     "cell_type": "code",
     "collapsed": false,
     "input": [
      "def get_hists(samp, cut, var):\n",
      "    hists = out[\".*/(%s.*)\\.root/%s/(.*)/%s$\" % (samp, cut, var)]\n",
      "    hd = dict()\n",
      "    for (sn, weight), h in hists:\n",
      "        h.SetTitle(weight.replace(\"_\", \" \"))\n",
      "        #h.Scale(1.0/h.Integral())\n",
      "        if not weight in hd.keys():\n",
      "            hd[weight] = h.Clone()\n",
      "        else:\n",
      "            hd[weight] += h\n",
      "    return hd"
     ],
     "language": "python",
     "metadata": {},
     "outputs": [],
     "prompt_number": 93
    },
    {
     "cell_type": "code",
     "collapsed": false,
     "input": [
      "%matplotlib inline\n",
      "%pylab inline\n",
      "from plots.common.mpl_hists import ratio_subplots, axes_style, hist_err, draw_hists"
     ],
     "language": "python",
     "metadata": {},
     "outputs": [
      {
       "output_type": "stream",
       "stream": "stdout",
       "text": [
        "Populating the interactive namespace from numpy and matplotlib\n"
       ]
      }
     ],
     "prompt_number": 31
    },
    {
     "cell_type": "code",
     "collapsed": false,
     "input": [
      "import numpy as np\n",
      "\n",
      "def err(*args):\n",
      "    return np.sqrt(reduce(lambda x,y: np.power(x,2) + np.power(y, 2),\n",
      "        [np.array(list(x)) for x in args]\n",
      "    ))\n",
      "\n",
      "hmc = get_hists(\"TTJets.*\", \"3j2t\", \"top_pt\")\n",
      "hdata = get_hists(\"SingleMu.*\", \"3j2t\", \"top_pt\")\n",
      "for k, v in hmc.items() + hdata.items():\n",
      "    v.Scale(1.0/v.Integral())\n",
      "    v.Rebin(6)\n",
      "    \n",
      "fig = plt.figure(\n",
      "    figsize=(10,10)\n",
      ")\n",
      "ax1, ax2 = ratio_subplots()\n",
      "map(axes_style, [ax1, ax2])\n",
      "\n",
      "err_up = hmc[\"top_pt_nominal\"] - hmc[\"top_pt_up\"]\n",
      "err_down = hmc[\"top_pt_nominal\"] - hmc[\"top_pt_down\"]\n",
      "\n",
      "hist_err(ax1, hdata[\"unweighted\"], fmt='o', color='black', label='data')\n",
      "hist_err(ax1, hmc[\"top_pt_nominal\"], yerr=(np.abs(err_down), np.abs(err_up)), label=r'$p_{T, top}$ reweighted', linewidth=2)\n",
      "hist_err(ax1, hmc[\"unweighted\"], label='unweighted', linewidth=2)\n",
      "\n",
      "leg = ax1.legend(fontsize=16)\n",
      "\n",
      "hr1 = hmc[\"top_pt_nominal\"] / hdata[\"unweighted\"] \n",
      "ratio_err_up = err_up / hdata[\"unweighted\"]\n",
      "ratio_err_down = err_down / hdata[\"unweighted\"]\n",
      "err_down = err(ratio_err_down, hr1.errors())\n",
      "err_up = err(ratio_err_up, hr1.errors())\n",
      "\n",
      "hist_err(ax2, hr1, yerr=(err_down, err_up), color='blue', linewidth=2)\n",
      "\n",
      "hr2 = hmc[\"unweighted\"] / hdata[\"unweighted\"]\n",
      "hist_err(ax2, hr2, color='green', linewidth=2)\n",
      "ax2.axhline(1, color='black')"
     ],
     "language": "python",
     "metadata": {},
     "outputs": [
      {
       "output_type": "stream",
       "stream": "stderr",
       "text": [
        "ERROR:ROOT.TH1F.Add:Attempt to add histograms with different number of bins\n"
       ]
      },
      {
       "ename": "ROOTError",
       "evalue": "level=3000, loc='TH1F::Add', msg='Attempt to add histograms with different number of bins'",
       "output_type": "pyerr",
       "traceback": [
        "\u001b[1;31m---------------------------------------------------------------------------\u001b[0m\n\u001b[1;31mROOTError\u001b[0m                                 Traceback (most recent call last)",
        "\u001b[1;32m<ipython-input-94-092901ea0eb6>\u001b[0m in \u001b[0;36m<module>\u001b[1;34m()\u001b[0m\n\u001b[0;32m      6\u001b[0m     ))\n\u001b[0;32m      7\u001b[0m \u001b[1;33m\u001b[0m\u001b[0m\n\u001b[1;32m----> 8\u001b[1;33m \u001b[0mhmc\u001b[0m \u001b[1;33m=\u001b[0m \u001b[0mget_hists\u001b[0m\u001b[1;33m(\u001b[0m\u001b[1;34m\"TTJets.*\"\u001b[0m\u001b[1;33m,\u001b[0m \u001b[1;34m\"3j2t\"\u001b[0m\u001b[1;33m,\u001b[0m \u001b[1;34m\"top_pt\"\u001b[0m\u001b[1;33m)\u001b[0m\u001b[1;33m\u001b[0m\u001b[0m\n\u001b[0m\u001b[0;32m      9\u001b[0m \u001b[0mhdata\u001b[0m \u001b[1;33m=\u001b[0m \u001b[0mget_hists\u001b[0m\u001b[1;33m(\u001b[0m\u001b[1;34m\"SingleMu.*\"\u001b[0m\u001b[1;33m,\u001b[0m \u001b[1;34m\"3j2t\"\u001b[0m\u001b[1;33m,\u001b[0m \u001b[1;34m\"top_pt\"\u001b[0m\u001b[1;33m)\u001b[0m\u001b[1;33m\u001b[0m\u001b[0m\n\u001b[0;32m     10\u001b[0m \u001b[1;32mfor\u001b[0m \u001b[0mk\u001b[0m\u001b[1;33m,\u001b[0m \u001b[0mv\u001b[0m \u001b[1;32min\u001b[0m \u001b[0mhmc\u001b[0m\u001b[1;33m.\u001b[0m\u001b[0mitems\u001b[0m\u001b[1;33m(\u001b[0m\u001b[1;33m)\u001b[0m \u001b[1;33m+\u001b[0m \u001b[0mhdata\u001b[0m\u001b[1;33m.\u001b[0m\u001b[0mitems\u001b[0m\u001b[1;33m(\u001b[0m\u001b[1;33m)\u001b[0m\u001b[1;33m:\u001b[0m\u001b[1;33m\u001b[0m\u001b[0m\n",
        "\u001b[1;32m<ipython-input-93-3a14e0dccb46>\u001b[0m in \u001b[0;36mget_hists\u001b[1;34m(samp, cut, var)\u001b[0m\n\u001b[0;32m      8\u001b[0m             \u001b[0mhd\u001b[0m\u001b[1;33m[\u001b[0m\u001b[0mweight\u001b[0m\u001b[1;33m]\u001b[0m \u001b[1;33m=\u001b[0m \u001b[0mh\u001b[0m\u001b[1;33m.\u001b[0m\u001b[0mClone\u001b[0m\u001b[1;33m(\u001b[0m\u001b[1;33m)\u001b[0m\u001b[1;33m\u001b[0m\u001b[0m\n\u001b[0;32m      9\u001b[0m         \u001b[1;32melse\u001b[0m\u001b[1;33m:\u001b[0m\u001b[1;33m\u001b[0m\u001b[0m\n\u001b[1;32m---> 10\u001b[1;33m             \u001b[0mhd\u001b[0m\u001b[1;33m[\u001b[0m\u001b[0mweight\u001b[0m\u001b[1;33m]\u001b[0m \u001b[1;33m+=\u001b[0m \u001b[0mh\u001b[0m\u001b[1;33m\u001b[0m\u001b[0m\n\u001b[0m\u001b[0;32m     11\u001b[0m     \u001b[1;32mreturn\u001b[0m \u001b[0mhd\u001b[0m\u001b[1;33m\u001b[0m\u001b[0m\n",
        "\u001b[1;32m/home/joosep/anaconda/lib/python2.7/site-packages/rootpy/plotting/hist.pyc\u001b[0m in \u001b[0;36m__iadd__\u001b[1;34m(self, other)\u001b[0m\n\u001b[0;32m    272\u001b[0m             \u001b[0mself\u001b[0m\u001b[1;33m.\u001b[0m\u001b[0mFill\u001b[0m\u001b[1;33m(\u001b[0m\u001b[1;33m*\u001b[0m\u001b[0mother\u001b[0m\u001b[1;33m)\u001b[0m\u001b[1;33m\u001b[0m\u001b[0m\n\u001b[0;32m    273\u001b[0m         \u001b[1;32melse\u001b[0m\u001b[1;33m:\u001b[0m\u001b[1;33m\u001b[0m\u001b[0m\n\u001b[1;32m--> 274\u001b[1;33m             \u001b[0mself\u001b[0m\u001b[1;33m.\u001b[0m\u001b[0mAdd\u001b[0m\u001b[1;33m(\u001b[0m\u001b[0mother\u001b[0m\u001b[1;33m)\u001b[0m\u001b[1;33m\u001b[0m\u001b[0m\n\u001b[0m\u001b[0;32m    275\u001b[0m         \u001b[1;32mreturn\u001b[0m \u001b[0mself\u001b[0m\u001b[1;33m\u001b[0m\u001b[0m\n\u001b[0;32m    276\u001b[0m \u001b[1;33m\u001b[0m\u001b[0m\n",
        "\u001b[1;32m/home/joosep/anaconda/lib/python2.7/site-packages/rootpy/plotting/hist.pyc\u001b[0m in \u001b[0;36m__iadd__\u001b[1;34m(self, other)\u001b[0m\n\u001b[0;32m    272\u001b[0m             \u001b[0mself\u001b[0m\u001b[1;33m.\u001b[0m\u001b[0mFill\u001b[0m\u001b[1;33m(\u001b[0m\u001b[1;33m*\u001b[0m\u001b[0mother\u001b[0m\u001b[1;33m)\u001b[0m\u001b[1;33m\u001b[0m\u001b[0m\n\u001b[0;32m    273\u001b[0m         \u001b[1;32melse\u001b[0m\u001b[1;33m:\u001b[0m\u001b[1;33m\u001b[0m\u001b[0m\n\u001b[1;32m--> 274\u001b[1;33m             \u001b[0mself\u001b[0m\u001b[1;33m.\u001b[0m\u001b[0mAdd\u001b[0m\u001b[1;33m(\u001b[0m\u001b[0mother\u001b[0m\u001b[1;33m)\u001b[0m\u001b[1;33m\u001b[0m\u001b[0m\n\u001b[0m\u001b[0;32m    275\u001b[0m         \u001b[1;32mreturn\u001b[0m \u001b[0mself\u001b[0m\u001b[1;33m\u001b[0m\u001b[0m\n\u001b[0;32m    276\u001b[0m \u001b[1;33m\u001b[0m\u001b[0m\n",
        "\u001b[1;32m/home/joosep/anaconda/lib/python2.7/site-packages/rootpy/logger/roothandler.pyc\u001b[0m in \u001b[0;36mpython_logging_error_handler\u001b[1;34m(level, root_says_abort, location, msg)\u001b[0m\n\u001b[0;32m     89\u001b[0m             \u001b[1;31m# Hence the need for dark magic, we re-raise it within a trace.\u001b[0m\u001b[1;33m\u001b[0m\u001b[1;33m\u001b[0m\u001b[0m\n\u001b[0;32m     90\u001b[0m             \u001b[1;32mfrom\u001b[0m \u001b[0mrootpy\u001b[0m \u001b[1;32mimport\u001b[0m \u001b[0mROOTError\u001b[0m\u001b[1;33m\u001b[0m\u001b[0m\n\u001b[1;32m---> 91\u001b[1;33m             \u001b[1;32mraise\u001b[0m \u001b[0mROOTError\u001b[0m\u001b[1;33m(\u001b[0m\u001b[0mlevel\u001b[0m\u001b[1;33m,\u001b[0m \u001b[0mlocation\u001b[0m\u001b[1;33m,\u001b[0m \u001b[0mmsg\u001b[0m\u001b[1;33m)\u001b[0m\u001b[1;33m\u001b[0m\u001b[0m\n\u001b[0m\u001b[0;32m     92\u001b[0m         \u001b[1;32mexcept\u001b[0m \u001b[0mRuntimeError\u001b[0m\u001b[1;33m:\u001b[0m\u001b[1;33m\u001b[0m\u001b[0m\n\u001b[0;32m     93\u001b[0m             \u001b[0m_\u001b[0m\u001b[1;33m,\u001b[0m \u001b[0mexc\u001b[0m\u001b[1;33m,\u001b[0m \u001b[0mtraceback\u001b[0m \u001b[1;33m=\u001b[0m \u001b[0msys\u001b[0m\u001b[1;33m.\u001b[0m\u001b[0mexc_info\u001b[0m\u001b[1;33m(\u001b[0m\u001b[1;33m)\u001b[0m\u001b[1;33m\u001b[0m\u001b[0m\n",
        "\u001b[1;31mROOTError\u001b[0m: level=3000, loc='TH1F::Add', msg='Attempt to add histograms with different number of bins'"
       ]
      }
     ],
     "prompt_number": 94
    },
    {
     "cell_type": "code",
     "collapsed": false,
     "input": [],
     "language": "python",
     "metadata": {},
     "outputs": [],
     "prompt_number": 49
    },
    {
     "cell_type": "code",
     "collapsed": false,
     "input": [
      "err_down"
     ],
     "language": "python",
     "metadata": {},
     "outputs": [
      {
       "metadata": {},
       "output_type": "pyout",
       "prompt_number": 79,
       "text": [
        "array([ 0.00304426,  0.00167306,  0.00084696,  0.00056908,  0.00108298,\n",
        "        0.00545302,  0.01252603,  0.0239291 ,  0.03440388,  0.05641579])"
       ]
      }
     ],
     "prompt_number": 79
    },
    {
     "cell_type": "code",
     "collapsed": false,
     "input": [],
     "language": "python",
     "metadata": {},
     "outputs": []
    }
   ],
   "metadata": {}
  }
 ]
}