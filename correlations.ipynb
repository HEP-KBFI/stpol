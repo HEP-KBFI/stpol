{
 "metadata": {
  "name": ""
 },
 "nbformat": 3,
 "nbformat_minor": 0,
 "worksheets": [
  {
   "cells": [
    {
     "cell_type": "code",
     "collapsed": false,
     "input": [
      "from plots.common.sample import Sample\n",
      "from plots.common.cuts import Cuts\n",
      "from plots.common.mpl_hists import ipy_show_canv\n",
      "from plots.common.tdrstyle import tdrstyle\n",
      "import ROOT\n",
      "import glob\n",
      "import math\n",
      "import numpy as np\n",
      "ROOT.gROOT.SetBatch(True)"
     ],
     "language": "python",
     "metadata": {},
     "outputs": []
    },
    {
     "cell_type": "code",
     "collapsed": false,
     "input": [
      "def find_samples(path, fnrule):\n",
      "    import os, fnmatch\n",
      "    out = []\n",
      "    for root, dirs, items in os.walk(path):\n",
      "        for it in items:\n",
      "            p = os.path.join(root, it)\n",
      "            if fnmatch.fnmatch(p, fnrule):\n",
      "                out.append(p)\n",
      "    return out"
     ],
     "language": "python",
     "metadata": {},
     "outputs": []
    },
    {
     "cell_type": "code",
     "collapsed": false,
     "input": [
      "samples = dict()\n",
      "samps = [\"TTJets_FullLept\", \"TTJets_SemiLept\", \"T_t_ToLeptons\", \"Tbar_t_ToLeptons\"]\n",
      "basepath = \"data/Aug4_0eb863_full/mu\"\n",
      "for s in samps:\n",
      "    samples[s] = Sample.fromFile(basepath + \"/mc/iso/nominal/Jul15/%s.root\" % s)\n",
      "for s in glob.glob(basepath + \"/data/iso/*.root\"):\n",
      "    samp = Sample.fromFile(s)\n",
      "    samples[samp.name] = samp\n",
      "print \"Loaded %d samples\" % len(samples)\n",
      "samples"
     ],
     "language": "python",
     "metadata": {},
     "outputs": []
    },
    {
     "cell_type": "code",
     "collapsed": false,
     "input": [
      "hists = dict()\n",
      "draw = lambda x: x.drawHistogram2D(\"cos_theta\", \"abs(mu_eta)\",\n",
      "        str(Cuts.lepton(\"mu\")*Cuts.metmt(\"mu\") * Cuts.hlt(\"mu\")*Cuts.n_jets(2)*Cuts.n_tags(1)*Cuts.mva_wp(\"mu\")),\n",
      "        binning_x=[10, -1, 1], binning_y=[10, 0, 2.5]\n",
      ")\n",
      "for k, v in samples.items():\n",
      "    hists[k] = draw(v)\n",
      "    if v.isMC:\n",
      "        hists[k].Scale(v.lumiScaleFactor(20000))\n",
      "print \"Projected %d histograms\" % len(hists)"
     ],
     "language": "python",
     "metadata": {},
     "outputs": []
    },
    {
     "cell_type": "code",
     "collapsed": false,
     "input": [
      "sample_groups = {\n",
      "    \"ttbar\": hists[\"TTJets_SemiLept\"]+hists[\"TTJets_FullLept\"],\n",
      "    \"tchan\": hists[\"T_t_ToLeptons\"]+hists[\"Tbar_t_ToLeptons\"],\n",
      "    \"data\": sum([h for k, h in hists.items() if k.startswith(\"Single\")])\n",
      "}"
     ],
     "language": "python",
     "metadata": {},
     "outputs": []
    },
    {
     "cell_type": "code",
     "collapsed": false,
     "input": [
      "#hi = hists[\"T_t_ToLeptons\"]+hists[\"Tbar_t_ToLeptons\"]\n",
      "#hi = hists[\"T_t_ToLeptons\"]+hists[\"Tbar_t_ToLeptons\"]\n",
      "\n",
      "def draw_process(name):\n",
      "    hi = sample_groups[name]\n",
      "    \n",
      "    tdrstyle()\n",
      "    c = ROOT.TCanvas()\n",
      "    hi.GetXaxis().SetTitle(\"cos #theta\")\n",
      "    hi.GetYaxis().SetTitle(\"#eta_{lepton}\")\n",
      "    #hi.GetYaxis().SetTitle(\"I_{rel, lepton}\")\n",
      "    hi.Draw(\"COL\")\n",
      "    hi.SetTitle(name)\n",
      "    ROOT.gStyle.SetPalette(55)\n",
      "    #c.SetLogz()\n",
      "    print \"N=%d\" % hi.GetEntries(), \"int=%.2f\" % hi.Integral()\n",
      "    print \"corr=%.5f\" % hi.GetCorrelationFactor(), \"cov=%.5f\" % hi.GetCovariance()\n",
      "    return ipy_show_canv(c), hi"
     ],
     "language": "python",
     "metadata": {},
     "outputs": []
    },
    {
     "cell_type": "heading",
     "level": 1,
     "metadata": {},
     "source": [
      "Analyzing the correlations"
     ]
    },
    {
     "cell_type": "heading",
     "level": 2,
     "metadata": {},
     "source": [
      "Data"
     ]
    },
    {
     "cell_type": "code",
     "collapsed": false,
     "input": [
      "pic, hi = draw_process(\"data\")\n",
      "pic"
     ],
     "language": "python",
     "metadata": {},
     "outputs": []
    },
    {
     "cell_type": "heading",
     "level": 2,
     "metadata": {},
     "source": [
      "TTBar"
     ]
    },
    {
     "cell_type": "code",
     "collapsed": false,
     "input": [
      "pic, hi = draw_process(\"ttbar\")\n",
      "pic"
     ],
     "language": "python",
     "metadata": {},
     "outputs": []
    },
    {
     "cell_type": "heading",
     "level": 2,
     "metadata": {},
     "source": [
      "signal (t-channel)"
     ]
    },
    {
     "cell_type": "code",
     "collapsed": false,
     "input": [
      "pic, hi = draw_process(\"tchan\")\n",
      "pic"
     ],
     "language": "python",
     "metadata": {},
     "outputs": []
    },
    {
     "cell_type": "code",
     "collapsed": false,
     "input": [
      "sgs = [\n",
      "    (\"tchan\", [\"T_t_ToLeptons\", \"Tbar_t_ToLeptons\"]),\n",
      "    (\"ttbar\", [\"TTJets_FullLept\", \"TTJets_SemiLept\"]),\n",
      "    (\"data\", [\"SingleMu1\", \"SingleMu2\", \"SingleMu3\", \"SingleMu_miss\"])\n",
      "]\n",
      "dpoints = dict()\n",
      "for sn, slist in sgs:\n",
      "    x = []\n",
      "    y = []\n",
      "    errs = []\n",
      "    print sn\n",
      "    for cut in np.linspace(-0.8, 0.5, 20):\n",
      "        draw = lambda x: x.drawHistogram2D(\"cos_theta\", \"abs(mu_eta)\",\n",
      "            str(Cuts.lepton(\"mu\")*Cuts.metmt(\"mu\") * Cuts.hlt(\"mu\")*Cuts.n_jets(2)*Cuts.n_tags(1)*Cuts.mva_wp(\"mu\", cut)),\n",
      "            binning_x=[100, -1, 1], binning_y=[100, 0.0, 2.5]\n",
      "        )\n",
      "        hists = [draw(samples[k]) for k in slist]\n",
      "        hi = reduce(lambda x,y: x+y, hists)\n",
      "        rho = hi.GetCorrelationFactor()\n",
      "        err_rho = (1-rho**2)**2/math.sqrt(hi.GetEntries()-1)\n",
      "        x.append(cut)\n",
      "        y.append(rho)\n",
      "        errs.append(err_rho)\n",
      "        print cut, rho, err_rho\n",
      "    dpoints[sn] = x, y, errs\n"
     ],
     "language": "python",
     "metadata": {},
     "outputs": []
    },
    {
     "cell_type": "code",
     "collapsed": false,
     "input": [
      "from plots.common.mpl_tdrstyle import plt\n",
      "%matplotlib inline\n",
      "\n",
      "fig = plt.figure(\n",
      "    figsize=(10,10)\n",
      ")\n",
      "\n",
      "ax = plt.axes()\n",
      "ax.set_title(\"Correlation dependence on the BDT WP, muon channel\")\n",
      "ax.grid(which=\"both\")\n",
      "#ax.set_ylabel(r\"correlation factor $\\rho(\\cos \\theta, I_{rel, lepton})$\", fontsize=16)\n",
      "ax.set_ylabel(r\"correlation factor $\\rho(\\cos \\theta, |\\eta_{lepton}|)$\", fontsize=16)\n",
      "ax.set_xlabel(\"BDT cut value\", fontsize=16)\n",
      "ax.set_ylim(-0.0, 0.3)\n",
      "ax.axvline(Cuts.mva_wps['bdt']['mu']['loose'], color=\"black\", label=\"BDT loose WP\", linewidth=2, ls='--')\n",
      "dit = dpoints.items()\n",
      "legit = []\n",
      "for sn, args in dit:\n",
      "    ax.errorbar(*args, label=sn)\n",
      "    legit.append(sn)\n",
      "leg = ax.legend()"
     ],
     "language": "python",
     "metadata": {},
     "outputs": []
    },
    {
     "cell_type": "code",
     "collapsed": false,
     "input": [
      "a = \"a\"\n",
      "b = \"b\"\n",
      "c = \"c\"\n",
      "for k in [a, b, c]:\n",
      "    k = k+k"
     ],
     "language": "python",
     "metadata": {},
     "outputs": []
    },
    {
     "cell_type": "code",
     "collapsed": false,
     "input": [
      "a"
     ],
     "language": "python",
     "metadata": {},
     "outputs": []
    },
    {
     "cell_type": "code",
     "collapsed": false,
     "input": [],
     "language": "python",
     "metadata": {},
     "outputs": []
    }
   ],
   "metadata": {}
  }
 ]
}