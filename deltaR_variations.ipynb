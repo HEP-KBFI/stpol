{
 "metadata": {
  "name": ""
 },
 "nbformat": 3,
 "nbformat_minor": 0,
 "worksheets": [
  {
   "cells": [
    {
     "cell_type": "code",
     "collapsed": false,
     "input": [
      "from plots.load_histos2 import load_file\n",
      "from plots.common.mpl_hists import draw_hists\n",
      "from plots.common.odict import OrderedDict\n",
      "%matplotlib inline"
     ],
     "language": "python",
     "metadata": {},
     "outputs": [],
     "prompt_number": 26
    },
    {
     "cell_type": "code",
     "collapsed": false,
     "input": [
      "pat = \"hdfs/local/stpol/step3/Aug4_0eb863_full_with_Jul29_MVA/mu/data/antiiso/Jul15/SingleMu1.root/channel/mu/mu__antiiso_nominal_dR_(.*)/jet/2j/tag/0t/met/met__mtw_nominal/signalenr/mva/mva__mu__loose.*/weight__unweighted/top_mass_sr$\"\n",
      "rets = []\n",
      "rets = load_file([\"out.root\"],\n",
      "    {\n",
      "     \"p1\": pat\n",
      "    }\n",
      ")"
     ],
     "language": "python",
     "metadata": {},
     "outputs": [
      {
       "output_type": "stream",
       "stream": "stderr",
       "text": [
        "INFO:load_histos2] Matched [('p1', 3)] histograms\n"
       ]
      }
     ],
     "prompt_number": 59
    },
    {
     "cell_type": "code",
     "collapsed": false,
     "input": [
      "hists = rets[\"p1\"][pat]\n",
      "hd = OrderedDict()\n",
      "for (d,), h in hists:\n",
      "    h = h.Clone()\n",
      "    h.Rebin(5)\n",
      "    h.Scale(1.0/h.Integral())\n",
      "    hd[d] = h"
     ],
     "language": "python",
     "metadata": {},
     "outputs": [],
     "prompt_number": 60
    },
    {
     "cell_type": "code",
     "collapsed": false,
     "input": [
      "ax = draw_hists(hd)"
     ],
     "language": "python",
     "metadata": {},
     "outputs": [
      {
       "metadata": {},
       "output_type": "display_data",
       "png": "[encoded data removed]",
       "text": [
        "<matplotlib.figure.Figure at 0x10c07d910>"
       ]
      }
     ],
     "prompt_number": 61
    },
    {
     "cell_type": "code",
     "collapsed": false,
     "input": [
      "hi = hd[\"nominal\"]-hd[\"up\"]"
     ],
     "language": "python",
     "metadata": {},
     "outputs": [],
     "prompt_number": 48
    },
    {
     "cell_type": "code",
     "collapsed": false,
     "input": [
      "list(hi.y())"
     ],
     "language": "python",
     "metadata": {},
     "outputs": [
      {
       "metadata": {},
       "output_type": "pyout",
       "prompt_number": 49,
       "text": [
        "[0.0011119917035102844,\n",
        " 0.018000274896621704,\n",
        " 0.003984618932008743,\n",
        " 0.005976926535367966,\n",
        " 0.04093499481678009,\n",
        " -0.0037529543042182922,\n",
        " -0.010540701448917389,\n",
        " 0.000741325318813324,\n",
        " -0.008548393845558167,\n",
        " -0.018648937344551086,\n",
        " -0.01945975422859192,\n",
        " -0.009799376130104065]"
       ]
      }
     ],
     "prompt_number": 49
    },
    {
     "cell_type": "code",
     "collapsed": false,
     "input": [
      "rets[\"p1\"].keys()"
     ],
     "language": "python",
     "metadata": {},
     "outputs": [
      {
       "metadata": {},
       "output_type": "pyout",
       "prompt_number": 55,
       "text": [
        "['hdfs/local/stpol/step3/Aug4_0eb863_full_with_Jul29_MVA/mu/data/antiiso/Jul15/SingleMu1.root/channel/mu/mu__antiiso_nominal_dR_up/jet/2j/tag/0t/met/met__mtw_nominal/signalenr/mva/mva__mu__loose__0_06/weight__unweighted/top_mass',\n",
        " 'hdfs/local/stpol/step3/Aug4_0eb863_full_with_Jul29_MVA/mu/data/antiiso/Jul15/SingleMu1.root/channel/mu/mu__antiiso_nominal_dR_up/jet/2j/tag/0t/met/met__mtw_nominal/signalenr/mva/mva__mu__loose__0_06/weight__unweighted/top_mass_sr',\n",
        " 'hdfs/local/stpol/step3/Aug4_0eb863_full_with_Jul29_MVA/mu/data/antiiso/Jul15/SingleMu1.root/channel/mu/mu__antiiso_nominal_dR_down/jet/2j/tag/0t/met/met__mtw_nominal/signalenr/mva/mva__mu__loose__0_06/weight__unweighted/top_mass',\n",
        " 'hdfs/local/stpol/step3/Aug4_0eb863_full_with_Jul29_MVA/mu/data/antiiso/Jul15/SingleMu1.root/channel/mu/mu__antiiso_nominal_dR_down/jet/2j/tag/0t/met/met__mtw_nominal/signalenr/mva/mva__mu__loose__0_06/weight__unweighted/top_mass_sr',\n",
        " 'hdfs/local/stpol/step3/Aug4_0eb863_full_with_Jul29_MVA/mu/data/antiiso/Jul15/SingleMu1.root/channel/mu/mu__antiiso_nominal_dR_nominal/jet/2j/tag/0t/met/met__mtw_nominal/signalenr/mva/mva__mu__loose__0_06/weight__unweighted/top_mass',\n",
        " 'hdfs/local/stpol/step3/Aug4_0eb863_full_with_Jul29_MVA/mu/data/antiiso/Jul15/SingleMu1.root/channel/mu/mu__antiiso_nominal_dR_nominal/jet/2j/tag/0t/met/met__mtw_nominal/signalenr/mva/mva__mu__loose__0_06/weight__unweighted/top_mass_sr']"
       ]
      }
     ],
     "prompt_number": 55
    },
    {
     "cell_type": "code",
     "collapsed": false,
     "input": [],
     "language": "python",
     "metadata": {},
     "outputs": []
    }
   ],
   "metadata": {}
  }
 ]
}