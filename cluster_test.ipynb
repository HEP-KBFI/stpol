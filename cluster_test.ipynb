{
 "metadata": {
  "name": "cluster_test"
 },
 "nbformat": 3,
 "nbformat_minor": 0,
 "worksheets": [
  {
   "cells": [
    {
     "cell_type": "markdown",
     "metadata": {},
     "source": [
      "<style>\n",
      "\n",
      "   .cell {\n",
      "       width: inherit !important;\n",
      "       background-color: #f3f3f3 !important;\n",
      "       margin-left: 120px !important;\n",
      "   }\n",
      "\n",
      "   /* block fixes margin on input boxes */\n",
      "   /* in firefox */\n",
      "   .input.hbox {\n",
      "        width: 50em !important;\n",
      "        display: block !important;\n",
      "    }\n",
      "    \n",
      "   .input_area { \n",
      "        background-color: white !important; \n",
      "    }\n",
      "\n",
      "    .output_area pre {\n",
      "        font-family: \"Source Code Pro\", source-code-pro, Consolas, monospace;\n",
      "        border: 0px;\n",
      "    }\n",
      "\n",
      "    div.output_text {\n",
      "        font-family: \"Source Code Pro\", source-code-pro, Consolas, monospace; \n",
      "    }\n",
      "\n",
      "    div.text_cell {\n",
      "        width: 35em;\n",
      "        text-align: left;\n",
      "    }\n",
      "    \n",
      "    div.prompt {\n",
      "        width: 0px;\n",
      "        visibility: hidden !important;\n",
      "    }\n",
      "    \n",
      "    .code_cell {\n",
      "        background-color: #f3f3f3;\n",
      "    }\n",
      "    \n",
      "    .highlight {\n",
      "        background-color: #ffffff;\n",
      "    }\n",
      "        \n",
      "    \n",
      "    \n",
      "    div.input_prompt {\n",
      "        visibility: hidden;\n",
      "        width: 0 !important;\n",
      "    }\n",
      "\n",
      "    div.text_cell_render {\n",
      "        font-family: \"Minion Pro\", \"minion-pro\", \"Charis SIL\", Palatino, serif !important;\n",
      "        font-size: 14pt !important;\n",
      "        line-height: 145% !important;\n",
      "        width: 35em !important;\n",
      "        text-align: left !important;\n",
      "        background-color: #f3f3f3 !important;\n",
      "    }\n",
      "\n",
      "    div.text_cell_render h1 {\n",
      "        display: block;\n",
      "        font-size: 28pt;\n",
      "        color: #3B3B3B;\n",
      "        margin-bottom: 0em;\n",
      "        margin-top: 0.5em;\n",
      "        \n",
      "    }\n",
      "    \n",
      "    .rendered_html li {\n",
      "        margin-bottom: .25em;\n",
      "        color: #3B3B3B;;\n",
      "    }\n",
      "    \n",
      "    div.text_cell_render h2:before {\n",
      "        content: \"\\2FFA\";\n",
      "        margin-right: 0.5em;\n",
      "        font-size: .5em;\n",
      "        vertical-align: baseline;\n",
      "        border-top: 1px;\n",
      "\n",
      "    }\n",
      "\n",
      "    .hiterm {\n",
      "        font-weight: 500;\n",
      "        color: #DC143C;\n",
      "    }\n",
      "\n",
      "   .text_cell_render h2 {\n",
      "        font-size: 20pt;\n",
      "        margin-bottom: 0em;\n",
      "        margin-top: 0.5em;\n",
      "        display: block;\n",
      "        color: #3B3B3B;\n",
      "    }\n",
      "\n",
      "    .MathJax_Display {\n",
      "        /*text-align: center !important;*/\n",
      "        margin-left: 2em !important;\n",
      "        margin-top: .5em !important;\n",
      "        margin-bottom: .5em !important;\n",
      "    }\n",
      "\n",
      "    .text_cell_render h3 {\n",
      "        font-size: 14pt;\n",
      "        font-weight: 600;\n",
      "        font-style: italic;\n",
      "        margin-bottom: -0.5em;\n",
      "        margin-top: -0.25em;\n",
      "        color: #3B3B3B;\n",
      "        text-indent: 2em;\n",
      "    }\n",
      "\n",
      "    .text_cell_render h5 {\n",
      "        font-weight: 300;\n",
      "        font-size: 14pt;\n",
      "        color: #4057A1;\n",
      "        font-style: italic;\n",
      "        margin-bottom: .5em;\n",
      "        margin-top: 0.5em;\n",
      "        display: block;\n",
      "    }\n",
      "    \n",
      "    .CodeMirror {\n",
      "        font-family: \"Source Code Pro\", source-code-pro, Consolas, monospace !important;\n",
      "        font-size: 10pt;\n",
      "        background:  #fffffe; /* #f0f8fb #e2eef9*/\n",
      "        border: 0px;\n",
      "    }\n",
      "    \n",
      "    .rendered_html {\n",
      "        margin-left: 120px;\n",
      "        \n",
      "    }\n",
      "\n",
      "    .rendered_html code {\n",
      "        font-family: \"Source Code Pro\", source-code-pro,Consolas,    monospace;\n",
      "        font-size: 85%;\n",
      "    }\n",
      "    \n",
      "   pre, code, kbd, samp { font-family: \"Source Code Pro\", source-code-pro, Consola, monospace; }\n",
      "    \n",
      "    .rendered_html p {\n",
      "        text-align: left;\n",
      "        color: #3B3B3B;\n",
      "        margin-bottom: .5em;\n",
      "\n",
      "    }\n",
      "\n",
      "       .rendered_html p+p { \n",
      "          text-indent: 1em;\n",
      "           margin-top: 0;\n",
      "       }\n",
      "    .rendered_html ol {\n",
      "        list-style: decimal;\n",
      "        /*margin: 1em 2em;*/\n",
      "    }\n",
      "\n",
      "    .rendered_html ol ol {\n",
      "        list-style: decimal;\n",
      "    }\n",
      "\n",
      "    .rendered_html ol ol ol {\n",
      "        list-style: decimal;\n",
      "    }\n",
      "\n",
      "    body{background-color:#f3f3f3;}\n",
      "\n",
      "    .rendered_html p.hangpar {\n",
      "        text-indent: 0;\n",
      "    }\n",
      "\n",
      "</style>\n",
      "<script type=\"text/javascript\" src=\"//use.typekit.net/glz2cja.js\"></script>\n",
      "<script type=\"text/javascript\">try{Typekit.load();}catch(e){}</script>"
     ]
    },
    {
     "cell_type": "code",
     "collapsed": false,
     "input": [
      "from IPython.parallel import Client\n",
      "import IPython.parallel\n",
      "try:\n",
      "    c = Client(\"/home/joosep/.ipython/profile_default/security/ipcontroller-client.json\")\n",
      "    dview = c[:]\n",
      "    print \"Got %d engines\" % len(c.ids)\n",
      "except e:\n",
      "    print \"No engines were available: %s\" % str(e)"
     ],
     "language": "python",
     "metadata": {},
     "outputs": [
      {
       "output_type": "stream",
       "stream": "stdout",
       "text": [
        "Got 16 engines\n"
       ]
      }
     ],
     "prompt_number": 1
    },
    {
     "cell_type": "code",
     "collapsed": false,
     "input": [
      "@dview.remote(block=True)\n",
      "def hostnames():\n",
      "    import socket\n",
      "    import os\n",
      "    return socket.gethostname() + \":\" + str(os.getpid())\n",
      "\n",
      "@dview.remote(block=True)\n",
      "def has_root():\n",
      "    try:\n",
      "        import ROOT\n",
      "        return \"ROOT:\" + str(ROOT.gROOT.GetVersion())\n",
      "    except Exception as e:\n",
      "        raise e"
     ],
     "language": "python",
     "metadata": {},
     "outputs": [],
     "prompt_number": 2
    },
    {
     "cell_type": "code",
     "collapsed": false,
     "input": [
      "hostnames()"
     ],
     "language": "python",
     "metadata": {},
     "outputs": [
      {
       "output_type": "pyout",
       "prompt_number": 3,
       "text": [
        "['cms.hep.kbfi.ee:25573',\n",
        " 'cms.hep.kbfi.ee:25574',\n",
        " 'cms.hep.kbfi.ee:25575',\n",
        " 'cms.hep.kbfi.ee:25576',\n",
        " 'cms.hep.kbfi.ee:25580',\n",
        " 'cms.hep.kbfi.ee:25585',\n",
        " 'cms.hep.kbfi.ee:25588',\n",
        " 'cms.hep.kbfi.ee:25597',\n",
        " 'cms.hep.kbfi.ee:25612',\n",
        " 'cms.hep.kbfi.ee:25632',\n",
        " 'cms.hep.kbfi.ee:25647',\n",
        " 'cms.hep.kbfi.ee:25671',\n",
        " 'cms.hep.kbfi.ee:25689',\n",
        " 'cms.hep.kbfi.ee:25709',\n",
        " 'cms.hep.kbfi.ee:25725',\n",
        " 'cms.hep.kbfi.ee:25741']"
       ]
      }
     ],
     "prompt_number": 3
    },
    {
     "cell_type": "code",
     "collapsed": false,
     "input": [
      "has_root()"
     ],
     "language": "python",
     "metadata": {},
     "outputs": [
      {
       "output_type": "pyout",
       "prompt_number": 4,
       "text": [
        "['ROOT:5.34/07',\n",
        " 'ROOT:5.34/07',\n",
        " 'ROOT:5.34/07',\n",
        " 'ROOT:5.34/07',\n",
        " 'ROOT:5.34/07',\n",
        " 'ROOT:5.34/07',\n",
        " 'ROOT:5.34/07',\n",
        " 'ROOT:5.34/07',\n",
        " 'ROOT:5.34/07',\n",
        " 'ROOT:5.34/07',\n",
        " 'ROOT:5.34/07',\n",
        " 'ROOT:5.34/07',\n",
        " 'ROOT:5.34/07',\n",
        " 'ROOT:5.34/07',\n",
        " 'ROOT:5.34/07',\n",
        " 'ROOT:5.34/07']"
       ]
      }
     ],
     "prompt_number": 4
    },
    {
     "cell_type": "code",
     "collapsed": false,
     "input": [
      "def draw_histo(fname):\n",
      "    import ROOT\n",
      "    ROOT.gROOT.SetBatch(True)\n",
      "    fi = ROOT.TFile(fname)\n",
      "    tree=fi.Get(\"trees/Events\")\n",
      "    ROOT.gROOT.cd()\n",
      "    hi = ROOT.TH1F(\"h1\", \"h1\", 20, -1, 1)\n",
      "    tree.Draw(\"cos_theta>>h1\")\n",
      "    return hi"
     ],
     "language": "python",
     "metadata": {},
     "outputs": [],
     "prompt_number": 5
    },
    {
     "cell_type": "code",
     "collapsed": false,
     "input": [
      "import glob\n",
      "fnames = glob.glob(\"/home/joosep/singletop/stpol/out_step3_05_03_17_42/*/*/*.root\")\n",
      "len(fnames)"
     ],
     "language": "python",
     "metadata": {},
     "outputs": [
      {
       "output_type": "pyout",
       "prompt_number": 30,
       "text": [
        "50"
       ]
      }
     ],
     "prompt_number": 30
    },
    {
     "cell_type": "code",
     "collapsed": false,
     "input": [
      "hists=dview.map_sync(draw_histo, fnames)"
     ],
     "language": "python",
     "metadata": {},
     "outputs": [],
     "prompt_number": 29
    },
    {
     "cell_type": "code",
     "collapsed": false,
     "input": [
      "import ROOT\n",
      "c = ROOT.TCanvas(\"c\")\n",
      "hists[0].Draw()\n",
      "c.SaveAs(\"~/temp.jpg\")"
     ],
     "language": "python",
     "metadata": {},
     "outputs": [
      {
       "output_type": "stream",
       "stream": "stderr",
       "text": [
        "TCanvas::Constructor:0: RuntimeWarning: Deleting canvas with same name: c\n"
       ]
      }
     ],
     "prompt_number": 62
    },
    {
     "cell_type": "code",
     "collapsed": false,
     "input": [
      "ls ~/temp.jpg"
     ],
     "language": "python",
     "metadata": {},
     "outputs": [
      {
       "output_type": "stream",
       "stream": "stdout",
       "text": [
        "\u001b[0mls: /home/joosep/temp.jpg: No such file or directory\r\n",
        "\u001b[m"
       ]
      }
     ],
     "prompt_number": 63
    },
    {
     "cell_type": "code",
     "collapsed": false,
     "input": [
      "from IPython.core.display import Image\n",
      "Image(filename='temp.svg')\n",
      "display(\"temp.svg\")"
     ],
     "language": "python",
     "metadata": {},
     "outputs": [
      {
       "output_type": "display_data",
       "text": [
        "'temp.svg'"
       ]
      }
     ],
     "prompt_number": 61
    },
    {
     "cell_type": "code",
     "collapsed": false,
     "input": [],
     "language": "python",
     "metadata": {},
     "outputs": []
    }
   ],
   "metadata": {}
  }
 ]
}
