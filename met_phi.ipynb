{
 "metadata": {
  "name": ""
 },
 "nbformat": 3,
 "nbformat_minor": 0,
 "worksheets": [
  {
   "cells": [
    {
     "cell_type": "code",
     "collapsed": false,
     "input": [
      "%matplotlib inline\n",
      "%pylab inline"
     ],
     "language": "python",
     "metadata": {},
     "outputs": [
      {
       "output_type": "stream",
       "stream": "stdout",
       "text": [
        "Populating the interactive namespace from numpy and matplotlib\n"
       ]
      },
      {
       "output_type": "stream",
       "stream": "stderr",
       "text": [
        "WARNING: pylab import has clobbered these variables: ['axes', 'sample']\n",
        "`%pylab --no-import-all` prevents importing * from pylab and numpy\n"
       ]
      }
     ],
     "prompt_number": 9
    },
    {
     "cell_type": "code",
     "collapsed": false,
     "input": [
      "def sumh(hists):\n",
      "    return reduce(lambda x,y: x+y, hists)\n",
      "from plots.common.utils import NestedDict"
     ],
     "language": "python",
     "metadata": {},
     "outputs": [],
     "prompt_number": 2
    },
    {
     "cell_type": "code",
     "collapsed": false,
     "input": [
      "%time %run plots/met_phi.py"
     ],
     "language": "python",
     "metadata": {},
     "outputs": [
      {
       "output_type": "stream",
       "stream": "stdout",
       "text": [
        "Loading dependency libraries...\n",
        "Done loading dependency libraries..."
       ]
      },
      {
       "output_type": "stream",
       "stream": "stdout",
       "text": [
        "\n",
        "Constructing sample nodes"
       ]
      },
      {
       "output_type": "stream",
       "stream": "stdout",
       "text": [
        "\n",
        "Done constructing sample nodes"
       ]
      },
      {
       "output_type": "stream",
       "stream": "stdout",
       "text": [
        "\n",
        "Recursing down\n",
        "CPU times: user 6min 21s, sys: 4.42 s, total: 6min 26s"
       ]
      },
      {
       "output_type": "stream",
       "stream": "stdout",
       "text": [
        "\n",
        "Wall time: 12min 28s\n"
       ]
      }
     ],
     "prompt_number": 3
    },
    {
     "cell_type": "code",
     "collapsed": false,
     "input": [
      "outd.keys()"
     ],
     "language": "python",
     "metadata": {},
     "outputs": [
      {
       "metadata": {},
       "output_type": "pyout",
       "prompt_number": 4,
       "text": [
        "['Aug4_0eb863_full/mu/mc/iso/nominal/Jul15/W1Jets_exclusive.root/2j0t/w_nominal/cos_theta',\n",
        " 'Aug4_0eb863_full/mu/mc/iso/nominal/Jul15/W1Jets_exclusive.root/2j1t/w_nominal/cos_theta',\n",
        " 'Aug4_0eb863_full/mu/mc/iso/nominal/Jul15/W1Jets_exclusive.root/2j0t/w_nominal/met_phi',\n",
        " 'Aug4_0eb863_full/mu/mc/iso/nominal/Jul15/W1Jets_exclusive.root/2j1t/w_nominal/met_phi',\n",
        " 'Aug4_0eb863_full/mu/mc/iso/nominal/Jul15/W1Jets_exclusive.root/2j0t/w_nominal/bdt',\n",
        " 'Aug4_0eb863_full/mu/mc/iso/nominal/Jul15/W1Jets_exclusive.root/2j1t/w_nominal/bdt',\n",
        " 'Aug4_0eb863_full/mu/mc/iso/nominal/Jul15/W3Jets_exclusive.root/2j0t/w_nominal/cos_theta',\n",
        " 'Aug4_0eb863_full/mu/mc/iso/nominal/Jul15/W3Jets_exclusive.root/2j1t/w_nominal/cos_theta',\n",
        " 'Aug4_0eb863_full/mu/mc/iso/nominal/Jul15/W3Jets_exclusive.root/2j0t/w_nominal/met_phi',\n",
        " 'Aug4_0eb863_full/mu/mc/iso/nominal/Jul15/W3Jets_exclusive.root/2j1t/w_nominal/met_phi',\n",
        " 'Aug4_0eb863_full/mu/mc/iso/nominal/Jul15/W3Jets_exclusive.root/2j0t/w_nominal/bdt',\n",
        " 'Aug4_0eb863_full/mu/mc/iso/nominal/Jul15/W3Jets_exclusive.root/2j1t/w_nominal/bdt',\n",
        " 'Aug4_0eb863_full/mu/mc/iso/nominal/Jul15/W4Jets_exclusive.root/2j0t/w_nominal/cos_theta',\n",
        " 'Aug4_0eb863_full/mu/mc/iso/nominal/Jul15/W4Jets_exclusive.root/2j1t/w_nominal/cos_theta',\n",
        " 'Aug4_0eb863_full/mu/mc/iso/nominal/Jul15/W4Jets_exclusive.root/2j0t/w_nominal/met_phi',\n",
        " 'Aug4_0eb863_full/mu/mc/iso/nominal/Jul15/W4Jets_exclusive.root/2j1t/w_nominal/met_phi',\n",
        " 'Aug4_0eb863_full/mu/mc/iso/nominal/Jul15/W4Jets_exclusive.root/2j0t/w_nominal/bdt',\n",
        " 'Aug4_0eb863_full/mu/mc/iso/nominal/Jul15/W4Jets_exclusive.root/2j1t/w_nominal/bdt',\n",
        " 'Aug4_0eb863_full/mu/mc/iso/nominal/Jul15/W2Jets_exclusive.root/2j0t/w_nominal/cos_theta',\n",
        " 'Aug4_0eb863_full/mu/mc/iso/nominal/Jul15/W2Jets_exclusive.root/2j1t/w_nominal/cos_theta',\n",
        " 'Aug4_0eb863_full/mu/mc/iso/nominal/Jul15/W2Jets_exclusive.root/2j0t/w_nominal/met_phi',\n",
        " 'Aug4_0eb863_full/mu/mc/iso/nominal/Jul15/W2Jets_exclusive.root/2j1t/w_nominal/met_phi',\n",
        " 'Aug4_0eb863_full/mu/mc/iso/nominal/Jul15/W2Jets_exclusive.root/2j0t/w_nominal/bdt',\n",
        " 'Aug4_0eb863_full/mu/mc/iso/nominal/Jul15/W2Jets_exclusive.root/2j1t/w_nominal/bdt',\n",
        " 'Aug4_0eb863_full/mu/mc/iso/nominal/Jul15/TTJets_SemiLept.root/2j0t/w_nominal/cos_theta',\n",
        " 'Aug4_0eb863_full/mu/mc/iso/nominal/Jul15/TTJets_SemiLept.root/2j1t/w_nominal/cos_theta',\n",
        " 'Aug4_0eb863_full/mu/mc/iso/nominal/Jul15/TTJets_SemiLept.root/2j0t/w_nominal/met_phi',\n",
        " 'Aug4_0eb863_full/mu/mc/iso/nominal/Jul15/TTJets_SemiLept.root/2j1t/w_nominal/met_phi',\n",
        " 'Aug4_0eb863_full/mu/mc/iso/nominal/Jul15/TTJets_SemiLept.root/2j0t/w_nominal/bdt',\n",
        " 'Aug4_0eb863_full/mu/mc/iso/nominal/Jul15/TTJets_SemiLept.root/2j1t/w_nominal/bdt',\n",
        " 'Aug4_0eb863_full/mu/mc/iso/nominal/Jul15/TTJets_FullLept.root/2j0t/w_nominal/cos_theta',\n",
        " 'Aug4_0eb863_full/mu/mc/iso/nominal/Jul15/TTJets_FullLept.root/2j1t/w_nominal/cos_theta',\n",
        " 'Aug4_0eb863_full/mu/mc/iso/nominal/Jul15/TTJets_FullLept.root/2j0t/w_nominal/met_phi',\n",
        " 'Aug4_0eb863_full/mu/mc/iso/nominal/Jul15/TTJets_FullLept.root/2j1t/w_nominal/met_phi',\n",
        " 'Aug4_0eb863_full/mu/mc/iso/nominal/Jul15/TTJets_FullLept.root/2j0t/w_nominal/bdt',\n",
        " 'Aug4_0eb863_full/mu/mc/iso/nominal/Jul15/TTJets_FullLept.root/2j1t/w_nominal/bdt',\n",
        " 'Aug4_0eb863_full/mu/mc/iso/nominal/Jul15/Tbar_t_ToLeptons.root/2j0t/w_nominal/cos_theta',\n",
        " 'Aug4_0eb863_full/mu/mc/iso/nominal/Jul15/Tbar_t_ToLeptons.root/2j1t/w_nominal/cos_theta',\n",
        " 'Aug4_0eb863_full/mu/mc/iso/nominal/Jul15/Tbar_t_ToLeptons.root/2j0t/w_nominal/met_phi',\n",
        " 'Aug4_0eb863_full/mu/mc/iso/nominal/Jul15/Tbar_t_ToLeptons.root/2j1t/w_nominal/met_phi',\n",
        " 'Aug4_0eb863_full/mu/mc/iso/nominal/Jul15/Tbar_t_ToLeptons.root/2j0t/w_nominal/bdt',\n",
        " 'Aug4_0eb863_full/mu/mc/iso/nominal/Jul15/Tbar_t_ToLeptons.root/2j1t/w_nominal/bdt',\n",
        " 'Aug4_0eb863_full/mu/mc/iso/nominal/Jul15/T_t_ToLeptons.root/2j0t/w_nominal/cos_theta',\n",
        " 'Aug4_0eb863_full/mu/mc/iso/nominal/Jul15/T_t_ToLeptons.root/2j1t/w_nominal/cos_theta',\n",
        " 'Aug4_0eb863_full/mu/mc/iso/nominal/Jul15/T_t_ToLeptons.root/2j0t/w_nominal/met_phi',\n",
        " 'Aug4_0eb863_full/mu/mc/iso/nominal/Jul15/T_t_ToLeptons.root/2j1t/w_nominal/met_phi',\n",
        " 'Aug4_0eb863_full/mu/mc/iso/nominal/Jul15/T_t_ToLeptons.root/2j0t/w_nominal/bdt',\n",
        " 'Aug4_0eb863_full/mu/mc/iso/nominal/Jul15/T_t_ToLeptons.root/2j1t/w_nominal/bdt',\n",
        " 'Aug4_0eb863_full/mu/data/iso/Aug1/SingleMu_miss.root/2j0t/w_nominal/cos_theta',\n",
        " 'Aug4_0eb863_full/mu/data/iso/Aug1/SingleMu_miss.root/2j1t/w_nominal/cos_theta',\n",
        " 'Aug4_0eb863_full/mu/data/iso/Aug1/SingleMu_miss.root/2j0t/w_nominal/met_phi',\n",
        " 'Aug4_0eb863_full/mu/data/iso/Aug1/SingleMu_miss.root/2j1t/w_nominal/met_phi',\n",
        " 'Aug4_0eb863_full/mu/data/iso/Aug1/SingleMu_miss.root/2j0t/w_nominal/bdt',\n",
        " 'Aug4_0eb863_full/mu/data/iso/Aug1/SingleMu_miss.root/2j1t/w_nominal/bdt',\n",
        " 'Aug4_0eb863_full/mu/data/iso/Jul15/SingleMu1.root/2j0t/w_nominal/cos_theta',\n",
        " 'Aug4_0eb863_full/mu/data/iso/Jul15/SingleMu1.root/2j1t/w_nominal/cos_theta',\n",
        " 'Aug4_0eb863_full/mu/data/iso/Jul15/SingleMu1.root/2j0t/w_nominal/met_phi',\n",
        " 'Aug4_0eb863_full/mu/data/iso/Jul15/SingleMu1.root/2j1t/w_nominal/met_phi',\n",
        " 'Aug4_0eb863_full/mu/data/iso/Jul15/SingleMu1.root/2j0t/w_nominal/bdt',\n",
        " 'Aug4_0eb863_full/mu/data/iso/Jul15/SingleMu1.root/2j1t/w_nominal/bdt',\n",
        " 'Aug4_0eb863_full/mu/data/iso/Jul15/SingleMu3.root/2j0t/w_nominal/cos_theta',\n",
        " 'Aug4_0eb863_full/mu/data/iso/Jul15/SingleMu3.root/2j1t/w_nominal/cos_theta',\n",
        " 'Aug4_0eb863_full/mu/data/iso/Jul15/SingleMu3.root/2j0t/w_nominal/met_phi',\n",
        " 'Aug4_0eb863_full/mu/data/iso/Jul15/SingleMu3.root/2j1t/w_nominal/met_phi',\n",
        " 'Aug4_0eb863_full/mu/data/iso/Jul15/SingleMu3.root/2j0t/w_nominal/bdt',\n",
        " 'Aug4_0eb863_full/mu/data/iso/Jul15/SingleMu3.root/2j1t/w_nominal/bdt',\n",
        " 'Aug4_0eb863_full/mu/data/iso/Jul15/SingleMu2.root/2j0t/w_nominal/cos_theta',\n",
        " 'Aug4_0eb863_full/mu/data/iso/Jul15/SingleMu2.root/2j1t/w_nominal/cos_theta',\n",
        " 'Aug4_0eb863_full/mu/data/iso/Jul15/SingleMu2.root/2j0t/w_nominal/met_phi',\n",
        " 'Aug4_0eb863_full/mu/data/iso/Jul15/SingleMu2.root/2j1t/w_nominal/met_phi',\n",
        " 'Aug4_0eb863_full/mu/data/iso/Jul15/SingleMu2.root/2j0t/w_nominal/bdt',\n",
        " 'Aug4_0eb863_full/mu/data/iso/Jul15/SingleMu2.root/2j1t/w_nominal/bdt',\n",
        " '/hdfs/local/stpol/step3/Jul26_MVA_multivar_v1/mu/mc/iso/nominal/Jul15/W1Jets_exclusive.root/2j0t/w_nominal/cos_theta',\n",
        " '/hdfs/local/stpol/step3/Jul26_MVA_multivar_v1/mu/mc/iso/nominal/Jul15/W1Jets_exclusive.root/2j1t/w_nominal/cos_theta',\n",
        " '/hdfs/local/stpol/step3/Jul26_MVA_multivar_v1/mu/mc/iso/nominal/Jul15/W1Jets_exclusive.root/2j0t/w_nominal/met_phi',\n",
        " '/hdfs/local/stpol/step3/Jul26_MVA_multivar_v1/mu/mc/iso/nominal/Jul15/W1Jets_exclusive.root/2j1t/w_nominal/met_phi',\n",
        " '/hdfs/local/stpol/step3/Jul26_MVA_multivar_v1/mu/mc/iso/nominal/Jul15/W1Jets_exclusive.root/2j0t/w_nominal/bdt',\n",
        " '/hdfs/local/stpol/step3/Jul26_MVA_multivar_v1/mu/mc/iso/nominal/Jul15/W1Jets_exclusive.root/2j1t/w_nominal/bdt',\n",
        " '/hdfs/local/stpol/step3/Jul26_MVA_multivar_v1/mu/mc/iso/nominal/Jul15/W2Jets_exclusive.root/2j0t/w_nominal/cos_theta',\n",
        " '/hdfs/local/stpol/step3/Jul26_MVA_multivar_v1/mu/mc/iso/nominal/Jul15/W2Jets_exclusive.root/2j1t/w_nominal/cos_theta',\n",
        " '/hdfs/local/stpol/step3/Jul26_MVA_multivar_v1/mu/mc/iso/nominal/Jul15/W2Jets_exclusive.root/2j0t/w_nominal/met_phi',\n",
        " '/hdfs/local/stpol/step3/Jul26_MVA_multivar_v1/mu/mc/iso/nominal/Jul15/W2Jets_exclusive.root/2j1t/w_nominal/met_phi',\n",
        " '/hdfs/local/stpol/step3/Jul26_MVA_multivar_v1/mu/mc/iso/nominal/Jul15/W2Jets_exclusive.root/2j0t/w_nominal/bdt',\n",
        " '/hdfs/local/stpol/step3/Jul26_MVA_multivar_v1/mu/mc/iso/nominal/Jul15/W2Jets_exclusive.root/2j1t/w_nominal/bdt',\n",
        " '/hdfs/local/stpol/step3/Jul26_MVA_multivar_v1/mu/mc/iso/nominal/Jul15/W3Jets_exclusive.root/2j0t/w_nominal/cos_theta',\n",
        " '/hdfs/local/stpol/step3/Jul26_MVA_multivar_v1/mu/mc/iso/nominal/Jul15/W3Jets_exclusive.root/2j1t/w_nominal/cos_theta',\n",
        " '/hdfs/local/stpol/step3/Jul26_MVA_multivar_v1/mu/mc/iso/nominal/Jul15/W3Jets_exclusive.root/2j0t/w_nominal/met_phi',\n",
        " '/hdfs/local/stpol/step3/Jul26_MVA_multivar_v1/mu/mc/iso/nominal/Jul15/W3Jets_exclusive.root/2j1t/w_nominal/met_phi',\n",
        " '/hdfs/local/stpol/step3/Jul26_MVA_multivar_v1/mu/mc/iso/nominal/Jul15/W3Jets_exclusive.root/2j0t/w_nominal/bdt',\n",
        " '/hdfs/local/stpol/step3/Jul26_MVA_multivar_v1/mu/mc/iso/nominal/Jul15/W3Jets_exclusive.root/2j1t/w_nominal/bdt',\n",
        " '/hdfs/local/stpol/step3/Jul26_MVA_multivar_v1/mu/mc/iso/nominal/Jul15/W4Jets_exclusive.root/2j0t/w_nominal/cos_theta',\n",
        " '/hdfs/local/stpol/step3/Jul26_MVA_multivar_v1/mu/mc/iso/nominal/Jul15/W4Jets_exclusive.root/2j1t/w_nominal/cos_theta',\n",
        " '/hdfs/local/stpol/step3/Jul26_MVA_multivar_v1/mu/mc/iso/nominal/Jul15/W4Jets_exclusive.root/2j0t/w_nominal/met_phi',\n",
        " '/hdfs/local/stpol/step3/Jul26_MVA_multivar_v1/mu/mc/iso/nominal/Jul15/W4Jets_exclusive.root/2j1t/w_nominal/met_phi',\n",
        " '/hdfs/local/stpol/step3/Jul26_MVA_multivar_v1/mu/mc/iso/nominal/Jul15/W4Jets_exclusive.root/2j0t/w_nominal/bdt',\n",
        " '/hdfs/local/stpol/step3/Jul26_MVA_multivar_v1/mu/mc/iso/nominal/Jul15/W4Jets_exclusive.root/2j1t/w_nominal/bdt',\n",
        " '/hdfs/local/stpol/step3/Jul26_MVA_multivar_v1/mu/mc/iso/nominal/Jul15/TTJets_FullLept.root/2j0t/w_nominal/cos_theta',\n",
        " '/hdfs/local/stpol/step3/Jul26_MVA_multivar_v1/mu/mc/iso/nominal/Jul15/TTJets_FullLept.root/2j1t/w_nominal/cos_theta',\n",
        " '/hdfs/local/stpol/step3/Jul26_MVA_multivar_v1/mu/mc/iso/nominal/Jul15/TTJets_FullLept.root/2j0t/w_nominal/met_phi',\n",
        " '/hdfs/local/stpol/step3/Jul26_MVA_multivar_v1/mu/mc/iso/nominal/Jul15/TTJets_FullLept.root/2j1t/w_nominal/met_phi',\n",
        " '/hdfs/local/stpol/step3/Jul26_MVA_multivar_v1/mu/mc/iso/nominal/Jul15/TTJets_FullLept.root/2j0t/w_nominal/bdt',\n",
        " '/hdfs/local/stpol/step3/Jul26_MVA_multivar_v1/mu/mc/iso/nominal/Jul15/TTJets_FullLept.root/2j1t/w_nominal/bdt',\n",
        " '/hdfs/local/stpol/step3/Jul26_MVA_multivar_v1/mu/mc/iso/nominal/Jul15/TTJets_SemiLept.root/2j0t/w_nominal/cos_theta',\n",
        " '/hdfs/local/stpol/step3/Jul26_MVA_multivar_v1/mu/mc/iso/nominal/Jul15/TTJets_SemiLept.root/2j1t/w_nominal/cos_theta',\n",
        " '/hdfs/local/stpol/step3/Jul26_MVA_multivar_v1/mu/mc/iso/nominal/Jul15/TTJets_SemiLept.root/2j0t/w_nominal/met_phi',\n",
        " '/hdfs/local/stpol/step3/Jul26_MVA_multivar_v1/mu/mc/iso/nominal/Jul15/TTJets_SemiLept.root/2j1t/w_nominal/met_phi',\n",
        " '/hdfs/local/stpol/step3/Jul26_MVA_multivar_v1/mu/mc/iso/nominal/Jul15/TTJets_SemiLept.root/2j0t/w_nominal/bdt',\n",
        " '/hdfs/local/stpol/step3/Jul26_MVA_multivar_v1/mu/mc/iso/nominal/Jul15/TTJets_SemiLept.root/2j1t/w_nominal/bdt',\n",
        " '/hdfs/local/stpol/step3/Jul26_MVA_multivar_v1/mu/mc/iso/nominal/Jul15/T_t_ToLeptons.root/2j0t/w_nominal/cos_theta',\n",
        " '/hdfs/local/stpol/step3/Jul26_MVA_multivar_v1/mu/mc/iso/nominal/Jul15/T_t_ToLeptons.root/2j1t/w_nominal/cos_theta',\n",
        " '/hdfs/local/stpol/step3/Jul26_MVA_multivar_v1/mu/mc/iso/nominal/Jul15/T_t_ToLeptons.root/2j0t/w_nominal/met_phi',\n",
        " '/hdfs/local/stpol/step3/Jul26_MVA_multivar_v1/mu/mc/iso/nominal/Jul15/T_t_ToLeptons.root/2j1t/w_nominal/met_phi',\n",
        " '/hdfs/local/stpol/step3/Jul26_MVA_multivar_v1/mu/mc/iso/nominal/Jul15/T_t_ToLeptons.root/2j0t/w_nominal/bdt',\n",
        " '/hdfs/local/stpol/step3/Jul26_MVA_multivar_v1/mu/mc/iso/nominal/Jul15/T_t_ToLeptons.root/2j1t/w_nominal/bdt',\n",
        " '/hdfs/local/stpol/step3/Jul26_MVA_multivar_v1/mu/mc/iso/nominal/Jul15/Tbar_t_ToLeptons.root/2j0t/w_nominal/cos_theta',\n",
        " '/hdfs/local/stpol/step3/Jul26_MVA_multivar_v1/mu/mc/iso/nominal/Jul15/Tbar_t_ToLeptons.root/2j1t/w_nominal/cos_theta',\n",
        " '/hdfs/local/stpol/step3/Jul26_MVA_multivar_v1/mu/mc/iso/nominal/Jul15/Tbar_t_ToLeptons.root/2j0t/w_nominal/met_phi',\n",
        " '/hdfs/local/stpol/step3/Jul26_MVA_multivar_v1/mu/mc/iso/nominal/Jul15/Tbar_t_ToLeptons.root/2j1t/w_nominal/met_phi',\n",
        " '/hdfs/local/stpol/step3/Jul26_MVA_multivar_v1/mu/mc/iso/nominal/Jul15/Tbar_t_ToLeptons.root/2j0t/w_nominal/bdt',\n",
        " '/hdfs/local/stpol/step3/Jul26_MVA_multivar_v1/mu/mc/iso/nominal/Jul15/Tbar_t_ToLeptons.root/2j1t/w_nominal/bdt',\n",
        " '/hdfs/local/stpol/step3/Jul26_MVA_multivar_v1/mu/data/iso/Jul15/SingleMu1.root/2j0t/w_nominal/cos_theta',\n",
        " '/hdfs/local/stpol/step3/Jul26_MVA_multivar_v1/mu/data/iso/Jul15/SingleMu1.root/2j1t/w_nominal/cos_theta',\n",
        " '/hdfs/local/stpol/step3/Jul26_MVA_multivar_v1/mu/data/iso/Jul15/SingleMu1.root/2j0t/w_nominal/met_phi',\n",
        " '/hdfs/local/stpol/step3/Jul26_MVA_multivar_v1/mu/data/iso/Jul15/SingleMu1.root/2j1t/w_nominal/met_phi',\n",
        " '/hdfs/local/stpol/step3/Jul26_MVA_multivar_v1/mu/data/iso/Jul15/SingleMu1.root/2j0t/w_nominal/bdt',\n",
        " '/hdfs/local/stpol/step3/Jul26_MVA_multivar_v1/mu/data/iso/Jul15/SingleMu1.root/2j1t/w_nominal/bdt',\n",
        " '/hdfs/local/stpol/step3/Jul26_MVA_multivar_v1/mu/data/iso/Jul15/SingleMu2.root/2j0t/w_nominal/cos_theta',\n",
        " '/hdfs/local/stpol/step3/Jul26_MVA_multivar_v1/mu/data/iso/Jul15/SingleMu2.root/2j1t/w_nominal/cos_theta',\n",
        " '/hdfs/local/stpol/step3/Jul26_MVA_multivar_v1/mu/data/iso/Jul15/SingleMu2.root/2j0t/w_nominal/met_phi',\n",
        " '/hdfs/local/stpol/step3/Jul26_MVA_multivar_v1/mu/data/iso/Jul15/SingleMu2.root/2j1t/w_nominal/met_phi',\n",
        " '/hdfs/local/stpol/step3/Jul26_MVA_multivar_v1/mu/data/iso/Jul15/SingleMu2.root/2j0t/w_nominal/bdt',\n",
        " '/hdfs/local/stpol/step3/Jul26_MVA_multivar_v1/mu/data/iso/Jul15/SingleMu2.root/2j1t/w_nominal/bdt',\n",
        " '/hdfs/local/stpol/step3/Jul26_MVA_multivar_v1/mu/data/iso/Jul15/SingleMu3.root/2j0t/w_nominal/cos_theta',\n",
        " '/hdfs/local/stpol/step3/Jul26_MVA_multivar_v1/mu/data/iso/Jul15/SingleMu3.root/2j1t/w_nominal/cos_theta',\n",
        " '/hdfs/local/stpol/step3/Jul26_MVA_multivar_v1/mu/data/iso/Jul15/SingleMu3.root/2j0t/w_nominal/met_phi',\n",
        " '/hdfs/local/stpol/step3/Jul26_MVA_multivar_v1/mu/data/iso/Jul15/SingleMu3.root/2j1t/w_nominal/met_phi',\n",
        " '/hdfs/local/stpol/step3/Jul26_MVA_multivar_v1/mu/data/iso/Jul15/SingleMu3.root/2j0t/w_nominal/bdt',\n",
        " '/hdfs/local/stpol/step3/Jul26_MVA_multivar_v1/mu/data/iso/Jul15/SingleMu3.root/2j1t/w_nominal/bdt']"
       ]
      }
     ],
     "prompt_number": 4
    },
    {
     "cell_type": "code",
     "collapsed": false,
     "input": [
      "datas = {\n",
      "    \"corr\": \"Aug4_0eb863_full/mu/\",\n",
      "    \"uncorr\": \"/hdfs/local/stpol/step3/Jul26_MVA_multivar_v1/mu/\"\n",
      "}\n",
      "lumi=19800\n",
      "\n",
      "hists = {}\n",
      "for v in [\n",
      "    \"2j0t/w_nominal/met_phi\", \"2j0t/w_nominal/cos_theta\", \"2j0t/w_nominal/bdt\",\n",
      "    \"2j1t/w_nominal/met_phi\", \"2j1t/w_nominal/cos_theta\", \"2j1t/w_nominal/bdt\",\n",
      "]:\n",
      "    for k, d in datas.items():\n",
      "        wjets = outd[d + \"mc/iso/nominal/Jul15/W.*Jets.*/\"+v]\n",
      "        ttjets = outd[d + \"mc/iso/nominal/Jul15/TTJets.*/\"+v]\n",
      "        tchan = outd[d + \"mc/iso/nominal/Jul15/T.*ToLeptons.*/\"+v]\n",
      "        data = outd[d + \"data/iso/.*/SingleMu.*/\"+v]\n",
      "        \n",
      "        wjets = sumh(wjets)\n",
      "        wjets.Scale(lumi)\n",
      "        \n",
      "        ttjets = sumh(ttjets)\n",
      "        ttjets.Scale(lumi)\n",
      "        \n",
      "        tchan = sumh(tchan)\n",
      "        tchan.Scale(lumi)\n",
      "        \n",
      "        data = sumh(data)\n",
      "        def form(x):\n",
      "            return \"{0}/{1}/{2}\".format(k, x, v)\n",
      "        hists[form(\"data\")] = data\n",
      "        hists[form(\"mc/wjets\")] = wjets\n",
      "        hists[form(\"mc/ttjets\")] = ttjets\n",
      "        hists[form(\"mc/tchan\")] = tchan"
     ],
     "language": "python",
     "metadata": {},
     "outputs": [],
     "prompt_number": 42
    },
    {
     "cell_type": "code",
     "collapsed": false,
     "input": [
      "n = hists[\"corr/data/2j0t/w_nominal/met_phi\"].Integral()\n",
      "for hn, h in hists.items():\n",
      "    print hn, h.Integral(), h.GetEntries()\n",
      "    if hn.startswith(\"uncorr/data\"):\n",
      "        h.Scale(19.8/18.6)\n",
      "    h.Scale(n/h.Integral())\n",
      "    #print hn, h.Integral(), h.GetEntries()"
     ],
     "language": "python",
     "metadata": {},
     "outputs": [
      {
       "output_type": "stream",
       "stream": "stdout",
       "text": [
        "uncorr/mc/tchan/2j1t/w_nominal/cos_theta 9420.28955078 102481.0\n",
        "corr/data/2j1t/w_nominal/bdt 74609.0 74609.0\n",
        "corr/mc/tchan/2j1t/w_nominal/met_phi 9423.22335815 102616.0\n",
        "uncorr/data/2j0t/w_nominal/cos_theta 1164031.0 1164031.0\n",
        "corr/mc/ttjets/2j1t/w_nominal/cos_theta 33113.8811646 481133.0\n",
        "uncorr/data/2j0t/w_nominal/bdt 1164031.0 1164031.0\n",
        "uncorr/mc/ttjets/2j1t/w_nominal/bdt 33117.192682 481168.0\n",
        "corr/mc/wjets/2j1t/w_nominal/met_phi 16170.4945679 17013.0\n",
        "uncorr/mc/wjets/2j0t/w_nominal/bdt 1125639.56384 951544.0\n",
        "corr/mc/tchan/2j0t/w_nominal/bdt 14720.4073353 139743.0\n",
        "corr/mc/tchan/2j0t/w_nominal/met_phi 14713.8521118 139743.0\n",
        "corr/mc/ttjets/2j1t/w_nominal/bdt 33113.8862958 481133.0\n",
        "uncorr/mc/tchan/2j1t/w_nominal/met_phi 9415.71652222 102481.0\n",
        "uncorr/mc/tchan/2j0t/w_nominal/cos_theta 14714.1416931 139681.0\n",
        "corr/mc/ttjets/2j0t/w_nominal/met_phi 49019.7019043 599446.0\n",
        "uncorr/mc/ttjets/2j1t/w_nominal/met_phi 33101.2695312 481168.0\n",
        "corr/mc/wjets/2j0t/w_nominal/met_phi 1042010.22266 951875.0\n",
        "uncorr/mc/wjets/2j1t/w_nominal/met_phi 16430.868042 17019.0\n",
        "uncorr/mc/ttjets/2j0t/w_nominal/bdt 49025.6086078 599266.0\n",
        "corr/mc/wjets/2j0t/w_nominal/cos_theta 1042551.32812 951875.0\n",
        "corr/mc/ttjets/2j1t/w_nominal/met_phi 33094.581665 481133.0\n",
        "corr/mc/tchan/2j1t/w_nominal/bdt 9427.72286665 102616.0\n",
        "uncorr/mc/tchan/2j1t/w_nominal/bdt 9420.29168379 102481.0\n",
        "corr/data/2j0t/w_nominal/cos_theta 1243668.0 1243668.0\n",
        "uncorr/data/2j1t/w_nominal/met_phi 69711.0 69742.0\n",
        "uncorr/mc/wjets/2j0t/w_nominal/met_phi 1125031.375 951544.0\n",
        "uncorr/mc/ttjets/2j0t/w_nominal/met_phi 49002.3771973 599266.0\n",
        "corr/mc/wjets/2j0t/w_nominal/bdt 1042550.34087 951875.0\n",
        "corr/mc/tchan/2j0t/w_nominal/cos_theta 14720.4041443 139743.0\n",
        "uncorr/mc/wjets/2j0t/w_nominal/cos_theta 1125640.00391 951544.0\n",
        "uncorr/data/2j0t/w_nominal/met_phi 1163528.0 1164031.0\n",
        "corr/data/2j0t/w_nominal/met_phi 1243070.0 1243668.0\n",
        "corr/data/2j0t/w_nominal/bdt 1243668.0 1243668.0\n",
        "corr/mc/wjets/2j1t/w_nominal/bdt 16182.3404193 17013.0\n",
        "corr/mc/tchan/2j1t/w_nominal/cos_theta 9427.72238159 102616.0\n",
        "uncorr/mc/ttjets/2j1t/w_nominal/cos_theta 33117.2286987 481168.0\n",
        "uncorr/mc/wjets/2j1t/w_nominal/cos_theta 16436.2019043 17019.0\n",
        "corr/mc/ttjets/2j0t/w_nominal/cos_theta 49044.2163696 599446.0\n",
        "corr/mc/ttjets/2j0t/w_nominal/bdt 49044.2022805 599446.0\n",
        "uncorr/data/2j1t/w_nominal/bdt 69742.0 69742.0\n",
        "corr/data/2j1t/w_nominal/met_phi 74554.0 74609.0\n",
        "uncorr/mc/tchan/2j0t/w_nominal/bdt 14714.1371212 139681.0\n",
        "corr/mc/wjets/2j1t/w_nominal/cos_theta 16182.3408203 17013.0\n",
        "corr/data/2j1t/w_nominal/cos_theta 74609.0 74609.0\n",
        "uncorr/mc/ttjets/2j0t/w_nominal/cos_theta 49025.663269 599266.0\n",
        "uncorr/mc/tchan/2j0t/w_nominal/met_phi 14708.9028931 139681.0\n",
        "uncorr/mc/wjets/2j1t/w_nominal/bdt 16436.2023816 17019.0\n",
        "uncorr/data/2j1t/w_nominal/cos_theta 69742.0 69742.0\n"
       ]
      }
     ],
     "prompt_number": 43
    },
    {
     "cell_type": "code",
     "collapsed": false,
     "input": [
      "chi1 = hists[\"corr/data/2j0t/w_nominal/met_phi\"].Chi2Test(hists[\"corr/mc/wjets/2j0t/w_nominal/met_phi\"], \"WW CHI2/NDF\")\n",
      "chi2 = hists[\"uncorr/data/2j0t/w_nominal/met_phi\"].Chi2Test(hists[\"uncorr/mc/wjets/2j0t/w_nominal/met_phi\"], \"WW CHI2/NDF\")"
     ],
     "language": "python",
     "metadata": {},
     "outputs": []
    },
    {
     "cell_type": "code",
     "collapsed": false,
     "input": [
      "matplotlib.rc('font',\n",
      "    **{\n",
      "    'sans-serif': 'Arial',\n",
      "    'family': 'sans-serif'\n",
      "})\n",
      "\n",
      "cut = \"2j1t\"\n",
      "\n",
      "fig = plt.figure(figsize=(10, 10), dpi=500, facecolor='white')\n",
      "axes = plt.axes([0.15, 0.15, 0.8, 0.8])\n",
      "axes.set_xlabel(\"$\\mathbf{\\phi_{MET}}$\")\n",
      "axes.grid(True, which='both')\n",
      "axes.xaxis.set_label_coords(0.93, -0.025)\n",
      "axes.set_title(\"The effect of MET $\\phi$ corrections in %s\" % cut)\n",
      "\n",
      "hist_err(axes, hists[\"corr/data/%s/w_nominal/met_phi\" % cut], fmt='-', color='black')\n",
      "hist_err(axes, hists[\"uncorr/data/%s/w_nominal/met_phi\" % cut], fmt='--o', color='black')\n",
      "\n",
      "hist_err(axes, hists[\"corr/mc/wjets/%s/w_nominal/met_phi\" % cut], fmt='-', color='g')\n",
      "hist_err(axes, hists[\"uncorr/mc/wjets/%s/w_nominal/met_phi\" % cut], fmt='--o', color='g')\n",
      "\n",
      "# hist_err(axes, hists[\"corr/mc/ttjets/%s/w_nominal/met_phi\" % cut], fmt='-', color='y')\n",
      "# hist_err(axes, hists[\"uncorr/mc/ttjets/%s/w_nominal/met_phi\" % cut], fmt='--o', color='y')\n",
      "\n",
      "# hist_err(axes, hists[\"corr/mc/tchan/%s/w_nominal/met_phi\" % cut], fmt='-', color='r')\n",
      "# hist_err(axes, hists[\"uncorr/mc/tchan/%s/w_nominal/met_phi\" % cut], fmt='--o', color='r')\n",
      "\n",
      "legend([\n",
      "        \"data corr.\",\n",
      "        \"data uncorr.\",\n",
      "        \"W corr.\",\n",
      "        \"W uncorr.\",\n",
      "#         r\"$t\\bar{t}$ corr.\",\n",
      "#         r\"$t\\bar{t}$ uncorr.\",\n",
      "#         r\"signal (t-channel) corr.\",\n",
      "#         r\"signal (t-channel) uncorr.\",\n",
      "])\n",
      "#plt.gca().set_ylim(bottom=0)\n",
      "fig.show()"
     ],
     "language": "python",
     "metadata": {},
     "outputs": [
      {
       "metadata": {},
       "output_type": "display_data",
       "png": "[encoded data removed]",
       "text": [
        "<matplotlib.figure.Figure at 0x1e798a50>"
       ]
      }
     ],
     "prompt_number": 10
    },
    {
     "cell_type": "code",
     "collapsed": false,
     "input": [
      "vn = \"2j0t/w_nominal/cos_theta\"\n",
      "fig = plt.figure(figsize=(10, 10), dpi=500, facecolor='white')\n",
      "axes = plt.axes([0.15, 0.15, 0.8, 0.8])\n",
      "axes.set_xlabel(r\"$\\mathbf{\\cos{\\theta}}$\")\n",
      "axes.grid(True, which='both')\n",
      "axes.xaxis.set_label_coords(0.93, -0.025)\n",
      "axes.set_title(\n",
      "    r\"The effect of MET $\\phi$ corrections in %s on $\\cos \\theta$\" % vn.split(\"/\")[0]\n",
      ")\n",
      "\n",
      "hist_err(axes, hists[\"corr/data/\" + vn], fmt='-', color='black')\n",
      "hist_err(axes, hists[\"uncorr/data/\" + vn], fmt='--o', color='black')\n",
      "\n",
      "hist_err(axes, hists[\"corr/mc/wjets/\" + vn], fmt='-', color='g')\n",
      "hist_err(axes, hists[\"uncorr/mc/wjets/\" + vn], fmt='--o', color='g')\n",
      "\n",
      "# hist_err(axes, hists[\"corr/mc/ttjets/\" + vn], fmt='-', color='y')\n",
      "# hist_err(axes, hists[\"uncorr/mc/ttjets/\" + vn], fmt='--o', color='y')\n",
      "\n",
      "# hist_err(axes, hists[\"corr/mc/tchan/\" + vn], fmt='-', color='r')\n",
      "# hist_err(axes, hists[\"uncorr/mc/tchan/\" + vn], fmt='--o', color='r')\n",
      "\n",
      "legend([\n",
      "        \"data corr. $\\int L\\ dt = 19.8$/fb\",\n",
      "        \"data uncorr.$\\int L\\ dt = 18.6$/fb\",\n",
      "        \"W corr.\",\n",
      "        \"W uncorr.\",\n",
      "#         r\"$t\\bar{t}$ corr.\",\n",
      "#         r\"$t\\bar{t}$ uncorr.\",\n",
      "#         r\"signal (t-channel) corr.\",\n",
      "#         r\"signal (t-channel) uncorr.\",\n",
      "], loc=2)\n",
      "#axes.semilogy()\n",
      "#plt.gca().set_ylim(bottom=100)\n",
      "fig.show()"
     ],
     "language": "python",
     "metadata": {},
     "outputs": [
      {
       "metadata": {},
       "output_type": "display_data",
       "png": "[encoded data removed]",
       "text": [
        "<matplotlib.figure.Figure at 0x233f2f10>"
       ]
      }
     ],
     "prompt_number": 55
    },
    {
     "cell_type": "code",
     "collapsed": false,
     "input": [
      "fig = plt.figure(figsize=(10, 10), dpi=500, facecolor='white')\n",
      "axes = plt.axes([0.15, 0.15, 0.8, 0.8])\n",
      "axes.set_xlabel(r\"$\\mathbf{\\cos{\\theta}}$\")\n",
      "axes.grid(True, which='both')\n",
      "axes.xaxis.set_label_coords(0.93, -0.025)\n",
      "axes.set_title(r\"The effect of MET $\\phi$ corrections in 2J0T on $\\mathbf{\\cos{\\theta}}$\")\n",
      "\n",
      "hist_err(axes, hists[\"uncorr/mc/ttjets/\" + vn], fmt='-')\n",
      "hist_err(axes, hists[\"corr/mc/ttjets/\" + vn], fmt='-o')\n",
      "\n",
      "legend([\n",
      "    \"wjets unc\", \"wjets c\", \"ttjets unc\", \"ttjets c\"\n",
      "], loc=3)\n",
      "#plt.gca().set_ylim(bottom=0)\n",
      "fig.show()"
     ],
     "language": "python",
     "metadata": {},
     "outputs": []
    },
    {
     "cell_type": "code",
     "collapsed": false,
     "input": [
      "69742.0/74609.0"
     ],
     "language": "python",
     "metadata": {},
     "outputs": []
    },
    {
     "cell_type": "code",
     "collapsed": false,
     "input": [
      "%time 19.8/18.6"
     ],
     "language": "python",
     "metadata": {},
     "outputs": []
    },
    {
     "cell_type": "code",
     "collapsed": false,
     "input": [
      "h = hists[\"corr/mc/ttjets/\" + vn]-hists[\"uncorr/mc/ttjets/\" + vn]\n",
      "h.Rebin(4)\n",
      "fig = plt.figure(figsize=(10, 10), dpi=500, facecolor='white')\n",
      "axes = plt.axes([0.15, 0.15, 0.8, 0.8])\n",
      "hist_err(axes, h)"
     ],
     "language": "python",
     "metadata": {},
     "outputs": [
      {
       "metadata": {},
       "output_type": "pyout",
       "prompt_number": 34,
       "text": [
        "<Container object of 3 artists>"
       ]
      },
      {
       "metadata": {},
       "output_type": "display_data",
       "png": "[encoded data removed]",
       "text": [
        "<matplotlib.figure.Figure at 0x23ada510>"
       ]
      }
     ],
     "prompt_number": 34
    },
    {
     "cell_type": "code",
     "collapsed": false,
     "input": [
      "10*10"
     ],
     "language": "python",
     "metadata": {},
     "outputs": [
      {
       "metadata": {},
       "output_type": "pyout",
       "prompt_number": 51,
       "text": [
        "100"
       ]
      }
     ],
     "prompt_number": 51
    },
    {
     "cell_type": "code",
     "collapsed": false,
     "input": [],
     "language": "python",
     "metadata": {},
     "outputs": []
    }
   ],
   "metadata": {}
  }
 ]
}