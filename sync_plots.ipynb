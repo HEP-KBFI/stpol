{
 "metadata": {
  "name": "sync_plots"
 },
 "nbformat": 3,
 "nbformat_minor": 0,
 "worksheets": [
  {
   "cells": [
    {
     "cell_type": "code",
     "collapsed": false,
     "input": [
      "from clusterpy.util import *\n",
      "from clusterpy.magics import *\n",
      "import ROOT\n",
      "dview = cluster_setup()\n",
      "dview.apply_sync(hostnames)\n",
      "import sync\n",
      "from sync.top_12_038 import mc_amount, lumi_total\n",
      "from plots.project_histos import Cuts, Cut, Sample\n",
      "from plots.common.legend import legend\n",
      "from plots.common.tdrstyle import tdrstyle\n",
      "tdrstyle();"
     ],
     "language": "python",
     "metadata": {},
     "outputs": []
    },
    {
     "cell_type": "code",
     "collapsed": false,
     "input": [
      "import glob\n",
      "sample_Winc = Sample.fromFile(\"/home/joosep/singletop/stpol/out_step3_05_10_12_57/iso/mc/WJets_inclusive.root\")\n",
      "\n",
      "samples_Wexc = [Sample.fromFile(x) for x in glob.glob(\"/home/joosep/singletop/stpol/out_step3_05_10_12_57/iso/mc/W*Jets_exclusive.root\")]\n",
      "samples_ttbar = [Sample.fromFile(x) for x in glob.glob(\"/home/joosep/singletop/stpol/out_step3_05_10_12_57/iso/mc/TTJets*.root\")]\n",
      "samples_tchan = [Sample.fromFile(x) for x in glob.glob(\"/home/joosep/singletop/stpol/out_step3_05_10_12_57/iso/mc/T*t*.root\")]\n",
      "\n",
      "sample = sample_Winc\n",
      "\n",
      "#sample = Sample.fromFile(\"/home/joosep/singletop/stpol/out_step3_05_10_12_57/iso/mc/WJets_inclusive.root\")\n",
      "#sample.name = \"TTJets_MassiveBinDECAY\""
     ],
     "language": "python",
     "metadata": {},
     "outputs": [
      {
       "output_type": "stream",
       "stream": "stderr",
       "text": [
        "2013-05-10 16:30:04,088;INFO;<Sample(WJets_inclusive, /home/joosep/singletop/stpol/out_step3_05_10_12_57/iso/mc/WJets_inclusive.root)>;Opened sample WJets_inclusive with 6451344 final events, 63518230 processed\n"
       ]
      },
      {
       "output_type": "stream",
       "stream": "stderr",
       "text": [
        "2013-05-10 16:30:04,712;INFO;<Sample(W4Jets_exclusive, /home/joosep/singletop/stpol/out_step3_05_10_12_57/iso/mc/W4Jets_exclusive.root)>;Opened sample W4Jets_exclusive with 2015666 final events, 13362803 processed\n"
       ]
      },
      {
       "output_type": "stream",
       "stream": "stderr",
       "text": [
        "2013-05-10 16:30:04,857;INFO;<Sample(W1Jets_exclusive, /home/joosep/singletop/stpol/out_step3_05_10_12_57/iso/mc/W1Jets_exclusive.root)>;Opened sample W1Jets_exclusive with 3122878 final events, 23121598 processed\n"
       ]
      },
      {
       "output_type": "stream",
       "stream": "stderr",
       "text": [
        "2013-05-10 16:30:05,410;INFO;<Sample(W2Jets_exclusive, /home/joosep/singletop/stpol/out_step3_05_10_12_57/iso/mc/W2Jets_exclusive.root)>;Opened sample W2Jets_exclusive with 3468157 final events, 24009259 processed\n"
       ]
      },
      {
       "output_type": "stream",
       "stream": "stderr",
       "text": [
        "2013-05-10 16:30:05,699;INFO;<Sample(W3Jets_exclusive, /home/joosep/singletop/stpol/out_step3_05_10_12_57/iso/mc/W3Jets_exclusive.root)>;Opened sample W3Jets_exclusive with 2284414 final events, 15369503 processed\n"
       ]
      }
     ],
     "prompt_number": "*"
    },
    {
     "cell_type": "code",
     "collapsed": false,
     "input": [
      "cut = Cuts.mu*Cuts.n_jets(2)*Cut(\"met > 45\")\n",
      "canv = ROOT.TCanvas()\n",
      "#canv.SetCanvasSize(600, 600)\n",
      "h1 = sample.drawHistogram(\"n_tags\", str(cut), dtype=\"int\", weight=\"pu_weight\", plot_range=[5, 0, 5])\n",
      "h2 = sample.drawHistogram(\"n_tags\", str(cut), dtype=\"int\", weight=\"pu_weight*b_weight_nominal\", plot_range=[5, 0, 5])\n",
      "h1.normalize_lumi(12210)\n",
      "h1 = h1.hist\n",
      "h2.normalize_lumi(12210)\n",
      "h2 = h2.hist\n",
      "h1.SetTitle(\"ttbar incl. PUw.\")\n",
      "h2.SetTitle(\"ttbar incl. PUw. Bw.\")\n",
      "h1.SetLineColor(ROOT.kRed)\n",
      "h1.SetMarkerStyle(0)\n",
      "h1.SetLineWidth(2)\n",
      "h2.SetLineColor(ROOT.kBlue)\n",
      "h2.SetMarkerStyle(0)\n",
      "h2.SetLineWidth(2)\n",
      "h1.Draw(\"H1\")\n",
      "h2.Draw(\"H1 SAME\")\n",
      "h1.GetXaxis().SetTitle(\"N(b-tags)\")\n",
      "leg = legend([h1, h2], styles=[\"f\", \"f\"], width=0.3)\n",
      "show_canv(canv)"
     ],
     "language": "python",
     "metadata": {},
     "outputs": []
    },
    {
     "cell_type": "code",
     "collapsed": false,
     "input": [
      "h_tagged = sample.drawHistogram(\"true_b_tagged_count\", str(cut), dtype=\"int\", weight=\"1.0\", plot_range=[4, 0, 4]).hist\n",
      "h_all = sample.drawHistogram(\"true_b_count\", str(cut), dtype=\"int\", weight=\"1.0\", plot_range=[4, 0, 4]).hist\n",
      "\n",
      "h_tagged.SetTitle(\"N true tagged b-jets\")\n",
      "h_all.SetTitle(\"N true b-jets\")\n",
      "\n",
      "canv = ROOT.TCanvas()\n",
      "canv.SetLogy()\n",
      "h_tagged.SetMarkerStyle(0)\n",
      "h_all.SetMarkerStyle(0)\n",
      "h_tagged.SetLineWidth(2)\n",
      "h_all.SetLineWidth(3)\n",
      "h_tagged.SetLineColor(ROOT.kRed)\n",
      "h_all.SetLineColor(ROOT.kBlue)\n",
      "h_all.Draw(\"H2\")\n",
      "h_tagged.Draw(\"H2 SAME\")\n",
      "leg = legend([h_tagged, h_all], styles=[\"f\", \"f\"], width=0.35)\n",
      "show_canv(canv)"
     ],
     "language": "python",
     "metadata": {},
     "outputs": []
    },
    {
     "cell_type": "code",
     "collapsed": false,
     "input": [
      "h_tagged = sample.drawHistogram(\"true_c_tagged_count\", str(cut), dtype=\"int\", weight=\"1.0\", plot_range=[4, 0, 4]).hist\n",
      "h_all = sample.drawHistogram(\"true_c_count\", str(cut), dtype=\"int\", weight=\"1.0\", plot_range=[4, 0, 4]).hist\n",
      "\n",
      "h_tagged.SetTitle(\"N true tagged c-jets\")\n",
      "h_all.SetTitle(\"N true c-jets\")\n",
      "\n",
      "canv = ROOT.TCanvas()\n",
      "canv.SetLogy()\n",
      "h_tagged.SetMarkerStyle(0)\n",
      "h_all.SetMarkerStyle(0)\n",
      "h_tagged.SetLineWidth(2)\n",
      "h_all.SetLineWidth(2)\n",
      "h_tagged.SetLineColor(ROOT.kRed)\n",
      "h_all.SetLineColor(ROOT.kBlue)\n",
      "h_tagged.Draw(\"H2\")\n",
      "h_all.Draw(\"H2 SAME\")\n",
      "leg = legend([h_tagged, h_all], styles=[\"f\", \"f\"], width=0.35)\n",
      "show_canv(canv)"
     ],
     "language": "python",
     "metadata": {},
     "outputs": []
    },
    {
     "cell_type": "code",
     "collapsed": false,
     "input": [
      "h_tagged = sample.drawHistogram(\"true_l_tagged_count\", str(cut), dtype=\"int\", weight=\"1.0\", plot_range=[4, 0, 4]).hist\n",
      "h_all = sample.drawHistogram(\"true_l_count\", str(cut), dtype=\"int\", weight=\"1.0\", plot_range=[4, 0, 4]).hist\n",
      "\n",
      "h_tagged.SetTitle(\"N true tagged l-jets\")\n",
      "h_all.SetTitle(\"N true l-jets\")\n",
      "\n",
      "canv = ROOT.TCanvas()\n",
      "canv.SetLogy()\n",
      "h_tagged.SetMarkerStyle(0)\n",
      "h_all.SetMarkerStyle(0)\n",
      "h_tagged.SetLineWidth(2)\n",
      "h_all.SetLineWidth(2)\n",
      "h_tagged.SetLineColor(ROOT.kRed)\n",
      "h_all.SetLineColor(ROOT.kBlue)\n",
      "h_tagged.Draw(\"H2\")\n",
      "h_all.Draw(\"H2 SAME\")\n",
      "leg = legend([h_tagged, h_all], styles=[\"f\", \"f\"], width=0.35)\n",
      "show_canv(canv)"
     ],
     "language": "python",
     "metadata": {},
     "outputs": []
    },
    {
     "cell_type": "code",
     "collapsed": false,
     "input": [
      "n_jets = sample.getColumn(\"n_jets\", str(cut))\n",
      "n_tags = sample.getColumn(\"n_tags\", str(cut))\n",
      "n_true_b_tagged = sample.getColumn(\"true_b_tagged_count\", str(cut))\n",
      "n_true_b = sample.getColumn(\"true_b_count\", str(cut))"
     ],
     "language": "python",
     "metadata": {},
     "outputs": []
    },
    {
     "cell_type": "code",
     "collapsed": false,
     "input": [
      "ROOT.gROOT.cd()\n",
      "sample.tree.Draw(\"true_l_count>>h(4,0,4)\", str(cut))\n",
      "hist = ROOT.gROOT.Get(\"h\")\n",
      "hist.SetTitle(\"N_{ltrue}\")"
     ],
     "language": "python",
     "metadata": {},
     "outputs": []
    },
    {
     "cell_type": "code",
     "collapsed": false,
     "input": [
      "def draw_hists(hists):\n",
      "    canv = ROOT.TCanvas()\n",
      "    canv.SetLogy()\n",
      "    hists[0].Draw(\"H2\")\n",
      "    for h in hists[1:]:\n",
      "        Draw(\"H2 SAME\")\n",
      "    leg = legend(hists, styles=[\"f\"])\n",
      "    return show_canv(canv)"
     ],
     "language": "python",
     "metadata": {},
     "outputs": []
    },
    {
     "cell_type": "code",
     "collapsed": false,
     "input": [
      "def calc_b_eff(sample, flavour, cut):\n",
      "    n_tagged = sample.getColumn(\"true_%s_tagged_count\" % flavour, str(cut))\n",
      "    n = sample.getColumn(\"true_%s_count\" % flavour, str(cut))\n",
      "    if min(n_tagged)<0 or min(n)<0:\n",
      "        raise ValueError(\"True jets were not counted for some events\")\n",
      "    import numpy\n",
      "    import math\n",
      "\n",
      "    N_tagged = numpy.sum(n_tagged)\n",
      "    N = numpy.sum(n)\n",
      "    eff = N_tagged/N\n",
      "    err = math.sqrt(eff*(1-eff)/N)\n",
      "    return eff, err, N_tagged, N"
     ],
     "language": "python",
     "metadata": {},
     "outputs": [],
     "prompt_number": 94
    },
    {
     "cell_type": "code",
     "collapsed": false,
     "input": [
      "cut=Cuts.mu*Cuts.n_jets(2)*Cuts.eta_lj*Cuts.top_mass_sig\n",
      "[(samp.name, calc_b_eff(samp, \"b\", cut)) for samp in samples_Wexc+samples_ttbar+samples_tchan]"
     ],
     "language": "python",
     "metadata": {},
     "outputs": [
      {
       "ename": "KeyboardInterrupt",
       "evalue": "",
       "output_type": "pyerr",
       "traceback": [
        "\u001b[1;31m---------------------------------------------------------------------------\u001b[0m\n\u001b[1;31mKeyboardInterrupt\u001b[0m                         Traceback (most recent call last)",
        "\u001b[1;32m<ipython-input-95-22ca68b2b6ed>\u001b[0m in \u001b[0;36m<module>\u001b[1;34m()\u001b[0m\n\u001b[0;32m      1\u001b[0m \u001b[0mcut\u001b[0m\u001b[1;33m=\u001b[0m\u001b[0mCuts\u001b[0m\u001b[1;33m.\u001b[0m\u001b[0mmu\u001b[0m\u001b[1;33m*\u001b[0m\u001b[0mCuts\u001b[0m\u001b[1;33m.\u001b[0m\u001b[0mn_jets\u001b[0m\u001b[1;33m(\u001b[0m\u001b[1;36m2\u001b[0m\u001b[1;33m)\u001b[0m\u001b[1;33m*\u001b[0m\u001b[0mCuts\u001b[0m\u001b[1;33m.\u001b[0m\u001b[0meta_lj\u001b[0m\u001b[1;33m*\u001b[0m\u001b[0mCuts\u001b[0m\u001b[1;33m.\u001b[0m\u001b[0mtop_mass_sig\u001b[0m\u001b[1;33m\u001b[0m\u001b[0m\n\u001b[1;32m----> 2\u001b[1;33m \u001b[1;33m[\u001b[0m\u001b[1;33m(\u001b[0m\u001b[0msamp\u001b[0m\u001b[1;33m.\u001b[0m\u001b[0mname\u001b[0m\u001b[1;33m,\u001b[0m \u001b[0mcalc_b_eff\u001b[0m\u001b[1;33m(\u001b[0m\u001b[0msamp\u001b[0m\u001b[1;33m,\u001b[0m \u001b[1;34m\"b\"\u001b[0m\u001b[1;33m,\u001b[0m \u001b[0mcut\u001b[0m\u001b[1;33m)\u001b[0m\u001b[1;33m)\u001b[0m \u001b[1;32mfor\u001b[0m \u001b[0msamp\u001b[0m \u001b[1;32min\u001b[0m \u001b[0msamples_Wexc\u001b[0m\u001b[1;33m+\u001b[0m\u001b[0msamples_ttbar\u001b[0m\u001b[1;33m+\u001b[0m\u001b[0msamples_tchan\u001b[0m\u001b[1;33m]\u001b[0m\u001b[1;33m\u001b[0m\u001b[0m\n\u001b[0m",
        "\u001b[1;32m<ipython-input-94-bfa102ccf40e>\u001b[0m in \u001b[0;36mcalc_b_eff\u001b[1;34m(sample, flavour, cut)\u001b[0m\n\u001b[0;32m      1\u001b[0m \u001b[1;32mdef\u001b[0m \u001b[0mcalc_b_eff\u001b[0m\u001b[1;33m(\u001b[0m\u001b[0msample\u001b[0m\u001b[1;33m,\u001b[0m \u001b[0mflavour\u001b[0m\u001b[1;33m,\u001b[0m \u001b[0mcut\u001b[0m\u001b[1;33m)\u001b[0m\u001b[1;33m:\u001b[0m\u001b[1;33m\u001b[0m\u001b[0m\n\u001b[0;32m      2\u001b[0m     \u001b[0mn_tagged\u001b[0m \u001b[1;33m=\u001b[0m \u001b[0msample\u001b[0m\u001b[1;33m.\u001b[0m\u001b[0mgetColumn\u001b[0m\u001b[1;33m(\u001b[0m\u001b[1;34m\"true_%s_tagged_count\"\u001b[0m \u001b[1;33m%\u001b[0m \u001b[0mflavour\u001b[0m\u001b[1;33m,\u001b[0m \u001b[0mstr\u001b[0m\u001b[1;33m(\u001b[0m\u001b[0mcut\u001b[0m\u001b[1;33m)\u001b[0m\u001b[1;33m)\u001b[0m\u001b[1;33m\u001b[0m\u001b[0m\n\u001b[1;32m----> 3\u001b[1;33m     \u001b[0mn\u001b[0m \u001b[1;33m=\u001b[0m \u001b[0msample\u001b[0m\u001b[1;33m.\u001b[0m\u001b[0mgetColumn\u001b[0m\u001b[1;33m(\u001b[0m\u001b[1;34m\"true_%s_count\"\u001b[0m \u001b[1;33m%\u001b[0m \u001b[0mflavour\u001b[0m\u001b[1;33m,\u001b[0m \u001b[0mstr\u001b[0m\u001b[1;33m(\u001b[0m\u001b[0mcut\u001b[0m\u001b[1;33m)\u001b[0m\u001b[1;33m)\u001b[0m\u001b[1;33m\u001b[0m\u001b[0m\n\u001b[0m\u001b[0;32m      4\u001b[0m     \u001b[1;32mif\u001b[0m \u001b[0mmin\u001b[0m\u001b[1;33m(\u001b[0m\u001b[0mn_tagged\u001b[0m\u001b[1;33m)\u001b[0m\u001b[1;33m<\u001b[0m\u001b[1;36m0\u001b[0m \u001b[1;32mor\u001b[0m \u001b[0mmin\u001b[0m\u001b[1;33m(\u001b[0m\u001b[0mn\u001b[0m\u001b[1;33m)\u001b[0m\u001b[1;33m<\u001b[0m\u001b[1;36m0\u001b[0m\u001b[1;33m:\u001b[0m\u001b[1;33m\u001b[0m\u001b[0m\n\u001b[0;32m      5\u001b[0m         \u001b[1;32mraise\u001b[0m \u001b[0mValueError\u001b[0m\u001b[1;33m(\u001b[0m\u001b[1;34m\"True jets were not counter for some events\"\u001b[0m\u001b[1;33m)\u001b[0m\u001b[1;33m\u001b[0m\u001b[0m\n",
        "\u001b[1;32m/home/joosep/singletop/stpol/plots/project_histos.pyc\u001b[0m in \u001b[0;36mgetColumn\u001b[1;34m(self, col, cut)\u001b[0m\n\u001b[0;32m    255\u001b[0m \u001b[1;33m\u001b[0m\u001b[0m\n\u001b[0;32m    256\u001b[0m     \u001b[1;32mdef\u001b[0m \u001b[0mgetColumn\u001b[0m\u001b[1;33m(\u001b[0m\u001b[0mself\u001b[0m\u001b[1;33m,\u001b[0m \u001b[0mcol\u001b[0m\u001b[1;33m,\u001b[0m \u001b[0mcut\u001b[0m\u001b[1;33m)\u001b[0m\u001b[1;33m:\u001b[0m\u001b[1;33m\u001b[0m\u001b[0m\n\u001b[1;32m--> 257\u001b[1;33m         \u001b[0mN\u001b[0m \u001b[1;33m=\u001b[0m \u001b[0mself\u001b[0m\u001b[1;33m.\u001b[0m\u001b[0mtree\u001b[0m\u001b[1;33m.\u001b[0m\u001b[0mDraw\u001b[0m\u001b[1;33m(\u001b[0m\u001b[0mcol\u001b[0m\u001b[1;33m,\u001b[0m \u001b[0mcut\u001b[0m\u001b[1;33m,\u001b[0m \u001b[1;34m\"goff\"\u001b[0m\u001b[1;33m)\u001b[0m\u001b[1;33m\u001b[0m\u001b[0m\n\u001b[0m\u001b[0;32m    258\u001b[0m         \u001b[0mN\u001b[0m \u001b[1;33m=\u001b[0m \u001b[0mint\u001b[0m\u001b[1;33m(\u001b[0m\u001b[0mN\u001b[0m\u001b[1;33m)\u001b[0m\u001b[1;33m\u001b[0m\u001b[0m\n\u001b[0;32m    259\u001b[0m         \u001b[1;32mif\u001b[0m \u001b[0mN\u001b[0m \u001b[1;33m<\u001b[0m \u001b[1;36m0\u001b[0m\u001b[1;33m:\u001b[0m\u001b[1;33m\u001b[0m\u001b[0m\n",
        "\u001b[1;31mKeyboardInterrupt\u001b[0m: "
       ]
      }
     ],
     "prompt_number": 95
    },
    {
     "cell_type": "code",
     "collapsed": false,
     "input": [],
     "language": "python",
     "metadata": {},
     "outputs": []
    }
   ],
   "metadata": {}
  }
 ]
}