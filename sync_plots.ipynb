{
 "metadata": {
  "name": "sync_plots"
 },
 "nbformat": 3,
 "nbformat_minor": 0,
 "worksheets": [
  {
   "cells": [
    {
     "cell_type": "code",
     "collapsed": false,
     "input": [
      "from clusterpy.util import *\n",
      "from clusterpy.magics import *\n",
      "import ROOT"
     ],
     "language": "python",
     "metadata": {},
     "outputs": [],
     "prompt_number": 13
    },
    {
     "cell_type": "code",
     "collapsed": false,
     "input": [
      "dview = cluster_setup()\n",
      "dview.apply_sync(hostnames)"
     ],
     "language": "python",
     "metadata": {},
     "outputs": [
      {
       "output_type": "stream",
       "stream": "stdout",
       "text": [
        "Got 24 engines\n"
       ]
      },
      {
       "output_type": "pyout",
       "prompt_number": 16,
       "text": [
        "['cms.hep.kbfi.ee:29207',\n",
        " 'cms.hep.kbfi.ee:29208',\n",
        " 'cms.hep.kbfi.ee:29209',\n",
        " 'cms.hep.kbfi.ee:29210',\n",
        " 'cms.hep.kbfi.ee:29214',\n",
        " 'cms.hep.kbfi.ee:29216',\n",
        " 'cms.hep.kbfi.ee:29222',\n",
        " 'cms.hep.kbfi.ee:29226',\n",
        " 'cms.hep.kbfi.ee:29240',\n",
        " 'cms.hep.kbfi.ee:29260',\n",
        " 'cms.hep.kbfi.ee:29276',\n",
        " 'cms.hep.kbfi.ee:29291',\n",
        " 'cms.hep.kbfi.ee:29310',\n",
        " 'cms.hep.kbfi.ee:29324',\n",
        " 'cms.hep.kbfi.ee:29341',\n",
        " 'cms.hep.kbfi.ee:29351',\n",
        " 'cms.hep.kbfi.ee:29370',\n",
        " 'cms.hep.kbfi.ee:29386',\n",
        " 'cms.hep.kbfi.ee:29402',\n",
        " 'cms.hep.kbfi.ee:29423',\n",
        " 'cms.hep.kbfi.ee:29432',\n",
        " 'cms.hep.kbfi.ee:29446',\n",
        " 'cms.hep.kbfi.ee:29467',\n",
        " 'cms.hep.kbfi.ee:29481']"
       ]
      }
     ],
     "prompt_number": 16
    },
    {
     "cell_type": "code",
     "collapsed": false,
     "input": [
      "import sync\n",
      "from sync.top_12_038 import mc_amount\n",
      "from plots.project_histos import Cuts, Cut\n",
      "from plots.common.legend import legend\n",
      "from plots.common.tdrstyle import tdrstyle\n",
      "tdrstyle()"
     ],
     "language": "python",
     "metadata": {},
     "outputs": [
      {
       "output_type": "stream",
       "stream": "stderr",
       "text": [
        "2013-05-08 23:33:59,695;INFO;<Sample(TTJets_MassiveBinDECAY, /scratch/joosep/out_step3_05_07_14_19/iso/mc/TTJets_MassiveBinDECAY.root)>;Opened sample TTJets_MassiveBinDECAY with 775430 final events, 6803750 processed\n"
       ]
      },
      {
       "output_type": "stream",
       "stream": "stderr",
       "text": [
        "2013-05-08 23:33:59,773;INFO;<Sample(T_t, /scratch/joosep/out_step3_05_07_14_19/iso/mc/T_t.root)>;Opened sample T_t with 219970 final events, 3758227 processed\n"
       ]
      },
      {
       "output_type": "stream",
       "stream": "stderr",
       "text": [
        "2013-05-08 23:33:59,821;INFO;<Sample(Tbar_t, /scratch/joosep/out_step3_05_07_14_19/iso/mc/Tbar_t.root)>;Opened sample Tbar_t with 118642 final events, 1935072 processed\n"
       ]
      },
      {
       "output_type": "stream",
       "stream": "stderr",
       "text": [
        "2013-05-08 23:33:59,827;INFO;<Sample(QCDMu, /scratch/joosep/out_step3_05_07_14_19/iso/mc/QCDMu.root)>;Opened sample QCDMu with 21789 final events, 7529312 processed\n"
       ]
      },
      {
       "output_type": "stream",
       "stream": "stderr",
       "text": [
        "2013-05-08 23:34:00,206;INFO;<Sample(WJets_inclusive, /scratch/joosep/out_step3_05_07_14_19/iso/mc/WJets_inclusive.root)>;Opened sample WJets_inclusive with 7711223 final events, 75922995 processed\n"
       ]
      },
      {
       "output_type": "pyout",
       "prompt_number": 17,
       "text": [
        "1"
       ]
      }
     ],
     "prompt_number": 17
    },
    {
     "cell_type": "code",
     "collapsed": false,
     "input": [
      "ret = mc_amount(Cuts.mu*Cuts.n_jets(3)*Cut(\"met > 45\"), \"1.0\")"
     ],
     "language": "python",
     "metadata": {},
     "outputs": [],
     "prompt_number": "*"
    },
    {
     "cell_type": "code",
     "collapsed": false,
     "input": [
      "canv = ROOT.TCanvas()\n",
      "h1 = ret[0][\"t#bar{t} incl.\"]\n",
      "h2 = ret[0][\"WJets incl\"]\n",
      "h3 = ret[0][\"t-channel\"]\n",
      "h1.SetLineColor(ROOT.kRed)\n",
      "h1.SetMarkerStyle(0)\n",
      "h1.SetLineWidth(2)\n",
      "h1.Draw(\"H1\")\n",
      "h1.GetXaxis().SetTitle(\"N tags\")\n",
      "leg = legend([h1], styles=[\"f\"])\n",
      "show_canv(canv)"
     ],
     "language": "python",
     "metadata": {},
     "outputs": []
    },
    {
     "cell_type": "code",
     "collapsed": false,
     "input": [],
     "language": "python",
     "metadata": {},
     "outputs": []
    }
   ],
   "metadata": {}
  }
 ]
}