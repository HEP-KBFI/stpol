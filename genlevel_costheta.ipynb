{
 "metadata": {
  "name": ""
 },
 "nbformat": 3,
 "nbformat_minor": 0,
 "worksheets": [
  {
   "cells": [
    {
     "cell_type": "code",
     "collapsed": false,
     "input": [
      "import ROOT"
     ],
     "language": "python",
     "metadata": {},
     "outputs": [],
     "prompt_number": 1
    },
    {
     "cell_type": "code",
     "collapsed": false,
     "input": [
      "from plots.common.mpl_hists import draw_hists"
     ],
     "language": "python",
     "metadata": {},
     "outputs": [],
     "prompt_number": 2
    },
    {
     "cell_type": "code",
     "collapsed": false,
     "input": [
      "from rootpy.io import File"
     ],
     "language": "python",
     "metadata": {},
     "outputs": [],
     "prompt_number": 3
    },
    {
     "cell_type": "code",
     "collapsed": false,
     "input": [
      "f1 = File(\"results/gen_level_cos_theta/hmass.root\")\n",
      "f2 = File(\"results/gen_level_cos_theta/hnomass.root\")\n",
      "hi1 = f1.Get(\"cos_theta_weighted\")\n",
      "hi1.Sumw2()\n",
      "hi2 = f2.Get(\"cos_theta_weighted\")\n",
      "hi2.Sumw2()\n",
      "hi1.SetTitle(\"mass\")\n",
      "hi2.SetTitle(\"no mass\")\n",
      "hi1.Scale(1.0/hi1.Integral())\n",
      "hi2.Scale(1.0/hi2.Integral())\n",
      "hi1.Rebin(5)\n",
      "hi2.Rebin(5)\n",
      "chi2 = hi1.Chi2Test(hi2, \"WW CHI2/NDF\")\n",
      "pks = hi1.KolmogorovTest(hi2)"
     ],
     "language": "python",
     "metadata": {},
     "outputs": [],
     "prompt_number": 16
    },
    {
     "cell_type": "code",
     "collapsed": false,
     "input": [
      "ax = draw_hists([hi1, hi2])\n",
      "ax.set_title(r\"gen-level comparison for W+jets massive vs. massless b-quark\", fontsize=16)\n",
      "#ax.set_xlabel(r\"$\\cos \\theta$\", fontsize=16)\n",
      "ax.set_xlabel(r\"$p_{t, l}$ \\textrm{(transverse momentum of the light quark)}\", fontsize=16)\n",
      "#ax.set_xlabel(r\"$p_{t, b}$ \\textrm{(transverse momentum of the b quark)}\", fontsize=16)\n",
      "ax.set_ylabel(\"normalized events\", fontsize=16)\n",
      "ax.annotate(\n",
      "    r\"\\chi^2/\\nu = %.2f\" % chi2 + \"\\n\" + r\"p_{KS} = %s\" % sciform(pks),\n",
      "    xy=(0.5, 0.92), xycoords='axes fraction', fontsize=16, horizontalalignment='center'\n",
      ")\n",
      "#ax.semilogy()\n",
      "ax"
     ],
     "language": "python",
     "metadata": {},
     "outputs": [
      {
       "metadata": {},
       "output_type": "pyout",
       "prompt_number": 21,
       "text": [
        "<matplotlib.axes.AxesSubplot at 0x10a8eb510>"
       ]
      },
      {
       "metadata": {},
       "output_type": "display_data",
       "png": "[encoded data removed]",
       "text": [
        "<matplotlib.figure.Figure at 0x10ae2be90>"
       ]
      }
     ],
     "prompt_number": 21
    },
    {
     "cell_type": "code",
     "collapsed": false,
     "input": [
      "def sciform(v):\n",
      "    return (\"%.2E\" % v).replace(\"E\", r\" \\times 10^{\") + \"}\""
     ],
     "language": "python",
     "metadata": {},
     "outputs": [],
     "prompt_number": 6
    },
    {
     "cell_type": "code",
     "collapsed": false,
     "input": [
      "n = hi1.GetEntries()"
     ],
     "language": "python",
     "metadata": {},
     "outputs": [],
     "prompt_number": 18
    },
    {
     "cell_type": "code",
     "collapsed": false,
     "input": [
      "hi2.GetEntries()"
     ],
     "language": "python",
     "metadata": {},
     "outputs": [
      {
       "metadata": {},
       "output_type": "pyout",
       "prompt_number": 8,
       "text": [
        "673094.0"
       ]
      }
     ],
     "prompt_number": 8
    },
    {
     "cell_type": "code",
     "collapsed": false,
     "input": [
      "from src.unfolded_plot.pseudoexp import asymmetry"
     ],
     "language": "python",
     "metadata": {},
     "outputs": [],
     "prompt_number": 2
    },
    {
     "cell_type": "code",
     "collapsed": false,
     "input": [
      "hi1.nbins()"
     ],
     "language": "python",
     "metadata": {},
     "outputs": [
      {
       "metadata": {},
       "output_type": "pyout",
       "prompt_number": 10,
       "text": [
        "12"
       ]
      }
     ],
     "prompt_number": 10
    },
    {
     "cell_type": "code",
     "collapsed": false,
     "input": [
      "asymmetry(hi1, 5), asymmetry(hi2, 5)"
     ],
     "language": "python",
     "metadata": {},
     "outputs": [
      {
       "metadata": {},
       "output_type": "pyout",
       "prompt_number": 16,
       "text": [
        "(0.30882443487644196, 0.31495397303287703)"
       ]
      }
     ],
     "prompt_number": 16
    },
    {
     "cell_type": "code",
     "collapsed": false,
     "input": [
      "100 * hi1.GetBinError(5) / hi1.GetBinContent(5)"
     ],
     "language": "python",
     "metadata": {},
     "outputs": [
      {
       "metadata": {},
       "output_type": "pyout",
       "prompt_number": 25,
       "text": [
        "0.4695583071015695"
       ]
      }
     ],
     "prompt_number": 25
    },
    {
     "cell_type": "code",
     "collapsed": false,
     "input": [
      "n = hi1.GetBinContent(5) / hi1.Integral() * hi1.GetEntries()"
     ],
     "language": "python",
     "metadata": {},
     "outputs": [],
     "prompt_number": 28
    },
    {
     "cell_type": "code",
     "collapsed": false,
     "input": [
      "100 * sqrt(n) / n"
     ],
     "language": "python",
     "metadata": {},
     "outputs": [
      {
       "metadata": {},
       "output_type": "pyout",
       "prompt_number": 30,
       "text": [
        "0.46951910371568395"
       ]
      }
     ],
     "prompt_number": 30
    },
    {
     "cell_type": "code",
     "collapsed": false,
     "input": [],
     "language": "python",
     "metadata": {},
     "outputs": []
    }
   ],
   "metadata": {}
  }
 ]
}