{
 "metadata": {
  "name": ""
 },
 "nbformat": 3,
 "nbformat_minor": 0,
 "worksheets": [
  {
   "cells": [
    {
     "cell_type": "code",
     "collapsed": false,
     "input": [
      "import root_numpy as rnp\n",
      "import numpy as np\n",
      "from rootpy.plotting import Hist\n",
      "from plots.common.mpl_hists import draw_hists\n",
      "%matplotlib inline\n",
      "%pylab inline"
     ],
     "language": "python",
     "metadata": {},
     "outputs": [
      {
       "output_type": "stream",
       "stream": "stdout",
       "text": [
        "Populating the interactive namespace from numpy and matplotlib\n"
       ]
      }
     ],
     "prompt_number": 2
    },
    {
     "cell_type": "code",
     "collapsed": false,
     "input": [
      "def load_to_mem(fn):\n",
      "    a = rnp.root2rec(fn, \"trees/Events\")\n",
      "    b = rnp.root2rec(fn, \"trees/MVA\")\n",
      "    return a, b\n",
      "    #c = rnp.root2rec(fn, \"trees/pdf_weights\")\n",
      "#b = rnp.root2rec(fn, \"trees/Events\")"
     ],
     "language": "python",
     "metadata": {},
     "outputs": [],
     "prompt_number": 9
    },
    {
     "cell_type": "code",
     "collapsed": false,
     "input": [
      "import os\n",
      "for root, items, dirs in os.path.walk("
     ],
     "language": "python",
     "metadata": {},
     "outputs": []
    }
   ],
   "metadata": {}
  }
 ]
}