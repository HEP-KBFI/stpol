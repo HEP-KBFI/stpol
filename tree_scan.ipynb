{
 "metadata": {
  "name": ""
 },
 "nbformat": 3,
 "nbformat_minor": 0,
 "worksheets": [
  {
   "cells": [
    {
     "cell_type": "code",
     "collapsed": false,
     "input": [
      "import root_numpy as rnp\n",
      "import numpy as np\n",
      "from rootpy.plotting import Hist\n",
      "from plots.common.mpl_hists import draw_hists\n",
      "%matplotlib inline\n",
      "%pylab inline"
     ],
     "language": "python",
     "metadata": {},
     "outputs": [
      {
       "output_type": "stream",
       "stream": "stdout",
       "text": [
        "Populating the interactive namespace from numpy and matplotlib\n"
       ]
      }
     ],
     "prompt_number": 1
    },
    {
     "cell_type": "code",
     "collapsed": false,
     "input": [
      "fn = \"out/step3_2/Aug4_0eb863_full/mu/mc/iso/nominal/Jul15/T_tW/out_step3_3940732.root\"\n",
      "a = rnp.root2rec(fn, \"trees/Events\")\n",
      "b = rnp.root2rec(fn, \"trees/pdf_weights\")\n",
      "#b = rnp.root2rec(fn, \"trees/Events\")"
     ],
     "language": "python",
     "metadata": {},
     "outputs": [],
     "prompt_number": 4
    },
    {
     "cell_type": "code",
     "collapsed": false,
     "input": [
      "hi = Hist(20, 0, 200)\n",
      "hi.Sumw2()\n",
      "for k in a:\n",
      "    if k[\"n_muons\"]>0 and k[\"n_jets\"]>=2:\n",
      "        hi.Fill(k[\"mu_pt\"])"
     ],
     "language": "python",
     "metadata": {},
     "outputs": [],
     "prompt_number": 5
    },
    {
     "cell_type": "code",
     "collapsed": false,
     "input": [
      "ax = draw_hists([hi])\n",
      "#ax.semilogy()\n",
      "ax"
     ],
     "language": "python",
     "metadata": {},
     "outputs": [
      {
       "metadata": {},
       "output_type": "pyout",
       "prompt_number": 7,
       "text": [
        "<matplotlib.axes.AxesSubplot at 0x1650d790>"
       ]
      },
      {
       "metadata": {},
       "output_type": "display_data",
       "png": "[encoded data removed]",
       "text": [
        "<matplotlib.figure.Figure at 0x16513310>"
       ]
      }
     ],
     "prompt_number": 7
    },
    {
     "cell_type": "code",
     "collapsed": false,
     "input": [
      "b.dtype.fields.keys()"
     ],
     "language": "python",
     "metadata": {},
     "outputs": [
      {
       "metadata": {},
       "output_type": "pyout",
       "prompt_number": 10,
       "text": [
        "['pdf_n_CT10',\n",
        " 'pdf_weights_MSTW2008nlo68clxxx1',\n",
        " 'pdf_n_cteq66',\n",
        " 'pdf_w0_NNPDF21',\n",
        " 'pdf_w0_cteq66',\n",
        " 'pdf_id1',\n",
        " 'pdf_weights_cteq66',\n",
        " 'pdf_id2',\n",
        " 'pdf_weights_CT10',\n",
        " 'pdf_w0_CT10',\n",
        " 'pdf_n_MSTW2008nlo68cl',\n",
        " 'pdf_weights_NNPDF21',\n",
        " 'pdf_weights_MSTW2008nlo68cl',\n",
        " 'pdf_n_NNPDF21',\n",
        " 'pdf_scalePDF',\n",
        " 'pdf_x1',\n",
        " 'pdf_w0_MSTW2008nlo68clxxx1',\n",
        " 'pdf_n_MSTW2008nlo68clxxx1',\n",
        " 'pdf_w0_MSTW2008nlo68cl',\n",
        " 'pdf_x2']"
       ]
      }
     ],
     "prompt_number": 10
    },
    {
     "cell_type": "code",
     "collapsed": false,
     "input": [
      "a[\"ttbar_weight\"]"
     ],
     "language": "python",
     "metadata": {},
     "outputs": [
      {
       "metadata": {},
       "output_type": "pyout",
       "prompt_number": 8,
       "text": [
        "array([ 1.,  1.,  1., ...,  1.,  1.,  1.], dtype=float32)"
       ]
      }
     ],
     "prompt_number": 8
    },
    {
     "cell_type": "code",
     "collapsed": false,
     "input": [
      "a"
     ],
     "language": "python",
     "metadata": {},
     "outputs": [],
     "prompt_number": 8
    },
    {
     "cell_type": "code",
     "collapsed": false,
     "input": [
      "a.shape"
     ],
     "language": "python",
     "metadata": {},
     "outputs": [],
     "prompt_number": 9
    },
    {
     "cell_type": "code",
     "collapsed": false,
     "input": [],
     "language": "python",
     "metadata": {},
     "outputs": []
    }
   ],
   "metadata": {}
  }
 ]
}