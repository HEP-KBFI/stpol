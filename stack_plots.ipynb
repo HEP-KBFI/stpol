{
 "metadata": {
  "name": ""
 },
 "nbformat": 3,
 "nbformat_minor": 0,
 "worksheets": [
  {
   "cells": [
    {
     "cell_type": "code",
     "collapsed": false,
     "input": [
      "%time %run plots/load_histos2.py"
     ],
     "language": "python",
     "metadata": {},
     "outputs": []
    },
    {
     "cell_type": "code",
     "collapsed": false,
     "input": [
      "from plots.common.utils import NestedDict\n",
      "syst_scenarios = NestedDict()\n",
      "for (sample_var, sample, weight_var), hist in hsources:\n",
      "    spl = weight_var.split(\"__\")\n",
      "    wn = spl[1]\n",
      "    sample_var = sample_var.lower()\n",
      "    wtype = None\n",
      "    wdir = None\n",
      "    stype = None\n",
      "    sdir = None\n",
      "\n",
      "    syst = None\n",
      "\n",
      "    #Nominal weight, look for variated samples\n",
      "    if wn==\"nominal\":\n",
      "        syst = sample_var\n",
      "    elif wn==\"unweighted\":\n",
      "        syst=\"unweighted\"\n",
      "    #Variated weight, use only nominal sample\n",
      "    else:\n",
      "        if sample_var!=\"nominal\":\n",
      "            continue\n",
      "        #print \"W:\", wn, sample_var, sample\n",
      "        syst = wn\n",
      "    if wn==\"nominal\" and sample_var==\"nominal\":\n",
      "        syst_scenarios[sample][\"nominal\"][None] = hist\n",
      "        \n",
      "    #A systematic which has a separate systematic sample\n",
      "    elif sample_var == \"syst\":\n",
      "        pass\n",
      "    \n",
      "    else:\n",
      "        systname, d = get_updown(syst)\n",
      "        syst_scenarios[sample][systname][d] = hist"
     ],
     "language": "python",
     "metadata": {},
     "outputs": []
    },
    {
     "cell_type": "code",
     "collapsed": false,
     "input": [
      "def get_updown(syst):\n",
      "    #print syst\n",
      "    syst = syst.lower()\n",
      "    \n",
      "    if syst==\"unweighted\" or syst == \"nominal\":\n",
      "        return syst, None\n",
      "    idx = None\n",
      "    for d in [\"up\", \"down\"]:\n",
      "        if d in syst:\n",
      "            idx = syst.index(d)\n",
      "            break\n",
      "    if not idx:\n",
      "        raise ValueError(\"Unrecognized syst: %s\" % syst)\n",
      "    \n",
      "    systtype = syst[0:idx]\n",
      "    systtype = systtype.strip(\"_\")#.strip(\"weight__\")\n",
      "    systdir = d\n",
      "    return systtype, systdir\n",
      "    \n"
     ],
     "language": "python",
     "metadata": {},
     "outputs": []
    },
    {
     "cell_type": "code",
     "collapsed": false,
     "input": [
      "hists = {}\n",
      "hsources = (\n",
      "    rets_data[\"data\"][pat_data]+\n",
      "    rets_data[\"mc_nom\"][pat_mc_nom]+\n",
      "    rets_data[\"mc_varproc\"][pat_mc_varproc]+\n",
      "    rets_data[\"mc_varsamp\"][pat_mc_varsamp]\n",
      ")\n",
      "for (samp_type, samp_name, weight), h in hsources:\n",
      "    if \"__ele\" not in weight:\n",
      "        if samp_name not in hists.keys():\n",
      "            hists[samp_name] = []\n",
      "        hists[samp_name].append((samp_type, get_updown(weight.split(\"__\")[1])))\n",
      "\n",
      "        "
     ],
     "language": "python",
     "metadata": {},
     "outputs": []
    },
    {
     "cell_type": "code",
     "collapsed": false,
     "input": [
      "tot=0\n",
      "for k, v in hists.items():\n",
      "    print k, len(v)\n",
      "    for it in v:\n",
      "        print \"sampletype =\",it[0], \", weighttype =\", it[1][0], \", weightdir =\", it[1][1]\n",
      "    tot += len(v)\n",
      "print tot"
     ],
     "language": "python",
     "metadata": {},
     "outputs": []
    },
    {
     "cell_type": "code",
     "collapsed": false,
     "input": [
      "for sampn, h1 in syst_scenarios.items():\n",
      "    for systname, h2 in h1.items():\n",
      "        for systdir, h in h2.items():\n",
      "            print \"!!!\" if h.GetEntries()==0 else \"\", sampn, systname, systdir, h.GetEntries(), \"%.2f\" % h.Integral()"
     ],
     "language": "python",
     "metadata": {},
     "outputs": []
    }
   ],
   "metadata": {}
  }
 ]
}