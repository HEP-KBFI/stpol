{
 "metadata": {
  "name": ""
 },
 "nbformat": 3,
 "nbformat_minor": 0,
 "worksheets": [
  {
   "cells": [
    {
     "cell_type": "code",
     "collapsed": true,
     "input": [
      "%time %run plots/load_histos2.py"
     ],
     "language": "python",
     "metadata": {},
     "outputs": [
      {
       "output_type": "stream",
       "stream": "stderr",
       "text": [
        "INFO:rootpy.logger] | No default log handler configured. See `logging` module |\n"
       ]
      },
      {
       "output_type": "stream",
       "stream": "stderr",
       "text": [
        "INFO:rootpy.logger] \\    To suppress: 'rootpy.log.basic_config_colorized()'   /\n"
       ]
      },
      {
       "output_type": "stream",
       "stream": "stderr",
       "text": [
        "INFO:load_histos2] 25000, [('mc_varproc', 18), ('mc_varsamp', 2), ('data', 1), ('mc_nom', 30), ('data_antiiso', 0)], hists/e/mu/hists-local-1f08ea61-aa46-47ee-8d46-e61c66fc6f39.root:/\n"
       ]
      },
      {
       "output_type": "stream",
       "stream": "stderr",
       "text": [
        "INFO:load_histos2] 50000, [('mc_varproc', 35), ('mc_varsamp', 4), ('data', 2), ('mc_nom', 60), ('data_antiiso', 1)], hists/e/mu/hists-local-3db4ace9-1d78-40e5-b011-1ad327424772.root:/\n"
       ]
      },
      {
       "output_type": "stream",
       "stream": "stderr",
       "text": [
        "INFO:load_histos2] 75000, [('mc_varproc', 51), ('mc_varsamp', 7), ('data', 3), ('mc_nom', 75), ('data_antiiso', 2)], hists/e/mu/hists-local-57a209e3-182a-44b2-8987-aa3e09cb5d87.root:/\n"
       ]
      },
      {
       "output_type": "stream",
       "stream": "stderr",
       "text": [
        "INFO:load_histos2] 100000, [('mc_varproc', 68), ('mc_varsamp', 10), ('data', 3), ('mc_nom', 135), ('data_antiiso', 3)], hists/e/mu/hists-local-72a5e155-cfb1-43a1-977e-951231040204.root:/\n"
       ]
      },
      {
       "output_type": "stream",
       "stream": "stderr",
       "text": [
        "INFO:load_histos2] 125000, [('mc_varproc', 84), ('mc_varsamp', 13), ('data', 4), ('mc_nom', 165), ('data_antiiso', 3)], hists/e/mu/hists-local-8a1a732d-e333-4a3f-91b2-e60c636d0f5f.root:/\n"
       ]
      },
      {
       "output_type": "stream",
       "stream": "stderr",
       "text": [
        "INFO:load_histos2] 150000, [('mc_varproc', 101), ('mc_varsamp', 14), ('data', 4), ('mc_nom', 195), ('data_antiiso', 3)], hists/e/mu/hists-local-9fec36a2-3f99-4721-bf6d-9ae566347ca0.root:/\n"
       ]
      },
      {
       "output_type": "stream",
       "stream": "stderr",
       "text": [
        "INFO:load_histos2] 175000, [('mc_varproc', 120), ('mc_varsamp', 15), ('data', 4), ('mc_nom', 255), ('data_antiiso', 3)], hists/e/mu/hists-local-be36b25e-2243-478e-ab0b-2ea19921a7d7.root:/\n"
       ]
      },
      {
       "output_type": "stream",
       "stream": "stderr",
       "text": [
        "INFO:load_histos2] 200000, [('mc_varproc', 134), ('mc_varsamp', 18), ('data', 4), ('mc_nom', 300), ('data_antiiso', 4)], hists/e/mu/hists-local-da2e77d4-876d-41eb-aba9-63c5bb68a631.root:/\n"
       ]
      },
      {
       "output_type": "stream",
       "stream": "stderr",
       "text": [
        "INFO:load_histos2] 225000, [('mc_varproc', 151), ('mc_varsamp', 19), ('data', 4), ('mc_nom', 315), ('data_antiiso', 4)], hists/e/mu/hists-local-fa1b401e-727e-4c7d-afe8-e508db4c9b2c.root:/\n"
       ]
      },
      {
       "output_type": "stream",
       "stream": "stderr",
       "text": [
        "INFO:load_histos2] Matched [('mc_varproc', 154), ('mc_varsamp', 20), ('data', 4), ('mc_nom', 330), ('data_antiiso', 4)] histograms\n"
       ]
      },
      {
       "output_type": "stream",
       "stream": "stderr",
       "text": [
        "INFO:load_histos2] Saved 807 histograms to file hists_out.root:/\n"
       ]
      },
      {
       "output_type": "stream",
       "stream": "stderr",
       "text": [
        "INFO:load_histos2] Loaded 807 histograms from file hists_out.root:/\n"
       ]
      },
      {
       "output_type": "stream",
       "stream": "stderr",
       "text": [
        "INFO:load_histos2] Saved 217 histograms to file hists_out_merged.root:/\n"
       ]
      },
      {
       "output_type": "stream",
       "stream": "stdout",
       "text": [
        "CPU times: user 1min 30s, sys: 14.2 s, total: 1min 45s\n",
        "Wall time: 1min 58s\n"
       ]
      }
     ],
     "prompt_number": 1
    },
    {
     "cell_type": "code",
     "collapsed": false,
     "input": [
      "from plots.common.mpl_tdrstyle import plt\n",
      "from plots.common.hist_plots import hist_err\n",
      "from rootpy.plotting import Hist\n",
      "%matplotlib inline\n",
      "%pylab inline\n",
      "\n",
      "def draw_hist(hists, normalize=True):\n",
      "    fig = plt.figure(figsize=(10,10))\n",
      "    ax = plt.axes()\n",
      "    legitems = []\n",
      "    if isinstance(hists, dict):\n",
      "        hlist = hists.items()\n",
      "    elif isinstance(hists, list):\n",
      "        hlist = [(h.GetTitle(), h) for h in hists]\n",
      "    \n",
      "    for hn, h in hlist:\n",
      "        h.__class__= Hist\n",
      "        h = h.Clone()\n",
      "        #h.Scale(1.0/h.Integral())\n",
      "        hi = hist_err(ax, h)\n",
      "        legitems.append(hn)\n",
      "    \n",
      "    leg = ax.legend(legitems)"
     ],
     "language": "python",
     "metadata": {},
     "outputs": [
      {
       "output_type": "stream",
       "stream": "stdout",
       "text": [
        "Populating the interactive namespace from numpy and matplotlib\n"
       ]
      }
     ],
     "prompt_number": 44
    },
    {
     "cell_type": "code",
     "collapsed": false,
     "input": [
      "!rm temp.pickle"
     ],
     "language": "python",
     "metadata": {},
     "outputs": [],
     "prompt_number": 48
    },
    {
     "cell_type": "code",
     "collapsed": false,
     "input": [
      "hists[\"abs_eta_lj\"][\"en\"][\"up\"][\"qcd\"]"
     ],
     "language": "python",
     "metadata": {},
     "outputs": [
      {
       "metadata": {},
       "output_type": "pyout",
       "prompt_number": 38,
       "text": [
        "Hist('b188cd60674942979a886e205a5ce9fc')"
       ]
      }
     ],
     "prompt_number": 38
    },
    {
     "cell_type": "code",
     "collapsed": false,
     "input": [
      "hists = [\n",
      "    syst_scenarios[\"qcd\"][\"qcd\"][\"down\"],\n",
      "    syst_scenarios[\"qcd\"][\"qcd\"][\"up\"],\n",
      "    syst_scenarios[\"qcd\"][\"unweighted\"][None]\n",
      "]\n",
      "for h in hists:\n",
      "    h.Rebin(4)"
     ],
     "language": "python",
     "metadata": {},
     "outputs": [],
     "prompt_number": 24
    },
    {
     "cell_type": "code",
     "collapsed": false,
     "input": [
      "draw_hist(hists[\"abs_eta_lj\"][\"qcd\"][\"up\"])"
     ],
     "language": "python",
     "metadata": {},
     "outputs": [
      {
       "metadata": {},
       "output_type": "display_data",
       "png": "[encoded data removed]",
       "text": [
        "<matplotlib.figure.Figure at 0x10b61bdd0>"
       ]
      }
     ],
     "prompt_number": 45
    },
    {
     "cell_type": "code",
     "collapsed": false,
     "input": [
      "hists[\"abs_eta_lj\"][\"qcd\"][\"down\"][\"qcd\"]"
     ],
     "language": "python",
     "metadata": {},
     "outputs": [
      {
       "metadata": {},
       "output_type": "pyout",
       "prompt_number": 47,
       "text": [
        "Hist('b75225d265a34e3686467017c2018236')"
       ]
      }
     ],
     "prompt_number": 47
    },
    {
     "cell_type": "code",
     "collapsed": false,
     "input": [],
     "language": "python",
     "metadata": {},
     "outputs": []
    }
   ],
   "metadata": {}
  }
 ]
}