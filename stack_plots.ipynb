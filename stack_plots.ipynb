{
 "metadata": {
  "name": ""
 },
 "nbformat": 3,
 "nbformat_minor": 0,
 "worksheets": [
  {
   "cells": [
    {
     "cell_type": "code",
     "collapsed": true,
     "input": [
      "%time %run plots/load_histos2.py"
     ],
     "language": "python",
     "metadata": {},
     "outputs": [
      {
       "output_type": "stream",
       "stream": "stderr",
       "text": [
        "INFO:rootpy.logger] | No default log handler configured. See `logging` module |\n"
       ]
      },
      {
       "output_type": "stream",
       "stream": "stderr",
       "text": [
        "INFO:rootpy.logger] \\    To suppress: 'rootpy.log.basic_config_colorized()'   /\n"
       ]
      },
      {
       "output_type": "stream",
       "stream": "stderr",
       "text": [
        "INFO:load_histos2] Saved 808 histograms to file hists_out.root:/\n"
       ]
      },
      {
       "output_type": "stream",
       "stream": "stderr",
       "text": [
        "INFO:load_histos2] Loaded 808 histograms from file hists_out.root:/\n"
       ]
      },
      {
       "output_type": "stream",
       "stream": "stderr",
       "text": [
        "INFO:load_histos2] Saved 217 histograms to file hists_out_merged.root:/\n"
       ]
      },
      {
       "output_type": "stream",
       "stream": "stdout",
       "text": [
        "CPU times: user 3.54 s, sys: 423 ms, total: 3.97 s\n",
        "Wall time: 3.94 s\n"
       ]
      }
     ],
     "prompt_number": 1
    },
    {
     "cell_type": "code",
     "collapsed": false,
     "input": [
      "from plots.common.mpl_tdrstyle import plt\n",
      "from plots.common.hist_plots import hist_err\n",
      "from rootpy.plotting import Hist\n",
      "%matplotlib inline\n",
      "%pylab inline\n",
      "\n",
      "def draw_hist(hists, **kwargs):\n",
      "    fig = plt.figure(figsize=(10,10))\n",
      "    ax = plt.axes()\n",
      "    legitems = []\n",
      "    if isinstance(hists, dict):\n",
      "        hlist = hists.items()\n",
      "    elif isinstance(hists, list):\n",
      "        hlist = [(h.GetTitle(), h) for h in hists]\n",
      "    \n",
      "    for hn, h in hlist:\n",
      "        h = h.Clone()\n",
      "        #h.Scale(1.0/h.Integral())\n",
      "        hi = hist_err(ax, h, **kwargs)\n",
      "        legitems.append(hn)\n",
      "    \n",
      "    leg = ax.legend(legitems)\n",
      "    return ax"
     ],
     "language": "python",
     "metadata": {},
     "outputs": [
      {
       "output_type": "stream",
       "stream": "stdout",
       "text": [
        "Populating the interactive namespace from numpy and matplotlib\n"
       ]
      },
      {
       "output_type": "stream",
       "stream": "stderr",
       "text": [
        "WARNING: pylab import has clobbered these variables: ['hist', 'sample', 'f']\n",
        "`%pylab --no-import-all` prevents importing * from pylab and numpy\n"
       ]
      }
     ],
     "prompt_number": 2
    },
    {
     "cell_type": "code",
     "collapsed": false,
     "input": [
      "mupt"
     ],
     "language": "python",
     "metadata": {},
     "outputs": [
      {
       "metadata": {},
       "output_type": "pyout",
       "prompt_number": 3,
       "text": [
        "<ROOT.TH1F object (\"ef2465c4cf9146b0ae67184ec5193533\") at 0x109f809e0>"
       ]
      }
     ],
     "prompt_number": 3
    },
    {
     "cell_type": "code",
     "collapsed": false,
     "input": [
      "mnomtb = syst_scenarios[\"Tbar_t_ToLeptons\"][\"nominal\"][None].Clone()\n",
      "mdowntb = syst_scenarios[\"Tbar_t_ToLeptons\"][\"mass\"][\"down\"].Clone()\n",
      "muptb = syst_scenarios[\"Tbar_t_ToLeptons\"][\"mass\"][\"up\"].Clone()\n",
      "\n",
      "mnomt = syst_scenarios[\"T_t_ToLeptons\"][\"nominal\"][None].Clone()\n",
      "mdownt = syst_scenarios[\"T_t_ToLeptons\"][\"mass\"][\"down\"].Clone()\n",
      "mupt = syst_scenarios[\"T_t_ToLeptons\"][\"mass\"][\"up\"].Clone()\n",
      "\n",
      "mnomtb.SetTitle(\"nominal tb\")\n",
      "muptb.SetTitle(\"mass up tb\")\n",
      "mdowntb.SetTitle(\"mass down tb\")\n",
      "\n",
      "mnomt.SetTitle(\"nominal t\")\n",
      "mdownt.SetTitle(\"mass down t\")\n",
      "mupt.SetTitle(\"mass up t\")\n",
      "\n",
      "for h in [mnomtb, mdowntb, muptb, mnomt, mdownt, mupt]:\n",
      "    h.Rebin(5)\n",
      "    h.__class__= Hist\n",
      "    h._post_init()\n",
      "    print h.Integral(), h.GetEntries()\n",
      "\n",
      "    \n",
      "mdown = mdowntb+mdownt\n",
      "mdown.SetTitle(\"mass down\")\n",
      "mnom = mnomtb+mnomt\n",
      "mnom.SetTitle(\"nominal\")\n",
      "\n",
      "mup = muptb+mupt\n",
      "mup.SetTitle(\"mass up\")\n",
      "\n",
      "hrdown = (mdown - mnom)/mnom\n",
      "hrup = (mup - mnom)/mnom"
     ],
     "language": "python",
     "metadata": {},
     "outputs": [
      {
       "output_type": "stream",
       "stream": "stdout",
       "text": [
        "0.0420157407261 7996.0\n",
        "0.0393405403684 3901.0\n",
        "0.0435225332221 4677.0\n",
        "0.089544059636 21184.0\n",
        "0.0825562889368 9477.0\n",
        "0.096531828196 6308.38092759\n"
       ]
      }
     ],
     "prompt_number": 7
    },
    {
     "cell_type": "code",
     "collapsed": false,
     "input": [
      "ax = draw_hist([hrdown, hrup], linewidth=2)\n",
      "ax.axhline(0, color=\"black\")\n",
      "ax.grid(which=\"both\")\n",
      "ax.set_ylabel(\"(variation-nominal) / nominal\", fontsize=16)\n",
      "ax.set_xlabel(r\"$|\\eta_{j'}|$\", fontsize=16)"
     ],
     "language": "python",
     "metadata": {},
     "outputs": [
      {
       "metadata": {},
       "output_type": "pyout",
       "prompt_number": 8,
       "text": [
        "<matplotlib.text.Text at 0x10b5d3850>"
       ]
      },
      {
       "metadata": {},
       "output_type": "display_data",
       "png": "[encoded data removed]",
       "text": [
        "<matplotlib.figure.Figure at 0x10b71dc50>"
       ]
      }
     ],
     "prompt_number": 8
    },
    {
     "cell_type": "code",
     "collapsed": false,
     "input": [
      "ax = draw_hist([mup, mnom, mdown], linewidth=2)\n",
      "ax.axhline(0, color=\"black\")\n",
      "ax.grid(which=\"both\")\n",
      "ax.semilogy()\n",
      "#ax.set_ylabel(\"(variation-nominal) / nominal\", fontsize=16)\n",
      "ax.set_xlabel(r\"$|\\eta_{j'}|$\", fontsize=16)"
     ],
     "language": "python",
     "metadata": {},
     "outputs": [
      {
       "metadata": {},
       "output_type": "pyout",
       "prompt_number": 11,
       "text": [
        "<matplotlib.text.Text at 0x10b7b0210>"
       ]
      },
      {
       "metadata": {},
       "output_type": "display_data",
       "png": "[encoded data removed]",
       "text": [
        "<matplotlib.figure.Figure at 0x10b7cd610>"
       ]
      }
     ],
     "prompt_number": 11
    },
    {
     "cell_type": "code",
     "collapsed": false,
     "input": [],
     "language": "python",
     "metadata": {},
     "outputs": []
    }
   ],
   "metadata": {}
  }
 ]
}