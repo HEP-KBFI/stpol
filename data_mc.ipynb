{
 "metadata": {
  "name": ""
 },
 "nbformat": 3,
 "nbformat_minor": 0,
 "worksheets": [
  {
   "cells": [
    {
     "cell_type": "heading",
     "level": 2,
     "metadata": {},
     "source": [
      "Setup"
     ]
    },
    {
     "cell_type": "code",
     "collapsed": true,
     "input": [
      "from plots.common.hist_plots import ipy_show_canv\n",
      "from plots.syst_band import PlotDef, data_mc_plot, logger\n",
      "logger.setLevel(\"INFO\")\n",
      "from plots.common.cross_sections import lumis\n",
      "from plots.common.tdrstyle import tdrstyle\n",
      "tdrstyle()"
     ],
     "language": "python",
     "metadata": {},
     "outputs": [
      {
       "metadata": {},
       "output_type": "pyout",
       "prompt_number": 2,
       "text": [
        "1"
       ]
      }
     ],
     "prompt_number": 2
    },
    {
     "cell_type": "heading",
     "level": 2,
     "metadata": {},
     "source": [
      "Scale factors"
     ]
    },
    {
     "cell_type": "code",
     "collapsed": false,
     "input": [
      "from plots.fit_scale_factors import fitpars_process\n",
      "from plots.qcd_scale_factors import load_qcd_sf\n",
      "\n",
      "#Determined from the QCD fit\n",
      "qcd_mt_fit_sfs = dict()\n",
      "qcd_mt_fit_sfs['mu'] = load_qcd_sf('mu', 50)\n",
      "qcd_mt_fit_sfs['ele'] = load_qcd_sf('ele', 45)\n",
      "\n",
      "#Determined as the ratio of the integral of anti-iso data after full selection / full selection minus MVA\n",
      "#See qcd_scale_factors.ipynb for determination\n",
      "qcd_loose_to_MVA_sfs = {\n",
      "    'mu': 0.114379084967,\n",
      "    'ele': 0.0728291316527,\n",
      "}\n",
      "fit_sfs = dict()\n",
      "\n",
      "fit_sfs['mu'] = [x[1] for x in fitpars_process['final_2j1t_mva']['mu']]\n",
      "fit_sfs['ele'] = [x[1] for x in fitpars_process['final_2j1t_mva']['ele']]\n"
     ],
     "language": "python",
     "metadata": {},
     "outputs": [],
     "prompt_number": 3
    },
    {
     "cell_type": "code",
     "collapsed": false,
     "input": [
      "sfs = dict()\n",
      "\n",
      "def scale_factors(channel, apply_MVA=True, mt_cut=False, cut=\"2j1t\"):\n",
      "    tchan = fit_sfs[channel][0]\n",
      "    top = fit_sfs[channel][1]\n",
      "    wzjets = fit_sfs[channel][2]\n",
      "    qcd = top\n",
      "    if apply_MVA:\n",
      "        qcd = qcd * qcd_loose_to_MVA_sfs[channel]\n",
      "    if mt_cut is False:\n",
      "        qcd = qcd * qcd_mt_fit_sfs[channel]\n",
      "    else:\n",
      "        qcd = qcd * load_qcd_sf(channel, mt_cut, cut)\n",
      "                             \n",
      "    ret = [\n",
      "        (['tchan'], tchan, -1),\n",
      "        (['TTJets', 'tWchan', 'schan'], top, -1),\n",
      "        (['qcd'], qcd, -1),\n",
      "        (['WJets', 'diboson', 'DYJets'], wzjets, -1)\n",
      "    ]\n",
      "    return ret\n",
      "scale_factors('mu', False, 0), scale_factors('ele', False, 0)"
     ],
     "language": "python",
     "metadata": {},
     "outputs": [
      {
       "metadata": {},
       "output_type": "pyout",
       "prompt_number": 4,
       "text": [
        "([(['tchan'], 0.987681, -1),\n",
        "  (['TTJets', 'tWchan', 'schan'], 0.820195, -1),\n",
        "  (['qcd'], 4.952123339105, -1),\n",
        "  (['WJets', 'diboson', 'DYJets'], 1.923652, -1)],\n",
        " [(['tchan'], 0.856671, -1),\n",
        "  (['TTJets', 'tWchan', 'schan'], 0.824649, -1),\n",
        "  (['qcd'], 3.7437819380010002, -1),\n",
        "  (['WJets', 'diboson', 'DYJets'], 2.18184, -1)])"
       ]
      }
     ],
     "prompt_number": 4
    },
    {
     "cell_type": "code",
     "collapsed": false,
     "input": [
      "cutname = \"2j1t_mva_loose\"\n",
      "hists_dir = \"hists/Aug27\""
     ],
     "language": "python",
     "metadata": {},
     "outputs": [],
     "prompt_number": 5
    },
    {
     "cell_type": "heading",
     "level": 2,
     "metadata": {},
     "source": [
      "Plots"
     ]
    },
    {
     "cell_type": "code",
     "collapsed": false,
     "input": [
      "def pd(var, cut, channel, **kwargs):\n",
      "    channels_pretty = {\"mu\":\"Muon\", \"ele\":\"Electrons\"}\n",
      "    return PlotDef(\n",
      "        infile=hists_dir+\"/hists_merged__%s__%s_%s.root\" % (cut, var, channel),\n",
      "        lumi=lumis[\"343e0a9_Aug22\"][\"iso\"][channel],\n",
      "        var=var,\n",
      "        channel_pretty=channels_pretty[channel],\n",
      "        systematics='.*',\n",
      "        systematics_shapeonly=False,\n",
      "        lb_comments='',\n",
      "        save_name=\"out/plots/%s_%s_%s.pdf\" % (cut, var, channel),\n",
      "        process_scale_factor = scale_factors(channel),\n",
      "        **kwargs\n",
      "    )\n",
      "\n",
      "def save_and_show(c):\n",
      "    c.SaveAs(h.save_name)\n",
      "    r = ipy_show_canv(c)\n",
      "    c.Close() #Need to close to prevent ROOT crash\n",
      "    return r\n",
      "\n",
      "h = pd(\"abs_eta_lj\", cutname, \"mu\", rebin=1, legend_pos='top-left', log=False)\n",
      "c, hists = data_mc_plot(h)\n",
      "save_and_show(c)"
     ],
     "language": "python",
     "metadata": {},
     "outputs": [
      {
       "output_type": "stream",
       "stream": "stderr",
       "text": [
        "INFO:rootpy.logger] | No default log handler configured. See `logging` module |\n"
       ]
      },
      {
       "output_type": "stream",
       "stream": "stderr",
       "text": [
        "INFO:rootpy.logger] \\    To suppress: 'rootpy.log.basic_config_colorized()'   /\n"
       ]
      },
      {
       "output_type": "stream",
       "stream": "stderr",
       "text": [
        "INFO:plots.syst_band] Considering systematics ['unclustereden', 'b_weight_nominal_l', 'b_weight_nominal_bc', 'pu_weight', 'muon_isoweight', 'en', 'ttbar_scale', 'qcd_yield', 'tchan_scale', 'res', 'wjets_mg_flavour_shape_weight', 'wjets_mg_flavour_flat_weight', 'qcd_iso', 'muon_triggerweight', 'muon_idweight', 'mass', 'top_pt', 'lepton_weight_shape']\n"
       ]
      },
      {
       "output_type": "stream",
       "stream": "stderr",
       "text": [
        "INFO:plots.syst_band] Systematic wjets_mg_flavour_flat_weight, 217.1408\n"
       ]
      },
      {
       "output_type": "stream",
       "stream": "stderr",
       "text": [
        "INFO:plots.syst_band] Systematic tchan_scale, 91.0436\n"
       ]
      },
      {
       "output_type": "stream",
       "stream": "stderr",
       "text": [
        "INFO:plots.syst_band] Systematic en, 86.1569\n"
       ]
      },
      {
       "output_type": "stream",
       "stream": "stderr",
       "text": [
        "INFO:plots.syst_band] Systematic mass, 47.9916\n"
       ]
      },
      {
       "output_type": "stream",
       "stream": "stderr",
       "text": [
        "INFO:plots.syst_band] Systematic res, 39.2403\n"
       ]
      },
      {
       "output_type": "stream",
       "stream": "stderr",
       "text": [
        "INFO:plots.syst_band] Systematic b_weight_nominal_bc, 34.3812\n"
       ]
      },
      {
       "output_type": "stream",
       "stream": "stderr",
       "text": [
        "INFO:plots.syst_band] Systematic pu_weight, 21.4955\n"
       ]
      },
      {
       "output_type": "stream",
       "stream": "stderr",
       "text": [
        "INFO:ROOT.TCanvas.Print] pdf file out/plots/2j1t_mva_loose_abs_eta_lj_mu.pdf has been created\n"
       ]
      },
      {
       "output_type": "stream",
       "stream": "stderr",
       "text": [
        "INFO:ROOT.TCanvas.Print] png file temp.png has been created\n"
       ]
      },
      {
       "output_type": "stream",
       "stream": "stdout",
       "text": [
        "diboson 16.1504218206 114.0\n",
        "tchan 2342.06591579 25987.0\n",
        "qcd 95.0773187876 305.0\n",
        "TTJets 446.812209664 7798.0\n",
        "schan 15.8155737408 75.0\n",
        "tWchan 30.4875088334 94.0\n",
        "WJets 1155.40578884 573.0\n",
        "DYJets 68.3786256611 13.0\n",
        "MC: 4170.19 Data: 4303.00\n"
       ]
      },
      {
       "metadata": {},
       "output_type": "pyout",
       "png": "[encoded data removed]",
       "prompt_number": 6,
       "text": [
        "<IPython.core.display.Image at 0x10aa74b10>"
       ]
      }
     ],
     "prompt_number": 6
    },
    {
     "cell_type": "code",
     "collapsed": false,
     "input": [
      "h = pd(\"abs_eta_lj\", cutname, \"ele\", rebin=2, legend_pos='top-left', log=False)\n",
      "c, hists = data_mc_plot(h)\n",
      "save_and_show(c)"
     ],
     "language": "python",
     "metadata": {},
     "outputs": []
    },
    {
     "cell_type": "code",
     "collapsed": false,
     "input": [
      "h = pd(\"top_mass_sr\", cutname, \"ele\", rebin=6, legend_pos='top-right')\n",
      "c, hists = data_mc_plot(h)\n",
      "save_and_show(c)"
     ],
     "language": "python",
     "metadata": {},
     "outputs": []
    },
    {
     "cell_type": "code",
     "collapsed": false,
     "input": [
      "h = pd(\"cos_theta\", cutname, \"mu\", rebin=4)\n",
      "c, hists = data_mc_plot(h)\n",
      "save_and_show(c)"
     ],
     "language": "python",
     "metadata": {},
     "outputs": []
    },
    {
     "cell_type": "code",
     "collapsed": false,
     "input": [
      "h = pd(\"cos_theta\", cutname, \"ele\", rebin=4)\n",
      "c, hists = data_mc_plot(h)\n",
      "save_and_show(c)"
     ],
     "language": "python",
     "metadata": {},
     "outputs": []
    },
    {
     "cell_type": "code",
     "collapsed": false,
     "input": [
      "h = pd(\"mtw_50_150\", cutname, \"mu\", rebin=3, legend_pos='top-right')\n",
      "c, hists = data_mc_plot(h)\n",
      "save_and_show(c)"
     ],
     "language": "python",
     "metadata": {},
     "outputs": []
    },
    {
     "cell_type": "code",
     "collapsed": false,
     "input": [
      "h = pd(\"mtw_50_150\", cutname, \"ele\", rebin=3, legend_pos='top-right')\n",
      "c, hists = data_mc_plot(h)\n",
      "save_and_show(c)"
     ],
     "language": "python",
     "metadata": {},
     "outputs": []
    },
    {
     "cell_type": "code",
     "collapsed": false,
     "input": [
      "h = pd(\"bdt_discr\", \"2j1t_baseline\", \"mu\", rebin=3, legend_pos='top-right', log=True, max_bin_mult_log=1000)\n",
      "h.process_scale_factor = scale_factors('mu', False)\n",
      "#h.systematics_shapeonly = False\n",
      "c, hists = data_mc_plot(h)\n",
      "save_and_show(c)"
     ],
     "language": "python",
     "metadata": {},
     "outputs": []
    },
    {
     "cell_type": "code",
     "collapsed": false,
     "input": [
      "h = pd(\"bdt_discr\", \"2j1t_baseline\", \"ele\", rebin=3, legend_pos='top-right', log=True, max_bin_mult_log=1000)\n",
      "h.process_scale_factor = scale_factors('ele', False)\n",
      "#h.systematics_shapeonly = False\n",
      "c, hists = data_mc_plot(h)\n",
      "save_and_show(c)"
     ],
     "language": "python",
     "metadata": {},
     "outputs": []
    },
    {
     "cell_type": "code",
     "collapsed": false,
     "input": [
      "h = pd(\"mtw\", \"2j1t_baseline_nomet\", \"mu\", rebin=1, legend_pos='top-right', log=False)\n",
      "h.process_scale_factor = scale_factors('mu', False, 0)\n",
      "h.systematics_shapeonly = True\n",
      "c, hists = data_mc_plot(h)\n",
      "save_and_show(c)"
     ],
     "language": "python",
     "metadata": {},
     "outputs": []
    },
    {
     "cell_type": "code",
     "collapsed": false,
     "input": [
      "h = pd(\"mtw\", \"2j1t_baseline_nomet\", \"ele\", rebin=1, legend_pos='top-right', log=True)\n",
      "h.process_scale_factor = scale_factors('ele', False, 0)\n",
      "h.systematics_shapeonly = True\n",
      "c, hists = data_mc_plot(h)\n",
      "save_and_show(c)"
     ],
     "language": "python",
     "metadata": {},
     "outputs": []
    },
    {
     "cell_type": "code",
     "collapsed": false,
     "input": [
      "h = pd(\"bdt_discr\", \"3j1t_baseline\", \"ele\", rebin=3, legend_pos='top-right', log=True)\n",
      "h.process_scale_factor = scale_factors(\"ele\", False, 50, \"3j1t\")#scale_factors('ele', False, 0)\n",
      "h.systematics_shapeonly = True\n",
      "c, hists = data_mc_plot(h)\n",
      "save_and_show(c)"
     ],
     "language": "python",
     "metadata": {},
     "outputs": []
    },
    {
     "cell_type": "code",
     "collapsed": false,
     "input": [
      "h = pd(\"cos_theta\", \"3j2t_baseline\", \"mu\", rebin=1, legend_pos='top-right', log=False, min_bin=1)\n",
      "h.process_scale_factor = [\n",
      "]\n",
      "h.systematics_shapeonly = True\n",
      "c, hists = data_mc_plot(h)\n",
      "save_and_show(c)"
     ],
     "language": "python",
     "metadata": {},
     "outputs": [
      {
       "output_type": "stream",
       "stream": "stderr",
       "text": [
        "INFO:plots.syst_band] Considering systematics ['wjets_mg_flavour_flat_weight', 'qcd_iso', 'b_weight_nominal_l', 'muon_idweight', 'pu_weight', 'wjets_mg_flavour_shape_weight', 'lepton_weight_shape', 'tchan_scale', 'b_weight_nominal_bc', 'muon_isoweight', 'muon_triggerweight', 'mass', 'en', 'qcd_yield', 'top_pt', 'unclustereden', 'ttbar_scale', 'res']\n"
       ]
      },
      {
       "output_type": "stream",
       "stream": "stderr",
       "text": [
        "INFO:plots.syst_band] Systematic mass, 104.2709\n"
       ]
      },
      {
       "output_type": "stream",
       "stream": "stderr",
       "text": [
        "INFO:plots.syst_band] Systematic ttbar_scale, 99.8365\n"
       ]
      },
      {
       "output_type": "stream",
       "stream": "stderr",
       "text": [
        "INFO:plots.syst_band] Systematic tchan_scale, 40.7963\n"
       ]
      },
      {
       "output_type": "stream",
       "stream": "stderr",
       "text": [
        "INFO:plots.syst_band] Systematic res, 22.3046\n"
       ]
      },
      {
       "output_type": "stream",
       "stream": "stderr",
       "text": [
        "INFO:plots.syst_band] Systematic en, 20.5101\n"
       ]
      },
      {
       "output_type": "stream",
       "stream": "stderr",
       "text": [
        "INFO:plots.syst_band] Systematic unclustereden, 18.8353\n"
       ]
      },
      {
       "output_type": "stream",
       "stream": "stderr",
       "text": [
        "INFO:plots.syst_band] Systematic top_pt, 17.0000\n"
       ]
      },
      {
       "output_type": "stream",
       "stream": "stderr",
       "text": [
        "INFO:stack_plot] Maximal bin: 196.000\n"
       ]
      },
      {
       "output_type": "stream",
       "stream": "stderr",
       "text": [
        "INFO:stack_plot] Stack info: [('mc', 165.01885986328125), ('data', 196.0)]\n"
       ]
      },
      {
       "output_type": "stream",
       "stream": "stderr",
       "text": [
        "INFO:stack_plot] do_stack: True\n"
       ]
      },
      {
       "output_type": "stream",
       "stream": "stderr",
       "text": [
        "INFO:stack_plot] name: mc drawcmd: BAR HIST goff\n"
       ]
      },
      {
       "output_type": "stream",
       "stream": "stderr",
       "text": [
        "INFO:stack_plot] options: \n"
       ]
      },
      {
       "output_type": "stream",
       "stream": "stderr",
       "text": [
        "INFO:stack_plot] name: data drawcmd: E1 SAME\n"
       ]
      },
      {
       "output_type": "stream",
       "stream": "stderr",
       "text": [
        "INFO:stack_plot] options: \n"
       ]
      },
      {
       "output_type": "stream",
       "stream": "stderr",
       "text": [
        "WARNING:ROOT.TROOT.Append] Replacing existing TH1: 0line (Potential memory leak).\n"
       ]
      },
      {
       "output_type": "stream",
       "stream": "stderr",
       "text": [
        "INFO:ROOT.TCanvas.Print] pdf file out/plots/3j2t_baseline_cos_theta_mu.pdf has been created\n"
       ]
      },
      {
       "output_type": "stream",
       "stream": "stderr",
       "text": [
        "INFO:ROOT.TCanvas.Print] png file temp.png has been created\n"
       ]
      },
      {
       "output_type": "stream",
       "stream": "stdout",
       "text": [
        "diboson 12.7826176323 241.0\n",
        "qcd 194.0 194.0\n",
        "DYJets 22.6806054413 8.0\n",
        "tchan 496.77197516 6139.0\n",
        "WJets 219.590024531 425.0\n",
        "schan 36.535863535 161.0\n",
        "tWchan 99.3367505968 280.0\n",
        "TTJets 7639.00100994 115345.0\n",
        "MC: 8720.70 Data: 9151.00\n"
       ]
      },
      {
       "metadata": {},
       "output_type": "pyout",
       "png": "[encoded data removed]",
       "prompt_number": 21,
       "text": [
        "<IPython.core.display.Image at 0x10c24f050>"
       ]
      }
     ],
     "prompt_number": 21
    },
    {
     "cell_type": "code",
     "collapsed": false,
     "input": [
      "h = pd(\"cos_theta\", \"2j0t_baseline\", \"ele\", rebin=3, legend_pos='top-right', log=False, min_bin=1)\n",
      "h.process_scale_factor = [\n",
      "]\n",
      "h.\n",
      "h.systematics_shapeonly = True\n",
      "c, hists = data_mc_plot(h)\n",
      "save_and_show(c)"
     ],
     "language": "python",
     "metadata": {},
     "outputs": [
      {
       "output_type": "stream",
       "stream": "stderr",
       "text": [
        "INFO:plots.syst_band] Considering systematics ['wjets_mg_flavour_flat_weight', 'qcd_iso', 'b_weight_nominal_l', 'pu_weight', 'wjets_mg_flavour_shape_weight', 'electron_triggerweight', 'electron_idweight', 'tchan_scale', 'b_weight_nominal_bc', 'en', 'lepton_weight_shape', 'mass', 'qcd_yield', 'top_pt', 'unclustereden', 'ttbar_scale', 'res']\n"
       ]
      },
      {
       "output_type": "stream",
       "stream": "stderr",
       "text": [
        "INFO:plots.syst_band] Systematic wjets_mg_flavour_shape_weight, 4511.4841\n"
       ]
      },
      {
       "output_type": "stream",
       "stream": "stderr",
       "text": [
        "INFO:plots.syst_band] Systematic res, 709.8045\n"
       ]
      },
      {
       "output_type": "stream",
       "stream": "stderr",
       "text": [
        "INFO:plots.syst_band] Systematic en, 585.7606\n"
       ]
      },
      {
       "output_type": "stream",
       "stream": "stderr",
       "text": [
        "INFO:plots.syst_band] Systematic wjets_mg_flavour_flat_weight, 484.0991\n"
       ]
      },
      {
       "output_type": "stream",
       "stream": "stderr",
       "text": [
        "INFO:plots.syst_band] Systematic lepton_weight_shape, 397.4357\n"
       ]
      },
      {
       "output_type": "stream",
       "stream": "stderr",
       "text": [
        "INFO:plots.syst_band] Systematic unclustereden, 394.1696\n"
       ]
      },
      {
       "output_type": "stream",
       "stream": "stderr",
       "text": [
        "INFO:plots.syst_band] Systematic mass, 246.8208\n"
       ]
      },
      {
       "output_type": "stream",
       "stream": "stderr",
       "text": [
        "WARNING:ROOT.TROOT.Append] Replacing existing TH1: 0line (Potential memory leak).\n"
       ]
      },
      {
       "output_type": "stream",
       "stream": "stderr",
       "text": [
        "INFO:ROOT.TCanvas.Print] pdf file out/plots/2j0t_baseline_cos_theta_ele.pdf has been created\n"
       ]
      },
      {
       "output_type": "stream",
       "stream": "stderr",
       "text": [
        "INFO:ROOT.TCanvas.Print] png file temp.png has been created\n"
       ]
      },
      {
       "output_type": "stream",
       "stream": "stdout",
       "text": [
        "diboson 7105.03504181 80079.0\n",
        "qcd 5543.0 5543.0\n",
        "DYJets 14889.8963013 4929.0\n",
        "tchan 7290.36764526 71457.0\n",
        "WJets 489749.757812 447056.0\n",
        "schan 316.441029549 1074.0\n",
        "tWchan 2273.19789505 5162.0\n",
        "TTJets 31165.1988525 396448.0\n",
        "MC: 558332.89 Data: 550163.00\n"
       ]
      },
      {
       "metadata": {},
       "output_type": "pyout",
       "png": "[encoded data removed]",
       "prompt_number": 7,
       "text": [
        "<IPython.core.display.Image at 0x10aa6f290>"
       ]
      }
     ],
     "prompt_number": 7
    },
    {
     "cell_type": "code",
     "collapsed": false,
     "input": [
      "h = pd(\"abs_eta_lj\", \"2j1t_baseline\", \"ele\", rebin=3, legend_pos='top-right', log=True, min_bin=1)\n",
      "h.systematics_shapeonly = True\n",
      "c, hists = data_mc_plot(h)\n",
      "save_and_show(c)"
     ],
     "language": "python",
     "metadata": {},
     "outputs": []
    }
   ],
   "metadata": {}
  }
 ]
}