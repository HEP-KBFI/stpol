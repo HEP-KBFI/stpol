{
 "metadata": {
  "name": ""
 },
 "nbformat": 3,
 "nbformat_minor": 0,
 "worksheets": [
  {
   "cells": [
    {
     "cell_type": "code",
     "collapsed": false,
     "input": [
      "import os\n",
      "import numpy as np\n",
      "import ROOT\n",
      "\n",
      "path = \"/home/joosep/singletop/stpol/Aug4_0eb863_full/\"\n",
      "sizes = []\n",
      "nevents = []\n",
      "for root, dirs, items in os.walk(path):\n",
      "    for it in items:\n",
      "        p = os.path.join(root, it)\n",
      "        si = os.path.getsize(p)/1024/1024\n",
      "        fi =ROOT.TFile(p)\n",
      "        if fi:\n",
      "            n = fi.Get(\"trees/Events\").GetEntries()\n",
      "            fi.Close()\n",
      "        else:\n",
      "            n = 0\n",
      "        nevents.append(n)\n",
      "        sizes.append(si)\n",
      "print np.mean(sizes), np.std(sizes), np.max(sizes), np.min(sizes)\n",
      "\n"
     ],
     "language": "python",
     "metadata": {},
     "outputs": [
      {
       "output_type": "stream",
       "stream": "stdout",
       "text": [
        "103.523640662 330.282759129 3088 0\n"
       ]
      }
     ],
     "prompt_number": 40
    },
    {
     "cell_type": "code",
     "collapsed": false,
     "input": [
      "from plots.common.mpl_tdrstyle import plt\n",
      "from plots.common.mpl_hists import hist_err\n",
      "%matplotlib inline"
     ],
     "language": "python",
     "metadata": {},
     "outputs": [],
     "prompt_number": 41
    },
    {
     "cell_type": "code",
     "collapsed": false,
     "input": [
      "fig = plt.figure()\n",
      "ax = plt.axes()\n",
      "#ax.semilogy()\n",
      "ax.hist(sizes, bins=20, histtype='step', color='red', log=True)"
     ],
     "language": "python",
     "metadata": {},
     "outputs": [
      {
       "metadata": {},
       "output_type": "pyout",
       "prompt_number": 66,
       "text": [
        "(array([702,  92,  27,   3,   1,   1,   1,   1,   4,   4,   0,   1,   0,\n",
        "         1,   0,   0,   0,   4,   2,   2]),\n",
        " array([    0. ,   154.4,   308.8,   463.2,   617.6,   772. ,   926.4,\n",
        "        1080.8,  1235.2,  1389.6,  1544. ,  1698.4,  1852.8,  2007.2,\n",
        "        2161.6,  2316. ,  2470.4,  2624.8,  2779.2,  2933.6,  3088. ]),\n",
        " <a list of 1 Patch objects>)"
       ]
      },
      {
       "metadata": {},
       "output_type": "display_data",
       "png": "[encoded data removed]",
       "text": [
        "<matplotlib.figure.Figure at 0x58bbf90>"
       ]
      }
     ],
     "prompt_number": 66
    },
    {
     "cell_type": "code",
     "collapsed": false,
     "input": [
      "fig = plt.figure()\n",
      "ax = plt.axes()\n",
      "ax.hist(nevents, bins=20, histtype='step', log=True)"
     ],
     "language": "python",
     "metadata": {},
     "outputs": [
      {
       "metadata": {},
       "output_type": "pyout",
       "prompt_number": 68,
       "text": [
        "(array([491, 128,  17,  25,  25,  12,   7,   1,  28,  41,   7,   7,   0,\n",
        "         0,   1,   0,   0,   0,  28,  28]),\n",
        " array([       0.  ,   195548.65,   391097.3 ,   586645.95,   782194.6 ,\n",
        "         977743.25,  1173291.9 ,  1368840.55,  1564389.2 ,  1759937.85,\n",
        "        1955486.5 ,  2151035.15,  2346583.8 ,  2542132.45,  2737681.1 ,\n",
        "        2933229.75,  3128778.4 ,  3324327.05,  3519875.7 ,  3715424.35,\n",
        "        3910973.  ]),\n",
        " <a list of 1 Patch objects>)"
       ]
      },
      {
       "metadata": {},
       "output_type": "display_data",
       "png": "[encoded data removed]",
       "text": [
        "<matplotlib.figure.Figure at 0x4772c10>"
       ]
      }
     ],
     "prompt_number": 68
    },
    {
     "cell_type": "code",
     "collapsed": false,
     "input": [
      "fig = plt.figure()\n",
      "ax = plt.axes()\n",
      "hi = ax.hist2d(sizes, nevents, bins=10,\n",
      "    norm = matplotlib.colors.LogNorm(), \n",
      "    cmap = matplotlib.cm.rainbow               \n",
      ")"
     ],
     "language": "python",
     "metadata": {},
     "outputs": [
      {
       "metadata": {},
       "output_type": "display_data",
       "png": "[encoded data removed]",
       "text": [
        "<matplotlib.figure.Figure at 0x482b5d0>"
       ]
      }
     ],
     "prompt_number": 57
    },
    {
     "cell_type": "code",
     "collapsed": false,
     "input": [
      "sum(nevents)/1000/1000"
     ],
     "language": "python",
     "metadata": {},
     "outputs": [
      {
       "metadata": {},
       "output_type": "pyout",
       "prompt_number": 53,
       "text": [
        "489"
       ]
      }
     ],
     "prompt_number": 53
    },
    {
     "cell_type": "code",
     "collapsed": false,
     "input": [
      "plt.LogN"
     ],
     "language": "python",
     "metadata": {},
     "outputs": []
    }
   ],
   "metadata": {}
  }
 ]
}