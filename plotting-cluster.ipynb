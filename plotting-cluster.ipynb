{
 "metadata": {
  "name": "plotting-cluster"
 },
 "nbformat": 3,
 "nbformat_minor": 0,
 "worksheets": [
  {
   "cells": [
    {
     "cell_type": "code",
     "collapsed": false,
     "input": [
      "from clusterpy.util import *\n",
      "import ROOT\n",
      "dview = cluster_setup()"
     ],
     "language": "python",
     "metadata": {},
     "outputs": [
      {
       "output_type": "stream",
       "stream": "stdout",
       "text": [
        "Got 5 engines\n"
       ]
      }
     ],
     "prompt_number": 1
    },
    {
     "cell_type": "code",
     "collapsed": false,
     "input": [
      "%%pxlocal\n",
      "def setenv():\n",
      "    !source ~/builds/root/bin/thisroot.sh #Configure own ROOT\n",
      "setenv()"
     ],
     "language": "python",
     "metadata": {},
     "outputs": []
    },
    {
     "cell_type": "code",
     "collapsed": false,
     "input": [
      "%%pxlocal\n",
      "cd ~/singletop/stpol/"
     ],
     "language": "python",
     "metadata": {},
     "outputs": []
    },
    {
     "cell_type": "code",
     "collapsed": false,
     "input": [
      "%%pxlocal\n",
      "import ROOT\n",
      "import plots\n",
      "from plots.project_histos import Sample, Cuts, Cut"
     ],
     "language": "python",
     "metadata": {},
     "outputs": []
    },
    {
     "cell_type": "code",
     "collapsed": false,
     "input": [
      "%%pxlocal\n",
      "def drawHisto(args):\n",
      "    from plots.project_histos import Sample\n",
      "    samp = Sample.fromFile(args[\"filename\"])\n",
      "    return samp.drawHistogram(args[\"var\"], str(args[\"cut\"]), weight=args[\"weight\"], plot_range=args[\"plot_range\"])"
     ],
     "language": "python",
     "metadata": {},
     "outputs": []
    },
    {
     "cell_type": "code",
     "collapsed": false,
     "input": [
      "import glob\n",
      "#indir = \"/home/joosep/singletop/stpol/out_step3_05_07_14_19\"\n",
      "indir = \"/scratch/joosep/out_step3_05_07_14_19\"\n",
      "iso_mc_fnames = glob.glob(\"%s/iso/mc/*.root\" % indir)\n",
      "iso_data_fnames = glob.glob(\"%s/iso/data/*.root\" % indir)\n",
      "aiso_data_fnames = glob.glob(\"%s/anti-iso/data/*.root\" % indir)\n",
      "#samples_mc = map(Sample.fromFile, iso_mc_fnames)\n",
      "#samples_data = map(Sample.fromFile, iso_data_fnames)"
     ],
     "language": "python",
     "metadata": {},
     "outputs": []
    },
    {
     "cell_type": "code",
     "collapsed": false,
     "input": [
      "lumi_total=19361\n",
      "from plots.common.utils import merge_cmds, merge_hists\n",
      "from plots.common.sample_style import Styling\n",
      "from plots.common.legend import legend\n",
      "from plots.common.tdrstyle import tdrstyle\n",
      "from plots.common.odict import OrderedDict as dict\n",
      "from plots.common.utils import lumi_textbox\n",
      "from plots.common.stack_plot import plot_hists_stacked\n",
      "tdrstyle()\n",
      "import copy\n",
      "\n",
      "def get_hist_int_err(hist):\n",
      "    err = ROOT.Double()\n",
      "    integral = hist.IntegralAndError(1, hist.GetNbinsX(), err)\n",
      "    return (float(integral), float(err))\n",
      "\n",
      "def compare_plot(var, plot_range, weight, cut, do_parallel=True, do_qcd_mc=False, qcd_yield=None, **kwargs):\n",
      "    \n",
      "    #a dictionary with sample name: th1f\n",
      "    histsD = dict()\n",
      "    \n",
      "    #premake lists of argument dicts to pass to mapping function\n",
      "    args_mc = [{\"filename\": x, \"var\": var, \"plot_range\":plot_range, \"weight\":weight, \"cut\":cut} for x in iso_mc_fnames]\n",
      "    args_d = [{\"filename\": x, \"var\": var, \"plot_range\":plot_range, \"weight\":weight, \"cut\":cut} for x in iso_data_fnames]\n",
      "    args_d_aiso = [{\"filename\": x, \"var\": var, \"plot_range\":plot_range, \"weight\":weight, \"cut\":cut} for x in aiso_data_fnames]\n",
      "    \n",
      "    if do_parallel:\n",
      "        histos_mc = dview.map_sync(drawHisto, args_mc)\n",
      "        histos_data = dview.map_sync(drawHisto, args_d)\n",
      "    else:\n",
      "        histos_mc = map(drawHisto, args_mc)\n",
      "        histos_data = map(drawHisto, args_data)\n",
      "\n",
      "    #need to normalize unmerged hists\n",
      "    for hist in histos_mc:\n",
      "        hist.normalize_lumi(lumi_total)\n",
      "        Styling.mc_style(hist.hist, hist.sample_name)\n",
      "    \n",
      "    #get rid of Histogram type object, use TH1F\n",
      "    for hist in histos_mc + histos_data:\n",
      "        histsD[hist.sample_name] = hist.hist\n",
      "    \n",
      "    for hist in histos_data:\n",
      "        Styling.data_style(hist.hist)\n",
      "\n",
      "\n",
      "    merge_cmd = copy.deepcopy(merge_cmds)\n",
      "    if do_qcd_mc:\n",
      "        merge_cmd[\"QCD (MC)\"] = [\"QCDMu\"]\n",
      "    merged_hists = merge_hists(histsD, merge_cmd)\n",
      "\n",
      "    stack = dict()\n",
      "    stack[\"mc\"] = [merged_hists[name] for name in merged_hists.keys() if name!=\"data\"]\n",
      "    stack[\"data\"] = [merged_hists[\"data\"]]\n",
      "    \n",
      "    if not do_qcd_mc:\n",
      "        hists_d_aiso = dview.map_sync(drawHisto, args_d_aiso)\n",
      "        if not len(hists_d_aiso)>0:\n",
      "            raise Exception(\"Could not find any anti-iso distributions\") \n",
      "        hist_qcd = hists_d_aiso[0].hist.Clone(\"hist_qcd\")\n",
      "        hist_qcd.SetTitle(\"QCD\")\n",
      "        for h in hists_d_aiso[1:]:\n",
      "            hist_qcd.Add(h.hist)\n",
      "        if qcd_yield>0:\n",
      "            hist_qcd.Scale(qcd_yield/hist_qcd.Integral())\n",
      "        else:\n",
      "            hist_qcd.Scale(histsD[\"QCDMu\"].Integral()/hist_qcd.Integral())\n",
      "        print hist_qcd.Integral()\n",
      "        Styling.mc_style(hist_qcd, \"QCDMu\")\n",
      "    stack[\"mc\"].append(hist_qcd)\n",
      "    \n",
      "    print \"mc yields\"\n",
      "    for h in stack[\"mc\"]:\n",
      "        print \"%s : %s\" % (h.GetTitle(), get_hist_int_err(h))\n",
      "    \n",
      "    print \"data yield\"\n",
      "    for h in stack[\"data\"]:\n",
      "        print \"%s : %s\" % (h.GetTitle(), get_hist_int_err(h))\n",
      "            \n",
      "    canv = ROOT.TCanvas()\n",
      "    stacks = plot_hists_stacked(\n",
      "            canv,\n",
      "            stack,\n",
      "            draw_styles={\"data\": \"E1\"},\n",
      "            **kwargs\n",
      "    )\n",
      "    total_mc = get_stack_total_hist(stacks[\"mc\"])\n",
      "    print \"total mc: %s\"%str(get_hist_int_err(total_mc))\n",
      "    #Here the MC must be reversed\n",
      "    leg = legend(stack[\"data\"] + stack[\"mc\"][::-1], styles=[\"p\", \"f\"])\n",
      "    lumib = lumi_textbox(lumi_total)\n",
      "\n",
      "    return canv, stacks, leg, lumib\n",
      "\n",
      "def show_canv(canv):\n",
      "    canv.SaveAs(\"test.pdf\")\n",
      "    to_png(\"test\")\n",
      "    return Image(filename='test.png')"
     ],
     "language": "python",
     "metadata": {},
     "outputs": []
    },
    {
     "cell_type": "code",
     "collapsed": false,
     "input": [
      "def get_stack_total_hist(thstack):\n",
      "    hists = [h for h in thstack.GetHists()]\n",
      "    hnew = hists[0].Clone(thstack.GetName())\n",
      "    for h in hists[1:]:\n",
      "        hnew.Add(h)\n",
      "    return hnew"
     ],
     "language": "python",
     "metadata": {},
     "outputs": []
    },
    {
     "cell_type": "heading",
     "level": 2,
     "metadata": {},
     "source": [
      "Control plots in muon channel"
     ]
    },
    {
     "cell_type": "code",
     "collapsed": false,
     "input": [
      "ret = compare_plot(\"mu_pt\",\n",
      "    [20, 10, 150],\n",
      "    #\"pu_weight*b_weight_nominal*muon_IDWeight*muon_IsoWeight\",\n",
      "    \"1.0\",\n",
      "    Cuts.mu*Cuts.n_jets(3)*Cuts.n_tags(2),\n",
      "    x_label=\"p_{t}(#mu) [GeV]\",\n",
      "    do_log_y=True,\n",
      "    max_bin_mult=100.0\n",
      ")\n",
      "show_canv(ret[0])"
     ],
     "language": "python",
     "metadata": {},
     "outputs": []
    },
    {
     "cell_type": "code",
     "collapsed": false,
     "input": [
      "ret = compare_plot(\"mt_mu\",\n",
      "    [20, 0, 150],\n",
      "    \"pu_weight*b_weight_nominal*muon_IDWeight*muon_IsoWeight\",\n",
      "    Cuts.mu,\n",
      "    x_label=\"M_{t}(W) [GeV]\"\n",
      ")\n",
      "show_canv(ret[0])"
     ],
     "language": "python",
     "metadata": {},
     "outputs": []
    },
    {
     "cell_type": "heading",
     "level": 3,
     "metadata": {},
     "source": [
      "eta_lj in 2J1T"
     ]
    },
    {
     "cell_type": "code",
     "collapsed": false,
     "input": [
      "ret_etalj_bwoff = compare_plot(\"abs(eta_lj)\",\n",
      "    [20, 0, 5],\n",
      "    \"pu_weight*muon_IDWeight*muon_IsoWeight\",\n",
      "    Cuts.mu*Cuts.n_jets(2)*Cuts.n_tags(1),\n",
      "    x_label=\"|#eta_{lj}|\"\n",
      ")\n",
      "show_canv(ret_etalj_bwoff[0])"
     ],
     "language": "python",
     "metadata": {},
     "outputs": []
    },
    {
     "cell_type": "code",
     "collapsed": false,
     "input": [
      "ret_etalj_bwon = compare_plot(\"abs(eta_lj)\",\n",
      "    [20, 0, 5],\n",
      "    \"pu_weight*b_weight_nominal*muon_IDWeight*muon_IsoWeight\",\n",
      "    Cuts.mu*Cuts.n_jets(2)*Cuts.n_tags(1),\n",
      "    x_label=\"|#eta_{lj}|\"\n",
      ")\n",
      "show_canv(ret_etalj_bwon[0])"
     ],
     "language": "python",
     "metadata": {},
     "outputs": []
    },
    {
     "cell_type": "heading",
     "level": 3,
     "metadata": {},
     "source": [
      "top mass in 2J1T, |eta_lj|>2.5"
     ]
    },
    {
     "cell_type": "code",
     "collapsed": false,
     "input": [
      "ret = compare_plot(\"top_mass\",\n",
      "    [20, 100, 300],\n",
      "    \"pu_weight*b_weight_nominal*muon_IDWeight*muon_IsoWeight\",\n",
      "    Cuts.mu*Cuts.n_jets(2)*Cuts.n_tags(1)*Cuts.eta_lj,\n",
      "    qcd_yield=341.0,\n",
      "    x_label=\"M_{bl#nu} [GeV]\"\n",
      ")\n",
      "show_canv(ret[0])"
     ],
     "language": "python",
     "metadata": {},
     "outputs": []
    },
    {
     "cell_type": "heading",
     "level": 3,
     "metadata": {},
     "source": [
      "light jet eta in final selection"
     ]
    },
    {
     "cell_type": "heading",
     "level": 4,
     "metadata": {},
     "source": [
      "without b weight"
     ]
    },
    {
     "cell_type": "code",
     "collapsed": false,
     "input": [
      "ret_etalj_fsel_bwoff = compare_plot(\"abs(eta_lj)\",\n",
      "    [20, 2.5, 5.0],\n",
      "    \"pu_weight*muon_IDWeight*muon_IsoWeight\",\n",
      "    Cuts.hlt_isomu*Cuts.one_muon*Cuts.final,\n",
      "    x_label=\"|#eta_{lj}|\"\n",
      ")\n",
      "show_canv(ret_etalj_fsel_bwoff[0]);"
     ],
     "language": "python",
     "metadata": {},
     "outputs": []
    },
    {
     "cell_type": "heading",
     "level": 4,
     "metadata": {},
     "source": [
      "with b weight"
     ]
    },
    {
     "cell_type": "code",
     "collapsed": false,
     "input": [
      "ret_etalj_fsel_bwon = compare_plot(\"abs(eta_lj)\",\n",
      "    [20, 2.5, 5.0],\n",
      "    \"pu_weight*b_weight_nominal*muon_IDWeight*muon_IsoWeight\",\n",
      "    Cuts.mu*Cuts.final,\n",
      "    qcd_yield=229.4,\n",
      "    x_label=\"|#eta_{lj}|\"\n",
      ")\n",
      "show_canv(ret_etalj_fsel_bwon[0])"
     ],
     "language": "python",
     "metadata": {},
     "outputs": []
    },
    {
     "cell_type": "heading",
     "level": 2,
     "metadata": {},
     "source": [
      "Final selection control plots"
     ]
    },
    {
     "cell_type": "code",
     "collapsed": true,
     "input": [
      "ret = compare_plot(\"cos_theta\",\n",
      "    [20, -1, 1],\n",
      "    \"pu_weight*b_weight_nominal*muon_IDWeight*muon_IsoWeight\",\n",
      "    Cuts.mu*Cuts.final,\n",
      "    qcd_yield=229.4,\n",
      "    x_label=\"cos #theta\"\n",
      ")\n",
      "show_canv(ret[0])"
     ],
     "language": "python",
     "metadata": {},
     "outputs": []
    },
    {
     "cell_type": "code",
     "collapsed": false,
     "input": [
      "ret = compare_plot(\"pt_bj\",\n",
      "    [20, 40, 150],\n",
      "    \"pu_weight*b_weight_nominal*muon_IDWeight*muon_IsoWeight\",\n",
      "    Cuts.mu*Cuts.final,\n",
      "    qcd_yield=229.4,\n",
      "    x_label=\"p_{t}(bj) [GeV]\"\n",
      ")\n",
      "show_canv(ret[0])"
     ],
     "language": "python",
     "metadata": {},
     "outputs": []
    },
    {
     "cell_type": "code",
     "collapsed": false,
     "input": [
      "ret = compare_plot(\"pt_lj\",\n",
      "    [20, 40, 150],\n",
      "    \"pu_weight*b_weight_nominal*muon_IDWeight*muon_IsoWeight\",\n",
      "    Cuts.mu*Cuts.final,\n",
      "    qcd_yield=229.4,\n",
      "    x_label=\"p_{t}(lj) [GeV]\"\n",
      ")\n",
      "show_canv(ret[0])"
     ],
     "language": "python",
     "metadata": {},
     "outputs": []
    },
    {
     "cell_type": "code",
     "collapsed": false,
     "input": [
      "ret = compare_plot(\"mu_pt\",\n",
      "    [20, 20, 150],\n",
      "    \"pu_weight*b_weight_nominal*muon_IDWeight*muon_IsoWeight\",\n",
      "    Cuts.mu*Cuts.final,\n",
      "    qcd_yield=229.4,\n",
      "    x_label=\"p_{t}(#mu) [GeV]\"\n",
      ")\n",
      "show_canv(ret[0])"
     ],
     "language": "python",
     "metadata": {},
     "outputs": []
    },
    {
     "cell_type": "heading",
     "level": 3,
     "metadata": {},
     "source": [
      "Comparing b-weight on/off in loose selection region"
     ]
    },
    {
     "cell_type": "code",
     "collapsed": false,
     "input": [
      "doNorm = False #normalize mc histograms to data count (compare shape only)\n",
      "\n",
      "data_bwoff = get_stack_total_hist(ret_etalj_bwoff[1][\"data\"])\n",
      "data_bwoff.SetTitle(\"Data\")\n",
      "mc_bwoff = get_stack_total_hist(ret_etalj_bwoff[1][\"mc\"])\n",
      "mc_bwoff.SetTitle(\"MC\")\n",
      "mc_bwon = get_stack_total_hist(ret_etalj_bwon[1][\"mc\"])\n",
      "mc_bwon.SetTitle(\"MC (b-weighted)\")\n",
      "\n",
      "canv = ROOT.TCanvas()\n",
      "if doNorm:\n",
      "    mc_bwoff.Scale(data_bwoff.Integral()/mc_bwoff.Integral())\n",
      "    mc_bwon.Scale(data_bwoff.Integral()/mc_bwon.Integral())\n",
      "Styling.data_style(data_bwoff)\n",
      "\n",
      "mc_bwoff.SetFillColor(ROOT.kWhite)\n",
      "mc_bwon.SetFillColor(ROOT.kWhite)\n",
      "mc_bwoff.SetLineColor(ROOT.kRed)\n",
      "mc_bwon.SetLineColor(ROOT.kBlue)\n",
      "\n",
      "data_bwoff.Draw(\"E1\")\n",
      "data_bwoff.GetXaxis().SetTitle(\"|#eta_{lj}|\")\n",
      "mc_bwoff.Draw(\"H1 SAME\")\n",
      "mc_bwon.Draw(\"H1 SAME\")\n",
      "\n",
      "leg = legend([data_bwoff, mc_bwon, mc_bwoff], width=0.3)\n",
      "show_canv(canv)"
     ],
     "language": "python",
     "metadata": {},
     "outputs": []
    },
    {
     "cell_type": "heading",
     "level": 3,
     "metadata": {},
     "source": [
      "b weight effect in tight selection"
     ]
    },
    {
     "cell_type": "code",
     "collapsed": false,
     "input": [
      "doNorm = False #normalize mc histograms to data count (compare shape only)\n",
      "\n",
      "data_bwoff = get_stack_total_hist(ret_etalj_fsel_bwoff[1][\"data\"])\n",
      "data_bwoff.SetTitle(\"Data\")\n",
      "mc_bwoff = get_stack_total_hist(ret_etalj_fsel_bwoff[1][\"mc\"])\n",
      "mc_bwoff.SetTitle(\"MC\")\n",
      "mc_bwon = get_stack_total_hist(ret_etalj_fsel_bwon[1][\"mc\"])\n",
      "mc_bwon.SetTitle(\"MC (b-weighted)\")\n",
      "\n",
      "canv = ROOT.TCanvas()\n",
      "if doNorm:\n",
      "    mc_bwoff.Scale(data_bwoff.Integral()/mc_bwoff.Integral())\n",
      "    mc_bwon.Scale(data_bwoff.Integral()/mc_bwon.Integral())\n",
      "Styling.data_style(data_bwoff)\n",
      "\n",
      "mc_bwoff.SetFillColor(ROOT.kWhite)\n",
      "mc_bwon.SetFillColor(ROOT.kWhite)\n",
      "mc_bwoff.SetLineColor(ROOT.kRed)\n",
      "mc_bwon.SetLineColor(ROOT.kBlue)\n",
      "\n",
      "data_bwoff.Draw(\"E1\")\n",
      "data_bwoff.GetXaxis().SetTitle(\"|#eta_{lj}|\")\n",
      "data_bwoff.GetYaxis().SetRangeUser(0,1300)\n",
      "mc_bwoff.Draw(\"H1 SAME\")\n",
      "mc_bwon.Draw(\"H1 SAME\")\n",
      "\n",
      "leg = legend([data_bwoff, mc_bwon, mc_bwoff], width=0.3)\n",
      "show_canv(canv)"
     ],
     "language": "python",
     "metadata": {},
     "outputs": []
    },
    {
     "cell_type": "code",
     "collapsed": false,
     "input": [
      "ret_etalj_fsel_bwon = compare_plot(\"abs(eta_lj)\",\n",
      "    [20, 0, 5.0],\n",
      "    \"pu_weight*b_weight_nominal*muon_IDWeight*muon_IsoWeight\",\n",
      "    Cuts.mu*Cuts.n_jets(3)*Cuts.n_tags(2)*Cuts.mt_mu*Cuts.rms_lj*Cuts.top_mass_sig,\n",
      "    x_label=\"|#eta_{lj}|\"\n",
      ")\n",
      "show_canv(ret_etalj_fsel_bwon[0])"
     ],
     "language": "python",
     "metadata": {},
     "outputs": []
    },
    {
     "cell_type": "code",
     "collapsed": false,
     "input": [
      "Cuts.final"
     ],
     "language": "python",
     "metadata": {},
     "outputs": []
    },
    {
     "cell_type": "code",
     "collapsed": false,
     "input": [
      "Cuts.rms_lj*Cuts.mt_mu*Cuts.n_jets(2)*Cuts.n_tags(1)*Cuts.eta_lj"
     ],
     "language": "python",
     "metadata": {},
     "outputs": []
    },
    {
     "cell_type": "code",
     "collapsed": false,
     "input": [
      "str(Cuts.mu*Cuts.final)"
     ],
     "language": "python",
     "metadata": {},
     "outputs": []
    },
    {
     "cell_type": "code",
     "collapsed": false,
     "input": [],
     "language": "python",
     "metadata": {},
     "outputs": []
    }
   ],
   "metadata": {}
  }
 ]
}