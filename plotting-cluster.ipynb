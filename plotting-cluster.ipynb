{
 "metadata": {
  "name": "plotting-cluster"
 },
 "nbformat": 3,
 "nbformat_minor": 0,
 "worksheets": [
  {
   "cells": [
    {
     "cell_type": "code",
     "collapsed": false,
     "input": [
      "from clusterpy.util import *\n",
      "from clusterpy.magics import *\n",
      "import ROOT\n",
      "dview = cluster_setup()"
     ],
     "language": "python",
     "metadata": {},
     "outputs": [
      {
       "output_type": "stream",
       "stream": "stdout",
       "text": [
        "Got 16 engines\n"
       ]
      }
     ],
     "prompt_number": 1
    },
    {
     "cell_type": "code",
     "collapsed": false,
     "input": [
      "%%pxlocal\n",
      "def setenv():\n",
      "    !source ~/builds/root/bin/thisroot.sh #Configure own ROOT\n",
      "setenv()"
     ],
     "language": "python",
     "metadata": {},
     "outputs": [],
     "prompt_number": 2
    },
    {
     "cell_type": "code",
     "collapsed": false,
     "input": [
      "%%pxlocal\n",
      "cd ~/singletop/stpol/"
     ],
     "language": "python",
     "metadata": {},
     "outputs": [
      {
       "output_type": "stream",
       "stream": "stdout",
       "text": [
        "[stdout:0] /home/joosep/singletop/stpol\n"
       ]
      },
      {
       "output_type": "stream",
       "stream": "stdout",
       "text": [
        "[stdout:1] /home/joosep/singletop/stpol\n",
        "[stdout:2] /home/joosep/singletop/stpol\n",
        "[stdout:3] /home/joosep/singletop/stpol\n",
        "[stdout:4] /home/joosep/singletop/stpol\n",
        "[stdout:5] /home/joosep/singletop/stpol\n",
        "[stdout:6] /home/joosep/singletop/stpol\n",
        "[stdout:7] /home/joosep/singletop/stpol\n",
        "[stdout:8] /home/joosep/singletop/stpol\n",
        "[stdout:9] /home/joosep/singletop/stpol\n",
        "[stdout:10] /home/joosep/singletop/stpol\n",
        "[stdout:11] /home/joosep/singletop/stpol\n",
        "[stdout:12] /home/joosep/singletop/stpol\n",
        "[stdout:13] /home/joosep/singletop/stpol\n",
        "[stdout:14] /home/joosep/singletop/stpol\n",
        "[stdout:15] /home/joosep/singletop/stpol\n",
        "/home/joosep/singletop/stpol\n"
       ]
      }
     ],
     "prompt_number": 3
    },
    {
     "cell_type": "code",
     "collapsed": false,
     "input": [
      "%%pxlocal\n",
      "import ROOT\n",
      "import plots\n",
      "from plots.project_histos import Sample, Cuts, Cut"
     ],
     "language": "python",
     "metadata": {},
     "outputs": [],
     "prompt_number": 4
    },
    {
     "cell_type": "code",
     "collapsed": false,
     "input": [
      "%%pxlocal\n",
      "def drawHisto(args):\n",
      "    from plots.project_histos import Sample\n",
      "    samp = Sample.fromFile(args[\"filename\"])\n",
      "    return samp.drawHistogram(args[\"var\"], str(args[\"cut\"]), weight=args[\"weight\"], plot_range=args[\"plot_range\"])"
     ],
     "language": "python",
     "metadata": {},
     "outputs": [],
     "prompt_number": 5
    },
    {
     "cell_type": "code",
     "collapsed": false,
     "input": [
      "import glob\n",
      "indir = \"/home/joosep/singletop/stpol/out_step3_05_07_14_19\"\n",
      "#indir = \"/scratch/joosep/out_step3_05_07_14_19\"\n",
      "iso_mc_fnames = glob.glob(\"%s/iso/mc/*.root\" % indir)\n",
      "iso_data_fnames = glob.glob(\"%s/iso/data/*.root\" % indir)\n",
      "aiso_data_fnames = glob.glob(\"%s/anti-iso/data/*.root\" % indir)\n",
      "#samples_mc = map(Sample.fromFile, iso_mc_fnames)\n",
      "#samples_data = map(Sample.fromFile, iso_data_fnames)"
     ],
     "language": "python",
     "metadata": {},
     "outputs": [],
     "prompt_number": 6
    },
    {
     "cell_type": "code",
     "collapsed": false,
     "input": [
      "def get_stack_total_hist(thstack):\n",
      "    hists = [h for h in thstack.GetHists()]\n",
      "    hnew = hists[0].Clone(thstack.GetName())\n",
      "    for h in hists[1:]:\n",
      "        hnew.Add(h)\n",
      "    return hnew"
     ],
     "language": "python",
     "metadata": {},
     "outputs": [],
     "prompt_number": 7
    },
    {
     "cell_type": "code",
     "collapsed": false,
     "input": [
      "lumi_total=19361\n",
      "from plots.common.utils import merge_cmds, merge_hists\n",
      "from plots.common.sample_style import Styling\n",
      "from plots.common.legend import legend\n",
      "from plots.common.tdrstyle import tdrstyle\n",
      "from plots.common.odict import OrderedDict as dict\n",
      "from plots.common.utils import lumi_textbox\n",
      "from plots.common.stack_plot import plot_hists_stacked\n",
      "tdrstyle()\n",
      "import copy\n",
      "\n",
      "def get_hist_int_err(hist):\n",
      "    err = ROOT.Double()\n",
      "    integral = hist.IntegralAndError(1, hist.GetNbinsX(), err)\n",
      "    return (float(integral), float(err))\n",
      "\n",
      "def compare_plot(var, plot_range, weight, cut, do_parallel=True, do_qcd_mc=False, qcd_yield=None, do_tchan_exclusive=True, **kwargs):\n",
      "    \n",
      "    #a dictionary with sample name: th1f\n",
      "    histsD = dict()\n",
      "    \n",
      "    #premake lists of argument dicts to pass to mapping function\n",
      "    args_mc = [{\"filename\": x, \"var\": var, \"plot_range\":plot_range, \"weight\":weight, \"cut\":cut} for x in iso_mc_fnames]\n",
      "    args_d = [{\"filename\": x, \"var\": var, \"plot_range\":plot_range, \"weight\":weight, \"cut\":cut} for x in iso_data_fnames]\n",
      "    args_d_aiso = [{\"filename\": x, \"var\": var, \"plot_range\":plot_range, \"weight\":weight, \"cut\":cut} for x in aiso_data_fnames]\n",
      "    \n",
      "    if do_parallel:\n",
      "        dview.block = False\n",
      "        asyncres = dict()\n",
      "        asyncres[\"mc_iso\"] = dview.map_async(drawHisto, args_mc)\n",
      "        asyncres[\"data_iso\"] = dview.map_async(drawHisto, args_d)\n",
      "        if not do_qcd_mc:\n",
      "            asyncres[\"data_aiso\"] = dview.map_async(drawHisto, args_d_aiso)\n",
      "        dview.wait(tuple(asyncres.values()))\n",
      "        histos_mc = asyncres[\"mc_iso\"].get()\n",
      "        histos_data = asyncres[\"data_iso\"].get()\n",
      "        if not do_qcd_mc:\n",
      "            hists_d_aiso = asyncres[\"data_aiso\"].get()\n",
      "    else:\n",
      "        histos_mc = map(drawHisto, args_mc)\n",
      "        histos_data = map(drawHisto, args_data)\n",
      "        if not do_qcd_mc:\n",
      "            hists_d_aiso = map(drawHisto, args_d_aiso)\n",
      "\n",
      "    #need to normalize unmerged hists\n",
      "    for hist in histos_mc:\n",
      "        hist.normalize_lumi(lumi_total)\n",
      "        Styling.mc_style(hist.hist, hist.sample_name)\n",
      "    \n",
      "    #get rid of Histogram type object, use TH1F\n",
      "    for hist in histos_mc + histos_data:\n",
      "        histsD[hist.sample_name] = hist.hist\n",
      "    \n",
      "    for hist in histos_data:\n",
      "        Styling.data_style(hist.hist)\n",
      "\n",
      "\n",
      "    merge_cmd = copy.deepcopy(merge_cmds)\n",
      "    if do_qcd_mc:\n",
      "        merge_cmd[\"QCD (MC)\"] = [\"QCDMu\"]\n",
      "    if do_tchan_exclusive:\n",
      "        merge_cmd[\"t-channel\"] = [\"T_t_ToLeptons\", \"Tbar_t_ToLeptons\"]\n",
      "    merged_hists = merge_hists(histsD, merge_cmd)\n",
      "\n",
      "    stack = dict()\n",
      "    stack[\"mc\"] = [merged_hists[name] for name in merged_hists.keys() if name!=\"data\"]\n",
      "    stack[\"data\"] = [merged_hists[\"data\"]]\n",
      "    \n",
      "    if not do_qcd_mc:\n",
      "        #hists_d_aiso = dview.map_sync(drawHisto, args_d_aiso)\n",
      "        if not len(hists_d_aiso)>0:\n",
      "            raise Exception(\"Could not find any anti-iso distributions\") \n",
      "        hist_qcd = hists_d_aiso[0].hist.Clone(\"hist_qcd\")\n",
      "        hist_qcd.SetTitle(\"QCD\")\n",
      "        for h in hists_d_aiso[1:]:\n",
      "            hist_qcd.Add(h.hist)\n",
      "        if qcd_yield>0:\n",
      "            hist_qcd.Scale(qcd_yield/hist_qcd.Integral())\n",
      "        else:\n",
      "            hist_qcd.Scale(histsD[\"QCDMu\"].Integral()/hist_qcd.Integral())\n",
      "        print hist_qcd.Integral()\n",
      "        Styling.mc_style(hist_qcd, \"QCDMu\")\n",
      "    stack[\"mc\"].append(hist_qcd)\n",
      "    \n",
      "    print \"mc yields\"\n",
      "    for h in stack[\"mc\"]:\n",
      "        print \"%s : %s\" % (h.GetTitle(), get_hist_int_err(h))\n",
      "    \n",
      "    print \"data yield\"\n",
      "    for h in stack[\"data\"]:\n",
      "        print \"%s : %s\" % (h.GetTitle(), get_hist_int_err(h))\n",
      "            \n",
      "    canv = ROOT.TCanvas()\n",
      "    stacks = plot_hists_stacked(\n",
      "            canv,\n",
      "            stack,\n",
      "            draw_styles={\"data\": \"E1\"},\n",
      "            **kwargs\n",
      "    )\n",
      "    total_mc = get_stack_total_hist(stacks[\"mc\"])\n",
      "    print \"total mc: %s\"%str(get_hist_int_err(total_mc))\n",
      "    #Here the MC must be reversed\n",
      "    leg = legend(stack[\"data\"] + stack[\"mc\"][::-1], styles=[\"p\", \"f\"])\n",
      "    lumib = lumi_textbox(lumi_total)\n",
      "    \n",
      "    return show_canv(canv)"
     ],
     "language": "python",
     "metadata": {},
     "outputs": [],
     "prompt_number": 8
    },
    {
     "cell_type": "heading",
     "level": 2,
     "metadata": {},
     "source": [
      "Control plots in muon channel"
     ]
    },
    {
     "cell_type": "code",
     "collapsed": false,
     "input": [
      "compare_plot(\"mu_pt\",\n",
      "    [20, 10, 150],\n",
      "    #\"pu_weight*b_weight_nominal*muon_IDWeight*muon_IsoWeight\",\n",
      "    \"pu_weight*muon_IDWeight*muon_IsoWeight\",\n",
      "    Cuts.mu,\n",
      "    x_label=\"p_{t}(#mu) [GeV]\",\n",
      "    do_log_y=True,\n",
      "    max_bin_mult=100.0\n",
      ")"
     ],
     "language": "python",
     "metadata": {},
     "outputs": []
    },
    {
     "cell_type": "code",
     "collapsed": false,
     "input": [
      "compare_plot(\"mt_mu\",\n",
      "    [20, 0, 150],\n",
      "    \"pu_weight*muon_IDWeight*muon_IsoWeight\",\n",
      "    Cuts.mu,\n",
      "    x_label=\"M_{t}(W) [GeV]\"\n",
      ")"
     ],
     "language": "python",
     "metadata": {},
     "outputs": []
    },
    {
     "cell_type": "code",
     "collapsed": false,
     "input": [
      "compare_plot(\"abs(eta_lj)\",\n",
      "    [20, 0, 5],\n",
      "    \"pu_weight*muon_IDWeight*muon_IsoWeight\",\n",
      "    Cuts.mu*Cuts.n_jets(2)*Cuts.n_tags(0),\n",
      "    x_label=\"|#eta_{lj}|\"\n",
      ")"
     ],
     "language": "python",
     "metadata": {},
     "outputs": [],
     "prompt_number": "*"
    },
    {
     "cell_type": "code",
     "collapsed": false,
     "input": [
      "compare_plot(\"abs(eta_lj)\",\n",
      "    [20, 0, 5],\n",
      "    \"pu_weight*muon_IDWeight*muon_IsoWeight\",\n",
      "    Cuts.mu*Cuts.n_jets(3)*Cuts.n_tags(1),\n",
      "    x_label=\"|#eta_{lj}|\"\n",
      ")"
     ],
     "language": "python",
     "metadata": {},
     "outputs": [],
     "prompt_number": "*"
    },
    {
     "cell_type": "heading",
     "level": 3,
     "metadata": {},
     "source": [
      "top mass in 2J1T, |eta_lj|>2.5"
     ]
    },
    {
     "cell_type": "code",
     "collapsed": false,
     "input": [
      "compare_plot(\"top_mass\",\n",
      "    [20, 100, 300],\n",
      "    \"pu_weight*muon_IDWeight*muon_IsoWeight\",\n",
      "    Cuts.mu*Cuts.n_jets(2)*Cuts.n_tags(1)*Cuts.eta_lj,\n",
      "    qcd_yield=341.0,\n",
      "    x_label=\"M_{bl#nu} [GeV]\"\n",
      ")"
     ],
     "language": "python",
     "metadata": {},
     "outputs": [],
     "prompt_number": "*"
    },
    {
     "cell_type": "heading",
     "level": 3,
     "metadata": {},
     "source": [
      "light jet eta in final selection"
     ]
    },
    {
     "cell_type": "heading",
     "level": 4,
     "metadata": {},
     "source": [
      "Comparing t-channel inclusive and exclusive sample"
     ]
    },
    {
     "cell_type": "code",
     "collapsed": false,
     "input": [
      "compare_plot(\"abs(eta_lj)\",\n",
      "    [20, 2.5, 5.0],\n",
      "    \"pu_weight*b_weight_nominal*muon_IDWeight*muon_IsoWeight\",\n",
      "    Cuts.mu*Cuts.final,\n",
      "    qcd_yield=229.4,\n",
      "    do_tchan_exclusive=True,\n",
      "    x_label=\"|#eta_{lj}|\"\n",
      ")"
     ],
     "language": "python",
     "metadata": {},
     "outputs": [
      {
       "output_type": "stream",
       "stream": "stdout",
       "text": [
        "229.40000245\n",
        "mc yields\n",
<<<<<<< HEAD
        "diboson : (13.055111997760832, 1.0200174254509031)\n",
        "W(#rightarrow l #nu) + jets : (702.3518581688404, 33.8177919119737)\n",
        "DY-jets : (82.67658805847168, 16.724420452235066)\n",
        "t#bar{t} : (1002.7521414160728, 6.813371535464653)\n",
        "tW-channel : (110.10180795192719, 7.115609242138984)\n",
        "s-channel : (27.405168771743774, 2.9028604024271476)\n",
        "t-channel : (2078.059108734131, 18.534837028318837)\n",
        "QCD : (229.4000024497509, 6.294980310408742)\n",
        "data yield\n",
        "data : (4644.0, 68.14690014960328)\n",
        "total mc: (4245.801863670349, 43.73828083808006)\n"
=======
        "diboson : (13.78523231483996, 1.0764638506717814)\n",
        "W(#rightarrow l #nu) + jets : (744.2984326183796, 35.57867201866205)\n",
        "DY-jets : (89.39233565330505, 18.11408276440167)\n",
        "t#bar{t} : (1061.8758592903614, 7.213871969482415)\n",
        "tW-channel : (118.33899658918381, 7.643246423086479)\n",
        "s-channel : (27.83351907134056, 2.950642393178851)\n",
        "t-channel : (2249.2884180545807, 20.055964473656974)\n",
        "QCD : (229.4000024497509, 6.294980310408742)\n",
        "data yield\n",
        "data : (4644.0, 68.14690014960328)\n",
        "total mc: (4534.212745666504, 46.43441196692899)"
       ]
      },
      {
       "output_type": "stream",
       "stream": "stdout",
       "text": [
        "\n"
>>>>>>> cleanup
       ]
      },
      {
       "output_type": "pyout",
<<<<<<< HEAD
       "png": "iVBORw0KGgoAAAANSUhEUgAAArgAAAKgCAIAAAD/J5mOAAAABmJLR0QAAAAAAAD5Q7t/AAAgAElE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\nNAIFAABgRY4CAACw+v9Pa0ULuvKW2QAAAABJRU5ErkJggg==\n",
       "prompt_number": 16,
       "text": [
        "<IPython.core.display.Image at 0x7f36ed396050>"
       ]
      }
     ],
     "prompt_number": 16
=======
       "png": "iVBORw0KGgoAAAANSUhEUgAAArgAAAKgCAIAAAD/J5mOAAAABmJLR0QAAAAAAAD5Q7t/AAAgAElE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\nriRJWooPDAIFAADgRB8FAADg9P8BCO3yNg2C9ZsAAAAASUVORK5CYII=\n",
       "prompt_number": 9,
       "text": [
        "<IPython.core.display.Image at 0x7f36ed591150>"
       ]
      }
     ],
     "prompt_number": "*"
>>>>>>> cleanup
    },
    {
     "cell_type": "code",
     "collapsed": false,
     "input": [
      "compare_plot(\"abs(eta_lj)\",\n",
      "    [20, 2.5, 5.0],\n",
      "    \"pu_weight*b_weight_nominal*muon_IDWeight*muon_IsoWeight\",\n",
      "    Cuts.mu*Cuts.final,\n",
      "    qcd_yield=229.4,\n",
      "    do_tchan_exclusive=False,\n",
      "    x_label=\"|#eta_{lj}|\"\n",
      ")"
     ],
     "language": "python",
     "metadata": {},
     "outputs": [
      {
       "output_type": "stream",
       "stream": "stdout",
       "text": [
        "229.40000245\n",
        "mc yields\n",
        "diboson : (13.055111997760832, 1.0200174254509031)\n",
        "W(#rightarrow l #nu) + jets : (702.3518581688404, 33.8177919119737)\n",
        "DY-jets : (82.67658805847168, 16.724420452235066)\n",
        "t#bar{t} : (1002.7521414160728, 6.813371535464653)\n",
        "tW-channel : (110.10180795192719, 7.115609242138984)\n",
        "s-channel : (27.405168771743774, 2.9028604024271476)\n",
        "t-channel : (2293.3498916625977, 26.865392678124806)\n",
        "QCD : (229.4000024497509, 6.294980310408742)\n",
        "data yield\n",
        "data : (4644.0, 68.14690014960328)\n",
        "total mc: (4461.092715263367, 47.866965129975235)"
       ]
      },
      {
       "output_type": "stream",
       "stream": "stdout",
       "text": [
        "\n"
       ]
      },
      {
       "output_type": "pyout",
       "png": "iVBORw0KGgoAAAANSUhEUgAAArgAAAKgCAIAAAD/J5mOAAAABmJLR0QAAAAAAAD5Q7t/AAAgAElE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\nAAAASUVORK5CYII=\n",
       "prompt_number": 17,
       "text": [
        "<IPython.core.display.Image at 0x7f36ed592f10>"
       ]
      }
     ],
     "prompt_number": 17
    },
    {
     "cell_type": "heading",
     "level": 2,
     "metadata": {},
     "source": [
      "Final selection control plots"
     ]
    },
    {
     "cell_type": "code",
     "collapsed": true,
     "input": [
      "compare_plot(\"cos_theta\",\n",
      "    [20, -1, 1],\n",
      "    \"pu_weight*muon_IDWeight*muon_IsoWeight\",\n",
      "    Cuts.mu*Cuts.final,\n",
      "    qcd_yield=229.4,\n",
      "    x_label=\"cos #theta\"\n",
      ")"
     ],
     "language": "python",
     "metadata": {},
     "outputs": [],
     "prompt_number": "*"
    },
    {
     "cell_type": "code",
     "collapsed": false,
     "input": [
      "compare_plot(\"pt_bj\",\n",
      "    [20, 40, 150],\n",
      "    \"pu_weight*muon_IDWeight*muon_IsoWeight\",\n",
      "    Cuts.mu*Cuts.final,\n",
      "    qcd_yield=229.4,\n",
      "    x_label=\"p_{t}(bj) [GeV]\"\n",
      ")"
     ],
     "language": "python",
     "metadata": {},
     "outputs": [],
     "prompt_number": "*"
    },
    {
     "cell_type": "code",
     "collapsed": false,
     "input": [
      "compare_plot(\"pt_lj\",\n",
      "    [20, 40, 150],\n",
      "    \"pu_weight*muon_IDWeight*muon_IsoWeight\",\n",
      "    Cuts.mu*Cuts.final,\n",
      "    qcd_yield=229.4,\n",
      "    x_label=\"p_{t}(lj) [GeV]\"\n",
      ")"
     ],
     "language": "python",
     "metadata": {},
     "outputs": [],
     "prompt_number": "*"
    },
    {
     "cell_type": "code",
     "collapsed": false,
     "input": [
      "compare_plot(\"mu_pt\",\n",
      "    [20, 20, 150],\n",
      "    \"pu_weight*muon_IDWeight*muon_IsoWeight\",\n",
      "    Cuts.mu*Cuts.final,\n",
      "    qcd_yield=229.4,\n",
      "    x_label=\"p_{t}(#mu) [GeV]\"\n",
      ")"
     ],
     "language": "python",
     "metadata": {},
     "outputs": [],
     "prompt_number": "*"
    },
    {
     "cell_type": "heading",
     "level": 3,
     "metadata": {},
     "source": [
      "Comparing b-weight on/off in loose selection region"
     ]
    },
    {
     "cell_type": "code",
     "collapsed": false,
     "input": [
      "doNorm = False #normalize mc histograms to data count (compare shape only)\n",
      "\n",
      "data_bwoff = get_stack_total_hist(ret_etalj_bwoff[1][\"data\"])\n",
      "data_bwoff.SetTitle(\"Data\")\n",
      "mc_bwoff = get_stack_total_hist(ret_etalj_bwoff[1][\"mc\"])\n",
      "mc_bwoff.SetTitle(\"MC\")\n",
      "mc_bwon = get_stack_total_hist(ret_etalj_bwon[1][\"mc\"])\n",
      "mc_bwon.SetTitle(\"MC (b-weighted)\")\n",
      "\n",
      "canv = ROOT.TCanvas()\n",
      "if doNorm:\n",
      "    mc_bwoff.Scale(data_bwoff.Integral()/mc_bwoff.Integral())\n",
      "    mc_bwon.Scale(data_bwoff.Integral()/mc_bwon.Integral())\n",
      "Styling.data_style(data_bwoff)\n",
      "\n",
      "mc_bwoff.SetFillColor(ROOT.kWhite)\n",
      "mc_bwon.SetFillColor(ROOT.kWhite)\n",
      "mc_bwoff.SetLineColor(ROOT.kRed)\n",
      "mc_bwon.SetLineColor(ROOT.kBlue)\n",
      "\n",
      "data_bwoff.Draw(\"E1\")\n",
      "data_bwoff.GetXaxis().SetTitle(\"|#eta_{lj}|\")\n",
      "mc_bwoff.Draw(\"H1 SAME\")\n",
      "mc_bwon.Draw(\"H1 SAME\")\n",
      "\n",
      "leg = legend([data_bwoff, mc_bwon, mc_bwoff], width=0.3)\n",
      "show_canv(canv)"
     ],
     "language": "python",
     "metadata": {},
     "outputs": []
    },
    {
     "cell_type": "heading",
     "level": 3,
     "metadata": {},
     "source": [
      "b weight effect in tight selection"
     ]
    },
    {
     "cell_type": "code",
     "collapsed": false,
     "input": [
      "doNorm = False #normalize mc histograms to data count (compare shape only)\n",
      "\n",
      "data_bwoff = get_stack_total_hist(ret_etalj_fsel_bwoff[1][\"data\"])\n",
      "data_bwoff.SetTitle(\"Data\")\n",
      "mc_bwoff = get_stack_total_hist(ret_etalj_fsel_bwoff[1][\"mc\"])\n",
      "mc_bwoff.SetTitle(\"MC\")\n",
      "mc_bwon = get_stack_total_hist(ret_etalj_fsel_bwon[1][\"mc\"])\n",
      "mc_bwon.SetTitle(\"MC (b-weighted)\")\n",
      "\n",
      "canv = ROOT.TCanvas()\n",
      "if doNorm:\n",
      "    mc_bwoff.Scale(data_bwoff.Integral()/mc_bwoff.Integral())\n",
      "    mc_bwon.Scale(data_bwoff.Integral()/mc_bwon.Integral())\n",
      "Styling.data_style(data_bwoff)\n",
      "\n",
      "mc_bwoff.SetFillColor(ROOT.kWhite)\n",
      "mc_bwon.SetFillColor(ROOT.kWhite)\n",
      "mc_bwoff.SetLineColor(ROOT.kRed)\n",
      "mc_bwon.SetLineColor(ROOT.kBlue)\n",
      "\n",
      "data_bwoff.Draw(\"E1\")\n",
      "data_bwoff.GetXaxis().SetTitle(\"|#eta_{lj}|\")\n",
      "data_bwoff.GetYaxis().SetRangeUser(0,1300)\n",
      "mc_bwoff.Draw(\"H1 SAME\")\n",
      "mc_bwon.Draw(\"H1 SAME\")\n",
      "\n",
      "leg = legend([data_bwoff, mc_bwon, mc_bwoff], width=0.3)\n",
      "show_canv(canv)"
     ],
     "language": "python",
     "metadata": {},
     "outputs": []
    },
    {
     "cell_type": "code",
     "collapsed": false,
     "input": [
      "ret_etalj_fsel_bwon = compare_plot(\"abs(eta_lj)\",\n",
      "    [20, 0, 5.0],\n",
      "    \"pu_weight*b_weight_nominal*muon_IDWeight*muon_IsoWeight\",\n",
      "    Cuts.mu*Cuts.n_jets(3)*Cuts.n_tags(2)*Cuts.mt_mu*Cuts.rms_lj*Cuts.top_mass_sig,\n",
      "    x_label=\"|#eta_{lj}|\"\n",
      ")\n",
      "show_canv(ret_etalj_fsel_bwon[0])"
     ],
     "language": "python",
     "metadata": {},
     "outputs": []
    },
    {
     "cell_type": "code",
     "collapsed": false,
     "input": [
      "Cuts.final"
     ],
     "language": "python",
     "metadata": {},
     "outputs": []
    },
    {
     "cell_type": "code",
     "collapsed": false,
     "input": [
      "Cuts.rms_lj*Cuts.mt_mu*Cuts.n_jets(2)*Cuts.n_tags(1)*Cuts.eta_lj"
     ],
     "language": "python",
     "metadata": {},
     "outputs": []
    },
    {
     "cell_type": "code",
     "collapsed": false,
     "input": [
      "str(Cuts.mu*Cuts.final)"
     ],
     "language": "python",
     "metadata": {},
     "outputs": []
    },
    {
     "cell_type": "code",
     "collapsed": false,
     "input": [
      "def f(x):\n",
      "    import time\n",
      "    time.sleep(0.5)\n",
      "    return x**2\n",
      "ret1 = dview.map_async(f, range(8))\n",
      "ret2 = dview.map_async(f, range(8,16))"
     ],
     "language": "python",
     "metadata": {},
     "outputs": []
    },
    {
     "cell_type": "code",
     "collapsed": false,
     "input": [
      "dview.wait(tuple([ret1, ret2]))"
     ],
     "language": "python",
     "metadata": {},
     "outputs": []
    },
    {
     "cell_type": "code",
     "collapsed": false,
     "input": [
      "a=ret1.get()\n",
      "b=ret2.get()"
     ],
     "language": "python",
     "metadata": {},
     "outputs": []
    },
    {
     "cell_type": "code",
     "collapsed": false,
     "input": [
      "print a,b"
     ],
     "language": "python",
     "metadata": {},
     "outputs": []
    },
    {
     "cell_type": "code",
     "collapsed": false,
     "input": [
      "tuple([\"a\", \"b\", \"c\"])"
     ],
     "language": "python",
     "metadata": {},
     "outputs": []
    },
    {
     "cell_type": "code",
     "collapsed": false,
     "input": [
      "str(Cuts.final*Cuts.mu)"
     ],
     "language": "python",
     "metadata": {},
     "outputs": [
      {
       "output_type": "pyout",
       "prompt_number": 14,
       "text": [
        "'((((((rms_lj < 0.025) && (mt_mu > 50)) && (n_jets == 2.0)) && (n_tags == 1.0)) && (abs(eta_lj) > 2.5)) && (top_mass >130 && top_mass<220)) && (((HLT_IsoMu24_eta2p1_v11 == 1.0 || HLT_IsoMu24_eta2p1_v12 == 1.0 || HLT_IsoMu24_eta2p1_v13 == 1.0 || HLT_IsoMu24_eta2p1_v14 == 1.0 || HLT_IsoMu24_eta2p1_v15 == 1.0) && (n_muons==1.0 && n_eles==0.0)) && (n_veto_mu==0.0 && n_veto_ele==0.0))'"
       ]
      }
     ],
     "prompt_number": 14
    },
    {
     "cell_type": "code",
     "collapsed": false,
     "input": [
      "2249.0/2483.0"
     ],
     "language": "python",
     "metadata": {},
     "outputs": [
      {
       "output_type": "pyout",
       "prompt_number": 12,
       "text": [
        "0.9057591623036649"
       ]
      }
     ],
     "prompt_number": 12
    },
    {
     "cell_type": "code",
     "collapsed": false,
     "input": [
      "iso_mc_fnames"
     ],
     "language": "python",
     "metadata": {},
     "outputs": [
      {
       "output_type": "pyout",
       "prompt_number": 15,
       "text": [
        "['/home/joosep/singletop/stpol/out_step3_05_07_14_19/iso/mc/QCD_Pt_20_30_BCtoE.root',\n",
        " '/home/joosep/singletop/stpol/out_step3_05_07_14_19/iso/mc/DYJets.root',\n",
        " '/home/joosep/singletop/stpol/out_step3_05_07_14_19/iso/mc/QCD_Pt_250_350_EMEnriched.root',\n",
        " '/home/joosep/singletop/stpol/out_step3_05_07_14_19/iso/mc/T_t.root',\n",
        " '/home/joosep/singletop/stpol/out_step3_05_07_14_19/iso/mc/QCD_Pt_170_250_BCtoE.root',\n",
        " '/home/joosep/singletop/stpol/out_step3_05_07_14_19/iso/mc/QCD_Pt_350_BCtoE.root',\n",
        " '/home/joosep/singletop/stpol/out_step3_05_07_14_19/iso/mc/ZZ.root',\n",
        " '/home/joosep/singletop/stpol/out_step3_05_07_14_19/iso/mc/Tbar_tW.root',\n",
        " '/home/joosep/singletop/stpol/out_step3_05_07_14_19/iso/mc/TTJets_SemiLept.root',\n",
        " '/home/joosep/singletop/stpol/out_step3_05_07_14_19/iso/mc/QCD_Pt_350_EMEnriched.root',\n",
        " '/home/joosep/singletop/stpol/out_step3_05_07_14_19/iso/mc/WW.root',\n",
        " '/home/joosep/singletop/stpol/out_step3_05_07_14_19/iso/mc/QCD_Pt_80_170_BCtoE.root',\n",
        " '/home/joosep/singletop/stpol/out_step3_05_07_14_19/iso/mc/T_t_ToLeptons.root',\n",
        " '/home/joosep/singletop/stpol/out_step3_05_07_14_19/iso/mc/GJets2.root',\n",
        " '/home/joosep/singletop/stpol/out_step3_05_07_14_19/iso/mc/Tbar_s.root',\n",
        " '/home/joosep/singletop/stpol/out_step3_05_07_14_19/iso/mc/QCD_Pt_80_170_EMEnriched.root',\n",
        " '/home/joosep/singletop/stpol/out_step3_05_07_14_19/iso/mc/T_tW.root',\n",
        " '/home/joosep/singletop/stpol/out_step3_05_07_14_19/iso/mc/TTJets_MassiveBinDECAY.root',\n",
        " '/home/joosep/singletop/stpol/out_step3_05_07_14_19/iso/mc/QCD_Pt_20_30_EMEnriched.root',\n",
        " '/home/joosep/singletop/stpol/out_step3_05_07_14_19/iso/mc/TTJets_FullLept.root',\n",
        " '/home/joosep/singletop/stpol/out_step3_05_07_14_19/iso/mc/QCD_Pt_250_350_BCtoE.root',\n",
        " '/home/joosep/singletop/stpol/out_step3_05_07_14_19/iso/mc/Tbar_t_ToLeptons.root',\n",
        " '/home/joosep/singletop/stpol/out_step3_05_07_14_19/iso/mc/QCD_Pt_30_80_BCtoE.root',\n",
        " '/home/joosep/singletop/stpol/out_step3_05_07_14_19/iso/mc/WJets_inclusive.root',\n",
        " '/home/joosep/singletop/stpol/out_step3_05_07_14_19/iso/mc/GJets1.root',\n",
        " '/home/joosep/singletop/stpol/out_step3_05_07_14_19/iso/mc/W4Jets_exclusive.root',\n",
        " '/home/joosep/singletop/stpol/out_step3_05_07_14_19/iso/mc/QCD_Pt_30_80_EMEnriched.root',\n",
        " '/home/joosep/singletop/stpol/out_step3_05_07_14_19/iso/mc/W1Jets_exclusive.root',\n",
        " '/home/joosep/singletop/stpol/out_step3_05_07_14_19/iso/mc/Tbar_t.root',\n",
        " '/home/joosep/singletop/stpol/out_step3_05_07_14_19/iso/mc/T_s.root',\n",
        " '/home/joosep/singletop/stpol/out_step3_05_07_14_19/iso/mc/WZ.root',\n",
        " '/home/joosep/singletop/stpol/out_step3_05_07_14_19/iso/mc/W2Jets_exclusive.root',\n",
        " '/home/joosep/singletop/stpol/out_step3_05_07_14_19/iso/mc/QCDMu.root',\n",
        " '/home/joosep/singletop/stpol/out_step3_05_07_14_19/iso/mc/QCD_Pt_170_250_EMEnriched.root',\n",
        " '/home/joosep/singletop/stpol/out_step3_05_07_14_19/iso/mc/W3Jets_exclusive.root']"
       ]
      }
     ],
     "prompt_number": 15
    },
    {
     "cell_type": "code",
     "collapsed": false,
     "input": [],
     "language": "python",
     "metadata": {},
     "outputs": []
    }
   ],
   "metadata": {}
  }
 ]
}