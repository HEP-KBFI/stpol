{
 "metadata": {
  "name": ""
 },
 "nbformat": 3,
 "nbformat_minor": 0,
 "worksheets": [
  {
   "cells": [
    {
     "cell_type": "code",
     "collapsed": false,
     "input": [
      "import ROOT\n",
      "import root_numpy as rnp\n",
      "import numpy as np"
     ],
     "language": "python",
     "metadata": {},
     "outputs": [],
     "prompt_number": 7
    },
    {
     "cell_type": "code",
     "collapsed": false,
     "input": [
      "t = rnp.root2rec(\"Tbar_tW.root\", \"trees/pdf_weights\")"
     ],
     "language": "python",
     "metadata": {},
     "outputs": [],
     "prompt_number": 2
    },
    {
     "cell_type": "code",
     "collapsed": false,
     "input": [
      "mins = []\n",
      "maxs = []\n",
      "for w in t[\"pdf_weights_NNPDF21\"]:\n",
      "    u = max(w)\n",
      "    d = min(w)\n",
      "    mins.append(d)\n",
      "    maxs.append(u)"
     ],
     "language": "python",
     "metadata": {},
     "outputs": [],
     "prompt_number": 13
    },
    {
     "cell_type": "code",
     "collapsed": false,
     "input": [
      "max(maxs)"
     ],
     "language": "python",
     "metadata": {},
     "outputs": [
      {
       "metadata": {},
       "output_type": "pyout",
       "prompt_number": 16,
       "text": [
        "56764.398"
       ]
      }
     ],
     "prompt_number": 16
    },
    {
     "cell_type": "code",
     "collapsed": false,
     "input": [
      "t[\"pdf_weights_NNPDF21\"].any?"
     ],
     "language": "python",
     "metadata": {},
     "outputs": [],
     "prompt_number": 18
    },
    {
     "cell_type": "code",
     "collapsed": false,
     "input": [
      "for x in range(len(t)):\n",
      "    if np.any(t[\"pdf_weights_NNPDF21\"][x] < -1000):\n",
      "        print x\n",
      "    if np.any(t[\"pdf_weights_NNPDF21\"][x] > 1000):\n",
      "        print x\n",
      "    "
     ],
     "language": "python",
     "metadata": {},
     "outputs": [
      {
       "output_type": "stream",
       "stream": "stdout",
       "text": [
        "208105\n",
        "208105\n"
       ]
      }
     ],
     "prompt_number": 23
    },
    {
     "cell_type": "code",
     "collapsed": false,
     "input": [
      "t[208105][\"pdf_weights_NNPDF21\"]"
     ],
     "language": "python",
     "metadata": {},
     "outputs": [
      {
       "metadata": {},
       "output_type": "pyout",
       "prompt_number": 29,
       "text": [
        "array([ -6018.18017578,  14455.76171875,  -3869.92773438,  20518.703125  ,\n",
        "        -3244.45507812,   2149.88842773,  13015.45605469, -18629.78710938,\n",
        "        -7266.76318359, -10122.87695312,  18759.94140625,  10741.57226562,\n",
        "         3514.39306641,  -1110.27111816,   6063.1015625 , -29214.88671875,\n",
        "        35105.0859375 ,  -8262.18261719,  -7058.42675781,   2694.12646484,\n",
        "         9590.11816406,  -1953.63464355,  26471.87304688,  16861.74023438,\n",
        "        12221.8984375 , -13889.6953125 , -21946.91796875,  12067.00097656,\n",
        "         2501.33032227,   2232.31982422,   6383.28710938,  25526.67773438,\n",
        "         2995.8425293 , -15467.83496094,  -7069.62451172,   1112.59973145,\n",
        "        19268.07421875,   6588.50878906,   9130.97558594,  -5389.32714844,\n",
        "       -17135.1171875 ,   1406.41833496,   8587.04101562, -12018.09863281,\n",
        "       -21636.8125    , -11476.0703125 , -19651.17382812,  -4620.03857422,\n",
        "       -14754.1015625 ,  29077.04492188,  -7367.640625  ,   3032.92895508,\n",
        "         4221.8671875 , -14002.54394531,  -5613.70751953,  11348.25097656,\n",
        "        11521.20898438,  -9625.18945312,  19753.9453125 ,  31856.12304688,\n",
        "       -13811.04882812,  10552.43652344, -19830.31445312,  -5114.14697266,\n",
        "       -16975.109375  ,  56764.3984375 ,   9371.39257812,  -5173.34423828,\n",
        "         5503.99804688,  -5672.67675781,  -6696.97167969,  14987.41796875,\n",
        "         -732.79974365,  12592.16601562, -17708.5546875 ,  -7799.38134766,\n",
        "         2441.50317383,  -5162.82275391,   5091.27685547,  -6557.83984375,\n",
        "         4840.69873047,  25612.73828125,  -2104.85546875, -22812.20507812,\n",
        "        18409.98632812, -10097.74707031, -46725.36328125,  11178.41503906,\n",
        "        -6833.36035156,  -7247.35546875, -10527.62109375,  15784.33496094,\n",
        "       -18778.5       ,  17901.52148438, -18128.36523438,  -8101.60888672,\n",
        "       -23215.60546875,   -302.02938843, -13955.76464844, -10967.41601562], dtype=float32)"
       ]
      }
     ],
     "prompt_number": 29
    },
    {
     "cell_type": "code",
     "collapsed": false,
     "input": [
      "    "
     ],
     "language": "python",
     "metadata": {},
     "outputs": []
    }
   ],
   "metadata": {}
  }
 ]
}