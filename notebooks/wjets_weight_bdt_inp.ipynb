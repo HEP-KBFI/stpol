{
 "metadata": {
  "name": ""
 },
 "nbformat": 3,
 "nbformat_minor": 0,
 "worksheets": [
  {
   "cells": [
    {
     "cell_type": "code",
     "collapsed": false,
     "input": [
      "from plots.load_histos2 import load_theta_format"
     ],
     "language": "python",
     "metadata": {},
     "outputs": [],
     "prompt_number": 19
    },
    {
     "cell_type": "code",
     "collapsed": false,
     "input": [
      "won = load_theta_format(\"results/hists/wjets_weight/unweighted/hists_merged__2j1t_baseline__top_mass_sr_mu.root\")\n",
      "print won['top_mass_sr']['nominal'][None]['WJets'].Integral()\n",
      "woff = load_theta_format(\"results/hists/wjets_weight/weighted/hists_merged__2j1t_baseline__top_mass_sr_mu.root\")\n",
      "print woff['top_mass_sr']['wjets_mf_flavour_flat_weight_notapplied']['down']['WJets'].Integral()\n"
     ],
     "language": "python",
     "metadata": {},
     "outputs": [
      {
       "output_type": "stream",
       "stream": "stdout",
       "text": [
        "0.349050202174\n",
        "0.345173955895"
       ]
      },
      {
       "output_type": "stream",
       "stream": "stdout",
       "text": [
        "\n"
       ]
      }
     ],
     "prompt_number": 35
    },
    {
     "cell_type": "code",
     "collapsed": false,
     "input": [
      "hon = won['top_mass_sr']['nominal'][None]['WJets']\n",
      "hoff = woff['top_mass_sr']['wjets_mf_flavour_flat_weight_notapplied']['down']['WJets']\n",
      "for h in [hon, hoff]:\n",
      "    h.Rebin(5)"
     ],
     "language": "python",
     "metadata": {},
     "outputs": [],
     "prompt_number": 36
    },
    {
     "cell_type": "code",
     "collapsed": false,
     "input": [
      "from plots.common.mpl_hists import draw_hists"
     ],
     "language": "python",
     "metadata": {},
     "outputs": [],
     "prompt_number": 37
    },
    {
     "cell_type": "code",
     "collapsed": false,
     "input": [
      "draw_hists([hon, hoff])"
     ],
     "language": "python",
     "metadata": {},
     "outputs": [
      {
       "metadata": {},
       "output_type": "pyout",
       "prompt_number": 38,
       "text": [
        "<matplotlib.axes.AxesSubplot at 0x10bb900d0>"
       ]
      },
      {
       "metadata": {},
       "output_type": "display_data",
       "png": "[encoded data removed]",
       "text": [
        "<matplotlib.figure.Figure at 0x10bb7dcd0>"
       ]
      }
     ],
     "prompt_number": 38
    },
    {
     "cell_type": "code",
     "collapsed": false,
     "input": [
      "a1 = numpy.array(list(hon.y()))\n",
      "a2 = numpy.array(list(hoff.y()))"
     ],
     "language": "python",
     "metadata": {},
     "outputs": [],
     "prompt_number": 32
    },
    {
     "cell_type": "code",
     "collapsed": false,
     "input": [
      "a1 - a2"
     ],
     "language": "python",
     "metadata": {},
     "outputs": [
      {
       "metadata": {},
       "output_type": "pyout",
       "prompt_number": 33,
       "text": [
        "array([ 0.,  0.,  0.,  0.,  0.,  0.,  0.,  0.,  0.,  0.,  0.,  0.])"
       ]
      }
     ],
     "prompt_number": 33
    },
    {
     "cell_type": "code",
     "collapsed": false,
     "input": [],
     "language": "python",
     "metadata": {},
     "outputs": []
    }
   ],
   "metadata": {}
  }
 ]
}