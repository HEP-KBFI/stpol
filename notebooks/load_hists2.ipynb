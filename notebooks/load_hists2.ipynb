{
 "metadata": {
  "name": ""
 },
 "nbformat": 3,
 "nbformat_minor": 0,
 "worksheets": [
  {
   "cells": [
    {
     "cell_type": "code",
     "collapsed": false,
     "input": [
      "from plots.load_histos2 import load_rootfiles"
     ],
     "language": "python",
     "metadata": {},
     "outputs": [],
     "prompt_number": 1
    },
    {
     "cell_type": "code",
     "collapsed": false,
     "input": [
      "rets = load_rootfiles([\"out.root\"], [\".*/mu_[23]j[012]t_mva_loose/.*unweighted.*/cos_theta\"])"
     ],
     "language": "python",
     "metadata": {},
     "outputs": [
      {
       "output_type": "stream",
       "stream": "stderr",
       "text": [
        "INFO:load_histos2] Loading root keys\n"
       ]
      }
     ],
     "prompt_number": 11
    },
    {
     "cell_type": "code",
     "collapsed": false,
     "input": [
      "rets"
     ],
     "language": "python",
     "metadata": {},
     "outputs": [
      {
       "metadata": {},
       "output_type": "pyout",
       "prompt_number": 12,
       "text": [
        "[<ROOT.TH1F object (\"data/37acf5_343e0a9_Aug22/mu/TTJets_SemiLept.root/mu_3j0t_mva_loose/weight__unweighted/cos_theta\") at 0x10b7f0400>,\n",
        " <ROOT.TH1F object (\"data/37acf5_343e0a9_Aug22/mu/TTJets_SemiLept.root/mu_2j0t_mva_loose/weight__unweighted/cos_theta\") at 0x10b7f1470>,\n",
        " <ROOT.TH1F object (\"data/37acf5_343e0a9_Aug22/mu/TTJets_SemiLept.root/mu_3j1t_mva_loose/weight__unweighted/cos_theta\") at 0x10b7f24b0>,\n",
        " <ROOT.TH1F object (\"data/37acf5_343e0a9_Aug22/mu/TTJets_SemiLept.root/mu_2j1t_mva_loose/weight__unweighted/cos_theta\") at 0x10b7f3840>,\n",
        " <ROOT.TH1F object (\"data/37acf5_343e0a9_Aug22/mu/TTJets_SemiLept.root/mu_3j2t_mva_loose/weight__unweighted/cos_theta\") at 0x10b7f4810>,\n",
        " <ROOT.TH1F object (\"data/37acf5_343e0a9_Aug22/mu/TTJets_SemiLept.root/mu_2j2t_mva_loose/weight__unweighted/cos_theta\") at 0x10b7f5820>]"
       ]
      }
     ],
     "prompt_number": 12
    },
    {
     "cell_type": "code",
     "collapsed": false,
     "input": [
      "rets[0].GetName()"
     ],
     "language": "python",
     "metadata": {},
     "outputs": [
      {
       "metadata": {},
       "output_type": "pyout",
       "prompt_number": 10,
       "text": [
        "'data/37acf5_343e0a9_Aug22/mu/TTJets_SemiLept.root/mu_3j0t_mva_loose/weight__unweighted/cos_theta'"
       ]
      }
     ],
     "prompt_number": 10
    },
    {
     "cell_type": "code",
     "collapsed": false,
     "input": [],
     "language": "python",
     "metadata": {},
     "outputs": []
    }
   ],
   "metadata": {}
  }
 ]
}