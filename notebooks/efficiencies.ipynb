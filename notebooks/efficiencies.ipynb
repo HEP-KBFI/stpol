{
 "metadata": {
  "name": ""
 },
 "nbformat": 3,
 "nbformat_minor": 0,
 "worksheets": [
  {
   "cells": [
    {
     "cell_type": "code",
     "collapsed": false,
     "input": [
      "def efficiencies(fn):\n",
      "    f = open(fn)\n",
      "    lines = f.readlines()\n",
      "    its = [[x.strip() for x in l.split(\" | \")] for l in lines]\n",
      "    d = {}\n",
      "    for name, y, e in its:\n",
      "        d[name] = float(y)\n",
      "    x = d[\"ttjets\"]/d[\"mc\"], d[\"wjets\"]/d[\"mc\"], d[\"tchan\"]/d[\"mc\"], (d[\"mc\"]-d[\"tchan\"]) / d[\"mc\"]\n",
      "    print \"%.2f %.2f %.2f %.2f\" % (x[0], x[1], x[2], x[3])\n",
      "    return x"
     ],
     "language": "python",
     "metadata": {},
     "outputs": [],
     "prompt_number": 36
    },
    {
     "cell_type": "code",
     "collapsed": false,
     "input": [
      "a = efficiencies(\"results/yields/2j1t_mva_loose_ele.txt\")"
     ],
     "language": "python",
     "metadata": {},
     "outputs": [
      {
       "output_type": "stream",
       "stream": "stdout",
       "text": [
        "0.13 0.27 0.51 0.49\n"
       ]
      }
     ],
     "prompt_number": 37
    },
    {
     "cell_type": "code",
     "collapsed": false,
     "input": [
      "b = efficiencies(\"results/yields/2j1t_mva_loose_mu.txt\")"
     ],
     "language": "python",
     "metadata": {},
     "outputs": [
      {
       "output_type": "stream",
       "stream": "stdout",
       "text": [
        "0.10 0.29 0.56 0.44\n"
       ]
      }
     ],
     "prompt_number": 38
    },
    {
     "cell_type": "code",
     "collapsed": false,
     "input": [
      "b = efficiencies(\"results/yields/2j1t_cutbased_final_mu.txt\")"
     ],
     "language": "python",
     "metadata": {},
     "outputs": [
      {
       "output_type": "stream",
       "stream": "stdout",
       "text": [
        "0.14 0.30 0.50 0.50\n"
       ]
      }
     ],
     "prompt_number": 39
    },
    {
     "cell_type": "code",
     "collapsed": false,
     "input": [
      "b = efficiencies(\"results/yields/2j1t_cutbased_final_ele.txt\")"
     ],
     "language": "python",
     "metadata": {},
     "outputs": [
      {
       "output_type": "stream",
       "stream": "stdout",
       "text": [
        "0.19 0.27 0.45 0.55\n"
       ]
      }
     ],
     "prompt_number": 40
    },
    {
     "cell_type": "code",
     "collapsed": false,
     "input": [],
     "language": "python",
     "metadata": {},
     "outputs": []
    }
   ],
   "metadata": {}
  }
 ]
}