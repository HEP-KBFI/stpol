{
 "metadata": {
  "name": ""
 },
 "nbformat": 3,
 "nbformat_minor": 0,
 "worksheets": [
  {
   "cells": [
    {
     "cell_type": "code",
     "collapsed": false,
     "input": [
      "from src.unfolded_plot.pseudoexp import asymmetry\n",
      "from plots.common.sample import Sample\n",
      "from plots.common.cuts import Cuts"
     ],
     "language": "python",
     "metadata": {},
     "outputs": [],
     "prompt_number": 2
    },
    {
     "cell_type": "code",
     "collapsed": false,
     "input": [
      "channel = \"ele\"\n",
      "def asym(nbins):\n",
      "    htrue = None\n",
      "    def gen_hist(sample):\n",
      "        hi = sample.drawHistogram(\"true_cos_theta\", str(Cuts.true_lepton(channel)), binning=[nbins, -1, 1])\n",
      "        hi.Scale(s.lumiScaleFactor(20000))\n",
      "        return hi\n",
      "    for fn in [\"T_t_ToLeptons\", \"Tbar_t_ToLeptons\"]:\n",
      "    #for fn in [\"T_t_ToLeptons\"]:\n",
      "        s = Sample.fromFile(\"data/37acf5_343e0a9_Aug22/%s.root\" % (fn))\n",
      "        hi = gen_hist(s)\n",
      "        if htrue:\n",
      "            htrue += hi\n",
      "        else:\n",
      "            htrue = hi\n",
      "    if nbins%2==0:\n",
      "        center = nbins/2+1\n",
      "    else:\n",
      "        center = (nbins+1)/2\n",
      "    return asymmetry(htrue, center), htrue"
     ],
     "language": "python",
     "metadata": {},
     "outputs": [],
     "prompt_number": 32
    },
    {
     "cell_type": "code",
     "collapsed": false,
     "input": [
      "asyms = [(x*2, asym(x*2)) for x in [1,2,3,4,5,10,100, 1000]]"
     ],
     "language": "python",
     "metadata": {},
     "outputs": [],
     "prompt_number": 33
    },
    {
     "cell_type": "code",
     "collapsed": false,
     "input": [
      "asyms"
     ],
     "language": "python",
     "metadata": {},
     "outputs": [
      {
       "metadata": {},
       "output_type": "pyout",
       "prompt_number": 34,
       "text": [
        "[(2, (0.4466036362400713, Hist('fa4d120c6dbd4a59bca4ade30a86b0d7'))),\n",
        " (4, (0.44660362469022336, Hist('3120b17f34f24405aeee771dcdaa76e8'))),\n",
        " (6, (0.44660360124178045, Hist('e8e32df05d8d4e549e88726f4a0f2c7a'))),\n",
        " (8, (0.44660361567909057, Hist('d0b85732a5c447db903a9591debe49d3'))),\n",
        " (10, (0.44660361143508426, Hist('14cae9a9aae042eb83b2e710ef3fedda'))),\n",
        " (20, (0.44660362604676773, Hist('6d99b97518be4934ac1f7c5424f503fe'))),\n",
        " (200, (0.4466036208435352, Hist('704ffcfe2ea54ee7a139a13bdedca3de'))),\n",
        " (2000, (0.44660361876374444, Hist('21a44edee3e94aa7bc55d69ca8131b05')))]"
       ]
      }
     ],
     "prompt_number": 34
    }
   ],
   "metadata": {}
  }
 ]
}