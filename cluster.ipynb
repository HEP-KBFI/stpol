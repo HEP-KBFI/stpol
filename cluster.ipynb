{
 "metadata": {
  "name": ""
 },
 "nbformat": 3,
 "nbformat_minor": 0,
 "worksheets": [
  {
   "cells": [
    {
     "cell_type": "code",
     "collapsed": false,
     "input": [
      "from IPython.parallel import Client\n",
      "import glob\n",
      "rc = Client(profile='nbserver')\n",
      "dview = rc[:]"
     ],
     "language": "python",
     "metadata": {},
     "outputs": []
    },
    {
     "cell_type": "code",
     "collapsed": false,
     "input": [
      "def setup_node(n):\n",
      "    import os, socket\n",
      "    import ROOT\n",
      "    \n",
      "    global state\n",
      "    state = dict()\n",
      "    return n, socket.gethostname(), os.getpid()\n",
      "\n",
      "def load_sample(kwargs):\n",
      "    global state\n",
      "    state = dict()\n",
      "    from plots.common.sample import Sample\n",
      "    from plots.histogramming import tree\n",
      "    import networkx as nx\n",
      "    \n",
      "    fname = kwargs.get(\"fname\")\n",
      "    \n",
      "    out = tree.DictSaver()\n",
      "    graph = nx.DiGraph()\n",
      "    \n",
      "    snode = tree.SampleNode(out, graph, fname, [], [])\n",
      "    state[\"snode\"] = snode\n",
      "    state[\"outdict\"] = out\n",
      "    state[\"graph\"] = graph\n",
      "    \n",
      "    print state\n",
      "\n",
      "def get_column(kwargs):\n",
      "    global state\n",
      "    from plots.histogramming.histo import analysis_tree_all_reweighed\n",
      "\n",
      "    cuts = kwargs.get(\"cuts\")\n",
      "    analysis_tree_all_reweighed(\n",
      "       state[\"graph\"], cuts, [state[\"snode\"]],\n",
      "    )\n",
      "    state[\"snode\"].recurseDown()\n",
      "    kwargs[\"out\"] = state[\"outdict\"]\n",
      "    return kwargs"
     ],
     "language": "python",
     "metadata": {},
     "outputs": []
    },
    {
     "cell_type": "code",
     "collapsed": false,
     "input": [
      "dview.map_sync(setup_node, range(len(dview)))"
     ],
     "language": "python",
     "metadata": {},
     "outputs": []
    },
    {
     "cell_type": "code",
     "collapsed": false,
     "input": [
      "from plots.common.cuts import Cuts\n",
      "fnames = []\n",
      "for line in open(\"/home/joosep/singletop/stpol/files\"):\n",
      "    fnames.append(line.strip())\n",
      "args = [{\"fname\": fn, \"cuts\":[(\"mu_2j1t\", Cuts.hlt(\"mu\")*Cuts.lepton(\"mu\")*Cuts.n_jets(2)*Cuts.n_tags(1))]} for fn in fnames]"
     ],
     "language": "python",
     "metadata": {},
     "outputs": []
    },
    {
     "cell_type": "code",
     "collapsed": false,
     "input": [
      "%time ret=dview.map_async(load_sample, args)"
     ],
     "language": "python",
     "metadata": {},
     "outputs": []
    },
    {
     "cell_type": "code",
     "collapsed": false,
     "input": [
      "%time ret=dview.map_async(get_column, args)"
     ],
     "language": "python",
     "metadata": {},
     "outputs": []
    },
    {
     "cell_type": "code",
     "collapsed": false,
     "input": [
      "ret.wait_interactive()\n",
      "ret.display_outputs()"
     ],
     "language": "python",
     "metadata": {},
     "outputs": [],
     "prompt_number": "*"
    },
    {
     "cell_type": "code",
     "collapsed": false,
     "input": [
      "hi = reduce(lambda x,y: x+y, [r[\"hist\"] for r in ret])"
     ],
     "language": "python",
     "metadata": {},
     "outputs": []
    },
    {
     "cell_type": "code",
     "collapsed": false,
     "input": [
      "ret.get()"
     ],
     "language": "python",
     "metadata": {},
     "outputs": [],
     "prompt_number": "*"
    },
    {
     "cell_type": "code",
     "collapsed": false,
     "input": [],
     "language": "python",
     "metadata": {},
     "outputs": []
    }
   ],
   "metadata": {}
  }
 ]
}